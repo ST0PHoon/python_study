{
 "cells": [
  {
   "cell_type": "code",
   "execution_count": 2,
   "id": "7649d59e",
   "metadata": {},
   "outputs": [],
   "source": [
    "class elevator: #클래스 선언\n",
    "    def __init__(self,floor,limit_up_floor,limit_down_floor,msg): #함수 선언, 인수, 4개를 받는다.\n",
    "        self.floor=floor #현재 층을 담는 변수\n",
    "        self.limit_up_floor=limit_up_floor # 최고 층을 받는 변수\n",
    "        self.limit_down_floor=limit_down_floor # 최저 층을 받는 변수\n",
    "        self.msg=msg  #메세지를 받는 변수\n",
    "\n",
    "    def up(self): #up 함수 선언\n",
    "        if self.floor == self.limit_up_floor: #만약 최상층에 도착했으면\n",
    "            self.msg=\"최상층 입니다\" #최상층입니다 메세지 출력\n",
    "        else: #그게 아니라면\n",
    "            self.floor+=1  # 1층을 올리고\n",
    "            self.msg=str(self.floor)+\"층입니다\" #한층 올린 층입니다. 라고 메세지 출력\n",
    "        print(self.msg)\n",
    "\n",
    "    def down(self): #down 함수 선언\n",
    "        if self.floor == self.limit_down_floor: #만약 최하층에 도착하면 \n",
    "            self.msg=\"최하층 입니다\" #최하층 입니다 메세지 출력\n",
    "        else: #그게 아니라면\n",
    "            self.floor-=1 #1층 내려가고\n",
    "            self.msg=str(self.floor)+\"층입니다\" #내려온층 입니다. 메세지 출력\n",
    "        print(self.msg)"
   ]
  },
  {
   "cell_type": "code",
   "execution_count": 3,
   "id": "fe942fa5",
   "metadata": {},
   "outputs": [
    {
     "name": "stdout",
     "output_type": "stream",
     "text": [
      "2층입니다\n",
      "3층입니다\n",
      "4층입니다\n",
      "5층입니다\n",
      "6층입니다\n",
      "7층입니다\n",
      "8층입니다\n",
      "9층입니다\n",
      "10층입니다\n",
      "11층입니다\n",
      "12층입니다\n",
      "13층입니다\n",
      "14층입니다\n",
      "15층입니다\n",
      "최상층 입니다\n",
      "최상층 입니다\n",
      "최상층 입니다\n",
      "최상층 입니다\n",
      "최상층 입니다\n",
      "최상층 입니다\n",
      "14층입니다\n",
      "13층입니다\n",
      "12층입니다\n",
      "11층입니다\n",
      "10층입니다\n",
      "9층입니다\n",
      "8층입니다\n",
      "7층입니다\n",
      "6층입니다\n",
      "5층입니다\n",
      "4층입니다\n",
      "3층입니다\n",
      "2층입니다\n",
      "1층입니다\n",
      "0층입니다\n",
      "최하층 입니다\n",
      "최하층 입니다\n",
      "최하층 입니다\n",
      "최하층 입니다\n",
      "최하층 입니다\n"
     ]
    }
   ],
   "source": [
    "myclass = elevator(1,15,0,\"\") #(현재1층, 최저0층, 최고15층, 메시지)\n",
    "#값으로 클래스생성\n",
    "\n",
    "for i in range(20): #20번 up()를 실행\n",
    "    myclass.up()\n",
    "for i in range(20): #20번 down()을 실\n",
    "    myclass.down()"
   ]
  },
  {
   "cell_type": "code",
   "execution_count": 11,
   "id": "00b85b76",
   "metadata": {},
   "outputs": [],
   "source": [
    "class elevator: #클래스 선언\n",
    "    def __init__(self,floor,limit_up_floor,limit_down_floor,msg): #함수 선언, 인수, 4개를 받는다.\n",
    "        self.floor=floor #현재 층을 담는 변수\n",
    "        self.limit_up_floor=limit_up_floor # 최고 층을 받는 변수\n",
    "        self.limit_down_floor=limit_down_floor # 최저 층을 받는 변수\n",
    "        self.msg=msg  #메세지를 받는 변수\n",
    "\n",
    "    def up(self): #up 함수 선언\n",
    "        if self.floor == self.limit_up_floor: #만약 최상층에 도착했으면\n",
    "            self.msg=\"최상층 입니다\" #최상층입니다 메세지 출력\n",
    "        else: #그게 아니라면\n",
    "            self.floor+=1  # 1층을 올리고\n",
    "            self.msg=str(self.floor)+\"층입니다\" #한층 올린 층입니다. 라고 메세지 출력\n",
    "        print(self.msg)\n",
    "\n",
    "    def down(self): #down 함수 선언\n",
    "        if self.floor == self.limit_down_floor: #만약 최하층에 도착하면 \n",
    "            self.msg=\"최하층 입니다\" #최하층 입니다 메세지 출력\n",
    "        else: #그게 아니라면\n",
    "            self.floor-=1 #1층 내려가고\n",
    "            self.msg=str(self.floor)+\"층입니다\" #내려온층 입니다. 메세지 출력\n",
    "        print(self.msg)"
   ]
  },
  {
   "cell_type": "code",
   "execution_count": 5,
   "id": "a0ef1043",
   "metadata": {},
   "outputs": [
    {
     "name": "stdout",
     "output_type": "stream",
     "text": [
      "myclass->2층입니다\n",
      "yourclass->6층입니다\n",
      "myclass->3층입니다\n",
      "yourclass->7층입니다\n",
      "myclass->4층입니다\n",
      "yourclass->8층입니다\n",
      "myclass->5층입니다\n",
      "yourclass->9층입니다\n",
      "myclass->6층입니다\n",
      "yourclass->10층입니다\n",
      "myclass->7층입니다\n",
      "yourclass->최상층 입니다\n",
      "myclass->8층입니다\n",
      "yourclass->최상층 입니다\n",
      "myclass->9층입니다\n",
      "yourclass->최상층 입니다\n",
      "myclass->10층입니다\n",
      "yourclass->최상층 입니다\n",
      "myclass->11층입니다\n",
      "yourclass->최상층 입니다\n",
      "myclass->12층입니다\n",
      "yourclass->최상층 입니다\n",
      "myclass->13층입니다\n",
      "yourclass->최상층 입니다\n",
      "myclass->14층입니다\n",
      "yourclass->최상층 입니다\n",
      "myclass->15층입니다\n",
      "yourclass->최상층 입니다\n",
      "myclass->최상층 입니다\n",
      "yourclass->최상층 입니다\n",
      "myclass->최상층 입니다\n",
      "yourclass->최상층 입니다\n",
      "myclass->최상층 입니다\n",
      "yourclass->최상층 입니다\n",
      "myclass->최상층 입니다\n",
      "yourclass->최상층 입니다\n",
      "myclass->최상층 입니다\n",
      "yourclass->최상층 입니다\n",
      "myclass->최상층 입니다\n",
      "yourclass->최상층 입니다\n",
      "myclass->14층입니다\n",
      "yourclass->9층입니다\n",
      "myclass->13층입니다\n",
      "yourclass->8층입니다\n",
      "myclass->12층입니다\n",
      "yourclass->7층입니다\n",
      "myclass->11층입니다\n",
      "yourclass->6층입니다\n",
      "myclass->10층입니다\n",
      "yourclass->5층입니다\n",
      "myclass->9층입니다\n",
      "yourclass->4층입니다\n",
      "myclass->8층입니다\n",
      "yourclass->3층입니다\n",
      "myclass->7층입니다\n",
      "yourclass->2층입니다\n",
      "myclass->6층입니다\n",
      "yourclass->1층입니다\n",
      "myclass->5층입니다\n",
      "yourclass->0층입니다\n",
      "myclass->4층입니다\n",
      "yourclass->-1층입니다\n",
      "myclass->3층입니다\n",
      "yourclass->최하층 입니다\n",
      "myclass->2층입니다\n",
      "yourclass->최하층 입니다\n",
      "myclass->1층입니다\n",
      "yourclass->최하층 입니다\n",
      "myclass->0층입니다\n",
      "yourclass->최하층 입니다\n",
      "myclass->최하층 입니다\n",
      "yourclass->최하층 입니다\n",
      "myclass->최하층 입니다\n",
      "yourclass->최하층 입니다\n",
      "myclass->최하층 입니다\n",
      "yourclass->최하층 입니다\n",
      "myclass->최하층 입니다\n",
      "yourclass->최하층 입니다\n",
      "myclass->최하층 입니다\n",
      "yourclass->최하층 입니다\n"
     ]
    }
   ],
   "source": [
    "myclass = elevator(1,15,0,\"\") # 1층, 최고층 15층, 최저층 0층, 메세지는 빈 칸\n",
    "yourclass = elevator(5,10,-1,\"\") # 5층, 최고층 10층, 최저층 지하 1층, 메세지는 빈 칸\n",
    "\n",
    "for i in range(20): #20번 up()를 실행\n",
    "    print(\"myclass->\",end=\"\") #\n",
    "    myclass.up()\n",
    "    print(\"yourclass->\",end=\"\")\n",
    "    yourclass.up()\n",
    "\n",
    "for i in range(20): #20번 down()을 실행\n",
    "    print(\"myclass->\",end=\"\")\n",
    "    myclass.down()\n",
    "    print(\"yourclass->\",end=\"\")\n",
    "    yourclass.down()"
   ]
  },
  {
   "cell_type": "code",
   "execution_count": 6,
   "id": "b87e5108",
   "metadata": {},
   "outputs": [],
   "source": [
    "class elevator: #클래스 선언\n",
    "    def __init__(self,floor,limit_up_floor,limit_down_floor,msg): # 인수 4개를 받는 메소드 작성(현재층, 최고, 최하, 메세지)\n",
    "        self.floor=floor #받아온 현재층 입력\n",
    "        self.limit_up_floor=limit_up_floor #받아온 최고층 입력\n",
    "        self.limit_down_floor=limit_down_floor #받아온 최저층 입력\n",
    "        self.msg=msg #받아온 메세지 입력"
   ]
  },
  {
   "cell_type": "code",
   "execution_count": 7,
   "id": "43bbe728",
   "metadata": {},
   "outputs": [],
   "source": [
    "#1층, 최저0층, 최고15층, 메시지 빈 값으로 클래스생성\n",
    "myclass = elevator(1,15,0,\"\")\n",
    "\n",
    "#1층, 최저0층, 최고15층, 메시지 빈 값으로 클래스생성\n",
    "yourclass = elevator(5,10,-1,\"\")"
   ]
  },
  {
   "cell_type": "code",
   "execution_count": 12,
   "id": "0746bf09",
   "metadata": {},
   "outputs": [],
   "source": []
  },
  {
   "cell_type": "code",
   "execution_count": 13,
   "id": "4335c239",
   "metadata": {},
   "outputs": [
    {
     "ename": "IndentationError",
     "evalue": "expected an indented block after 'for' statement on line 3 (3117167486.py, line 4)",
     "output_type": "error",
     "traceback": [
      "\u001b[1;36m  Input \u001b[1;32mIn [13]\u001b[1;36m\u001b[0m\n\u001b[1;33m    myclass.up()\u001b[0m\n\u001b[1;37m    ^\u001b[0m\n\u001b[1;31mIndentationError\u001b[0m\u001b[1;31m:\u001b[0m expected an indented block after 'for' statement on line 3\n"
     ]
    }
   ],
   "source": []
  },
  {
   "cell_type": "code",
   "execution_count": 14,
   "id": "004ad652",
   "metadata": {},
   "outputs": [],
   "source": [
    "class elevator: #클래스 선언\n",
    "    def __init__(self,floor,limit_up_floor,limit_down_floor,msg): #함수 선언, 인수, 4개를 받는다.\n",
    "        self.floor=floor #현재 층을 담는 변수\n",
    "        self.limit_up_floor=limit_up_floor # 최고 층을 받는 변수\n",
    "        self.limit_down_floor=limit_down_floor # 최저 층을 받는 변수\n",
    "        self.msg=msg  #메세지를 받는 변수\n",
    "\n",
    "    def up(self): #up 함수 선언\n",
    "        if self.floor == self.limit_up_floor: #만약 최상층에 도착했으면\n",
    "            self.msg=\"최상층 입니다\" #최상층입니다 메세지 출력\n",
    "        else: #그게 아니라면\n",
    "            self.floor+=1  # 1층을 올리고\n",
    "            self.msg=str(self.floor)+\"층입니다\" #한층 올린 층입니다. 라고 메세지 출력\n",
    "        print(self.msg)\n",
    "\n",
    "    def down(self): #down 함수 선언\n",
    "        if self.floor == self.limit_down_floor: #만약 최하층에 도착하면 \n",
    "            self.msg=\"최하층 입니다\" #최하층 입니다 메세지 출력\n",
    "        else: #그게 아니라면\n",
    "            self.floor-=1 #1층 내려가고\n",
    "            self.msg=str(self.floor)+\"층입니다\" #내려온층 입니다. 메세지 출력\n",
    "        print(self.msg)"
   ]
  },
  {
   "cell_type": "code",
   "execution_count": 15,
   "id": "4f4f1f2c",
   "metadata": {},
   "outputs": [],
   "source": [
    "class s_elevator(elevator): #엘리베이터 받는 함수 선언\n",
    "    def __init__(self): #상속자\n",
    "        super().__init__(1,15,0,\"\") #1층 최고 15, 최저 0, 메세지는 빈 칸\n",
    "    def up(self): #up 함수\n",
    "        super().up() #elevator의 up 2번 실행하는 함수\n",
    "        super().up()\n",
    "    def down(self): #elevator의 down 2번 실행하는 함수\n",
    "        super().down()\n",
    "        super().down()"
   ]
  },
  {
   "cell_type": "code",
   "execution_count": 16,
   "id": "b1cb75bc",
   "metadata": {},
   "outputs": [
    {
     "name": "stdout",
     "output_type": "stream",
     "text": [
      "2층입니다\n",
      "3층입니다\n",
      "2층입니다\n",
      "1층입니다\n",
      "2층입니다\n",
      "3층입니다\n",
      "2층입니다\n",
      "1층입니다\n",
      "2층입니다\n",
      "3층입니다\n",
      "2층입니다\n",
      "1층입니다\n",
      "2층입니다\n",
      "3층입니다\n",
      "2층입니다\n",
      "1층입니다\n",
      "2층입니다\n",
      "3층입니다\n",
      "2층입니다\n",
      "1층입니다\n",
      "2층입니다\n",
      "3층입니다\n",
      "2층입니다\n",
      "1층입니다\n",
      "2층입니다\n",
      "3층입니다\n",
      "2층입니다\n",
      "1층입니다\n",
      "2층입니다\n",
      "3층입니다\n",
      "2층입니다\n",
      "1층입니다\n",
      "2층입니다\n",
      "3층입니다\n",
      "2층입니다\n",
      "1층입니다\n",
      "2층입니다\n",
      "3층입니다\n",
      "2층입니다\n",
      "1층입니다\n",
      "2층입니다\n",
      "3층입니다\n",
      "2층입니다\n",
      "1층입니다\n",
      "2층입니다\n",
      "3층입니다\n",
      "2층입니다\n",
      "1층입니다\n",
      "2층입니다\n",
      "3층입니다\n",
      "2층입니다\n",
      "1층입니다\n",
      "2층입니다\n",
      "3층입니다\n",
      "2층입니다\n",
      "1층입니다\n",
      "2층입니다\n",
      "3층입니다\n",
      "2층입니다\n",
      "1층입니다\n",
      "2층입니다\n",
      "3층입니다\n",
      "2층입니다\n",
      "1층입니다\n",
      "2층입니다\n",
      "3층입니다\n",
      "2층입니다\n",
      "1층입니다\n",
      "2층입니다\n",
      "3층입니다\n",
      "2층입니다\n",
      "1층입니다\n",
      "2층입니다\n",
      "3층입니다\n",
      "2층입니다\n",
      "1층입니다\n",
      "2층입니다\n",
      "3층입니다\n",
      "2층입니다\n",
      "1층입니다\n"
     ]
    }
   ],
   "source": [
    "#myclass = elevator(1,15,0,\"\") s_elevator의 기본 설정\n",
    "myclass = s_elevator() #myclass에 s_elevator 선언\n",
    "for i in range(20): #20번 up()를 실행\n",
    "    myclass.up()\n",
    "    myclass.down()"
   ]
  },
  {
   "cell_type": "code",
   "execution_count": 18,
   "id": "8c5946bb",
   "metadata": {},
   "outputs": [
    {
     "name": "stdout",
     "output_type": "stream",
     "text": [
      "3125\n"
     ]
    }
   ],
   "source": [
    "class multibox: #클래스 선언\n",
    "    def __init__(self,multi): #생성자 선언, multi를 인수로 받는다.\n",
    "        self.multi=multi\n",
    "    def getnumber(self): #getnumber 제곱 계산함수 값을 리턴한다\n",
    "        return self.num**self.multi\n",
    "    def setnumber(self,num): #getnumber에서 쓸 밑 값을 받는다.\n",
    "        self.num=num\n",
    "\n",
    "m=multibox(5) #몇승 할지 입력 5\n",
    "m.setnumber(5) #밑에 들어갈 수를 입력 5\n",
    "print(m.getnumber()) #5의 5승 출력"
   ]
  },
  {
   "cell_type": "code",
   "execution_count": 19,
   "id": "b9cb8092",
   "metadata": {},
   "outputs": [
    {
     "name": "stdout",
     "output_type": "stream",
     "text": [
      "3125\n"
     ]
    }
   ],
   "source": [
    "class multibox: #클래스 선언\n",
    "    def __init__(self,multi): #생성자 선언, multi를 인수로 받는다.\n",
    "        self.multi=multi\n",
    "    def getnumber(self): #getnumber 제곱 계산함수 값을 리턴한다\n",
    "        return self.num**self.multi\n",
    "    def setnumber(self,num): #getnumber에서 쓸 밑 값을 받는다.\n",
    "        self.num=num\n",
    "    number=property(getnumber,setnumber) #get, set 한 값을 number에 계산\n",
    "\n",
    "m=multibox(5) #5승\n",
    "m.number=5 #5의\n",
    "print(m.number) #제곱 결과 출력"
   ]
  },
  {
   "cell_type": "code",
   "execution_count": 20,
   "id": "8680b110",
   "metadata": {},
   "outputs": [
    {
     "name": "stdout",
     "output_type": "stream",
     "text": [
      "3125\n"
     ]
    }
   ],
   "source": [
    "class multibox: #클래스 선언\n",
    "    def __init__(self,multi): #생성자 선언\n",
    "        self.multi=multi #받아온 인수를 변수에 넣는다.\n",
    "    @property #데코레이터로 선언 property선언\n",
    "    def number(self): #제곱을 계산하는 함수\n",
    "        return self.num**self.multi\n",
    "    @number.setter #데코레이션으로 setter 입력\n",
    "    def number(self,num): #밑수를 받아온다.\n",
    "        self.num=num\n",
    "\n",
    "m=multibox(5) #5승\n",
    "m.number=5 #5의\n",
    "print(m.number) #결과 출력"
   ]
  },
  {
   "cell_type": "code",
   "execution_count": 21,
   "id": "1fbe4539",
   "metadata": {},
   "outputs": [
    {
     "name": "stdout",
     "output_type": "stream",
     "text": [
      "클래스 참조횟수는 2 회 입니다\n"
     ]
    }
   ],
   "source": [
    "class myclass: #클래스 선언\n",
    "    cnt=0 #내부 static변수\n",
    "    def __init__(self): #생성자 선언  \n",
    "        myclass.cnt+=1 #myclass의 static변수\n",
    "    @classmethod #클래스 메서드 선언\n",
    "    def refcount(cls): #self가 아니라 cls로 정의\n",
    "        print(\"클래스 참조횟수는\",cls.cnt,\"회 입니다\")\n",
    "\n",
    "a=myclass() #myclass() 메소드로 실행\n",
    "b=myclass() #myclass() 메소드로 실행\n",
    "myclass.refcount() #2회 실행 한 메세지 출력"
   ]
  },
  {
   "cell_type": "code",
   "execution_count": 22,
   "id": "2cd957a7",
   "metadata": {},
   "outputs": [
    {
     "name": "stdout",
     "output_type": "stream",
     "text": [
      "이 클래스는 아무런 일도 하지 않는다\n",
      "이 클래스는 아무런 일도 하지 않는다\n"
     ]
    }
   ],
   "source": [
    "class myclass: #클래스 선언\n",
    "    cnt=0  #static 변수\n",
    "    def __init__(self): #생성자 선언 \n",
    "        myclass.cnt+=1  # 값을 1 증가\n",
    "    @staticmethod #정적 메서드 선언\n",
    "    def helf(): #아래 메세지 출력하는 메소드 생성\n",
    "        print(\"이 클래스는 아무런 일도 하지 않는다\")\n",
    "\n",
    "myclass.helf() #helf 메세지 출력\n",
    "a=myclass() #myclass 메소드 실행\n",
    "myclass.helf() #helf 메세지 출력"
   ]
  },
  {
   "cell_type": "code",
   "execution_count": 24,
   "id": "695b2f55",
   "metadata": {},
   "outputs": [
    {
     "name": "stdout",
     "output_type": "stream",
     "text": [
      "defabc\n"
     ]
    }
   ],
   "source": [
    "class mystr: #클래스 선언\n",
    "    def __init__(self,s): #생성자 선언, s를 인수로 받는다.\n",
    "        self.s=s #인수로 받은 s 를 변수 s 에 지정\n",
    "    def __add__(self, other): # 클래스간 +연산자를 정의\n",
    "        return other.s + self.s # 문자간 연산을 반대로 수행\n",
    "\n",
    "a = mystr(\"abc\") #abc를 생성자로 받는다\n",
    "b = mystr(\"def\") #def를 생성자로 받는다.\n",
    "print(a+b) #두개를 합한 문자열을 출력한다. 단 이때 __add__때문에 순서는 바뀐다."
   ]
  },
  {
   "cell_type": "code",
   "execution_count": 25,
   "id": "36729830",
   "metadata": {},
   "outputs": [
    {
     "name": "stdout",
     "output_type": "stream",
     "text": [
      "9.99999999999998\n"
     ]
    }
   ],
   "source": [
    "sum=0 #변수 선언, 숫자형\n",
    "for i in range(100): #0부터99까지 실행하는 for문 작성\n",
    "    sum+=0.1 #0.1씩 더한다\n",
    "\n",
    "print(sum) #10이 나와야하지만 9.999가나온다. 전산적 오류"
   ]
  },
  {
   "cell_type": "code",
   "execution_count": 26,
   "id": "1cd624ca",
   "metadata": {},
   "outputs": [
    {
     "name": "stdout",
     "output_type": "stream",
     "text": [
      "0.1 => 9.99999999999998\n",
      "0.1000000000000000055511151231257827021181583404541015625 => 10.00000000000000055511151230\n",
      "0.1 => 10.0\n"
     ]
    }
   ],
   "source": [
    "from decimal import Decimal #deciaml 임포트\n",
    "\n",
    "a_sum=0; b_sum=0; c_sum=0 #변수 3개 생성 각 합을 담을 예정\n",
    "\n",
    "a=0.1 #a 에 0.1 입력\n",
    "b=Decimal(a)  #데시말로 정수형으로 변경\n",
    "c=Decimal(\"0.1\") #문자형으로 받은 0.1도 정수형으로 변경\n",
    "\n",
    "for i in range(100): # 100번 더하는 for문 작성\n",
    "    a_sum+=a #기존의 a는 9.99998\n",
    "    b_sum+=b #숫자형 0.1을 데시말로 바꾼값\n",
    "    c_sum+=c #문자형 0.1을 데시말로 바꾼값\n",
    "#결과 출력구간\n",
    "print(a,\"=>\",a_sum) \n",
    "print(b,\"=>\",b_sum)\n",
    "print(c,\"=>\",c_sum)"
   ]
  },
  {
   "cell_type": "code",
   "execution_count": 27,
   "id": "c6caac2b",
   "metadata": {},
   "outputs": [
    {
     "name": "stdout",
     "output_type": "stream",
     "text": [
      "2/3 + 1/2 = 7/6\n",
      "2/3 * 1/2 = 1/3\n",
      "2/3 * 1.5 = 2.1666666666666665\n"
     ]
    }
   ],
   "source": [
    "from fractions import * #fractions 호출\n",
    "\n",
    "a=Fraction(2,3) #2/3\n",
    "b=Fraction(5,10) #5/10 = 1/2\n",
    "\n",
    "print(a,\"+\",b,\"=\",a+b) #분수 합을 출력한다.\n",
    "print(a,\"*\",b,\"=\",a*b) #분수 곱을 출력한다.\n",
    "print(a,\"*\",1.5,\"=\",a+1.5) #분수 곱에 1.5를 더한다"
   ]
  },
  {
   "cell_type": "code",
   "execution_count": null,
   "id": "b65d2762",
   "metadata": {},
   "outputs": [],
   "source": []
  }
 ],
 "metadata": {
  "kernelspec": {
   "display_name": "Python 3 (ipykernel)",
   "language": "python",
   "name": "python3"
  },
  "language_info": {
   "codemirror_mode": {
    "name": "ipython",
    "version": 3
   },
   "file_extension": ".py",
   "mimetype": "text/x-python",
   "name": "python",
   "nbconvert_exporter": "python",
   "pygments_lexer": "ipython3",
   "version": "3.10.4"
  }
 },
 "nbformat": 4,
 "nbformat_minor": 5
}
