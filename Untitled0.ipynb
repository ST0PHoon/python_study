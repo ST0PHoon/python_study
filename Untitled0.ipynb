{
 "cells": [
  {
   "cell_type": "code",
   "execution_count": 17,
   "id": "ff195e65",
   "metadata": {},
   "outputs": [
    {
     "name": "stdout",
     "output_type": "stream",
     "text": [
      "==================================================\n",
      "이름\t국어\t영어\t수학\t총점\t평균\n",
      "==================================================\n",
      "나연 \t 100 \t 90 \t 90 \t 280 \t 93\n",
      "정연 \t 90 \t 70 \t 80 \t 240 \t 80\n",
      "모모 \t 90 \t 100 \t 70 \t 260 \t 86\n",
      "사나 \t 100 \t 100 \t 100 \t 300 \t 100\n",
      "지효 \t 80 \t 70 \t 90 \t 240 \t 80\n",
      "미나 \t 80 \t 70 \t 90 \t 240 \t 80\n",
      "다현 \t 70 \t 60 \t 100 \t 230 \t 76\n",
      "채영 \t 80 \t 90 \t 90 \t 260 \t 86\n",
      "쯔위 \t 80 \t 90 \t 80 \t 250 \t 83\n",
      "==================================================\n",
      "반총점\t 770 \t 740 \t 790 \t 2300 \t 85.0\n",
      "==================================================\n"
     ]
    }
   ],
   "source": [
    "def titleprint(): #함수를 선언해둔다\n",
    "    print(\"=\"*50) #구분선 50개 출력\n",
    "    print(\"이름\\t국어\\t영어\\t수학\\t총점\\t평균\") #이름 과목별 성적 칸 만들기\n",
    "    print(\"=\"*50) #구분선 50개 출력\n",
    "\n",
    "def itemprint(name,kor,eng,mat): #함수를 선언해둔다.(인수4개)\n",
    "    print(name,\"\\t\",kor,\"\\t\",eng,\"\\t\",mat,\"\\t\",kor+eng+mat,\"\\t\",(kor+eng+mat)//3)\n",
    "    #인수로 받아온 이름 국어,영어,수학(성적)과 합계 평균을 계산해서 출력한다.\n",
    "    \n",
    "def tailprint(): #함수를 선언해둔다.\n",
    "    totkor=0 #국어성적 합계 변수\n",
    "    for i in ckor: #국어 배열을 돌면서 성적 합계 계산\n",
    "        totkor+=i\n",
    "        \n",
    "    toteng=0 #영어성적 합계 변수\n",
    "    for i in ceng: #영어 배열을 돌면서 성적 합계 계산\n",
    "        toteng+=i\n",
    "        \n",
    "    totmat=0 #수학성적 합계 변수\n",
    "    for i in cmat: #수학 배열을 돌면서 성적 합계 계산\n",
    "        totmat+=i\n",
    "    print(\"=\"*50) #구분선 출력\n",
    "    #반 인원의 성적 총점 계산\n",
    "    print(\"반총점\\t\",totkor,\"\\t\",toteng,\"\\t\",totmat,\"\\t\" \\\n",
    "        ,(totkor+toteng+totmat),\"\\t\",(totkor+toteng+totmat)/3//9)\n",
    "    print(\"=\"*50) #구분선 출력\n",
    "\n",
    "#데이터 입력\n",
    "cname=[\"나연\",\"정연\",\"모모\",\"사나\",\"지효\",\"미나\",\"다현\",\"채영\",\"쯔위\"]\n",
    "ckor=[100, 90, 90, 100, 80, 80, 70, 80, 80]\n",
    "ceng=[90, 70, 100, 100, 70, 70, 60, 90, 90]\n",
    "cmat=[90, 80, 70, 100, 90, 90, 100, 90, 80]\n",
    "\n",
    "#프로그램 실행구간\n",
    "titleprint()\n",
    "for i in range(9):\n",
    "    itemprint(cname[i],ckor[i],ceng[i],cmat[i])\n",
    "    \n",
    "tailprint()"
   ]
  },
  {
   "cell_type": "code",
   "execution_count": 18,
   "id": "4174bb43",
   "metadata": {},
   "outputs": [
    {
     "name": "stdout",
     "output_type": "stream",
     "text": [
      "case 1: 1\n",
      "case 2: 7\n",
      "case 3: 9505\n"
     ]
    }
   ],
   "source": [
    "def sumsum(*num): #num 여러개를 인수로 받는 함수 선언\n",
    "    sum=0 #합계를 구할 변수선언\n",
    "    for i in num: #인수로 받은 num들을 for에 하나씩 넣는다\n",
    "        sum+=i #받은 인수를 모두 더한다.\n",
    "    return sum #합계를 반환한다.\n",
    "\n",
    "print(\"case 1:\", sumsum(1)) #1를 더한 값 출력\n",
    "print(\"case 2:\", sumsum(1,2,4)) #1 2 4를 더한 값 출력\n",
    "print(\"case 3:\", sumsum(1,2,34,567,8901)) # 1 2 34 567 8910을 더한 값 출력"
   ]
  },
  {
   "cell_type": "code",
   "execution_count": 20,
   "id": "8dac9c97",
   "metadata": {},
   "outputs": [
    {
     "name": "stdout",
     "output_type": "stream",
     "text": [
      "case 1: 1\n",
      "case 2: 7\n",
      "case 3: 9505\n"
     ]
    }
   ],
   "source": [
    "def sumsum(num): #num 1개를 인수로 받는다(배열로 받으면 배열값 모두 더함)\n",
    "    sum=0 #합계를 구할 변수 선언\n",
    "    for i in num: #num의 모든 수를 더하는 for문 작성\n",
    "        sum+=i\n",
    "    return sum #더한 값을 반환한다\n",
    "\n",
    "print(\"case 1:\", sumsum([1])) #1을 더한 값 출력\n",
    "print(\"case 2:\", sumsum([1,2,4])) #1 2 4를 모두 더한 값 출력\n",
    "print(\"case 3:\", sumsum([1,2,34,567,8901]))#1 2 34 567 8910을 모두 더한 값 출력"
   ]
  },
  {
   "cell_type": "code",
   "execution_count": 22,
   "id": "b09dfef9",
   "metadata": {},
   "outputs": [
    {
     "name": "stdout",
     "output_type": "stream",
     "text": [
      "case 1: 55\n",
      "case 2: 3825\n",
      "case 3: 495550\n"
     ]
    }
   ],
   "source": [
    "def defaultest(start,end=1000,step=1): #함수 선언, 1씩 증가하고 마지막은 1000\n",
    "    sum=0 #합을 구할 변수선언\n",
    "    for i in range(start,end+1,step): #시작 값부터 끝값까지 step만큼 증가한 for문\n",
    "        sum+=i # 받아온 값들을 모두 더한다\n",
    "    return sum #더한 결과를 반환한다\n",
    "\n",
    "print(\"case 1:\", defaultest(0,10,1)) #0부터 10까지 1씩 증가한 값들을 더한다(55)\n",
    "#step 생략, 맨뒤 step의 기본값(1)로 처리\n",
    "print(\"case 2:\", defaultest(50,100))  # 50부터 100까지 1씩 증가하며 더함\n",
    "#end 생략, 기본 값(1000)으로 처리\n",
    "print(\"case 3:\", defaultest(100)) #100부터 1씩 증가, 1000까지 증가하며 더함"
   ]
  },
  {
   "cell_type": "code",
   "execution_count": 24,
   "id": "15689afa",
   "metadata": {},
   "outputs": [
    {
     "ename": "SyntaxError",
     "evalue": "unmatched ')' (2529189695.py, line 12)",
     "output_type": "error",
     "traceback": [
      "\u001b[1;36m  Input \u001b[1;32mIn [24]\u001b[1;36m\u001b[0m\n\u001b[1;33m    defaultest(start=0,step=1,10)) #중간부터 사용하면 에러 발생\u001b[0m\n\u001b[1;37m                                 ^\u001b[0m\n\u001b[1;31mSyntaxError\u001b[0m\u001b[1;31m:\u001b[0m unmatched ')'\n"
     ]
    }
   ],
   "source": [
    "def defaultest(start,end=1000,step=1): #인수3개를 받는 함수, 디폴트 1000, 1 지정\n",
    "    sum=0 #합을 구할 변수 선언\n",
    "    for i in range(start,end+1,step): #start부터 end까지 step만큼 증가한 값을 모두 더함\n",
    "        sum+=i \n",
    "    return sum #더한 값을 반환한다.\n",
    "\n",
    "print(\"case 1:\", defaultest(0,10,1)) #0부터 10까지 1씩증가하며 더한 값을 출력\n",
    "print(\"case 2:\", defaultest(start=0,end=10,step=1)) #키워드를 지정, 0부터 10까지 1씩 증가하며 모두 더함\n",
    "print(\"case 3:\", defaultest(step=1,end=10,start=0)) #키워드 지정, 순서를 바꿨지만 위와 같은 결과\n",
    "print(\"case 4:\", defaultest(0,10,step=1)) #맨뒤로부터만 키워드인수를 사용하고 앞은 일반인수\n",
    "print(\"case 5:\", defaultest(0,step=1,end=10)) #맨뒤 2개로부터만 키워드인수를 사용하고 앞은 일반인수\n",
    "defaultest(start=0,step=1,10)) #중간부터 사용하면 에러 발생"
   ]
  },
  {
   "cell_type": "code",
   "execution_count": 26,
   "id": "8696595a",
   "metadata": {},
   "outputs": [
    {
     "name": "stdout",
     "output_type": "stream",
     "text": [
      "case 1: 55\n",
      "case 2: 5005\n"
     ]
    }
   ],
   "source": [
    "def testfunc(**args): #키워드 가변 인수 정의, 함수 선언\n",
    "    start=args[\"start\"] # 키워드 가변 (start)\n",
    "    end=args[\"end\"] # 키워드가변 (end)\n",
    "    step=args[\"step\"] # 키워드가변 (step)\n",
    "    sum=0 #합을 구할 변수 선언\n",
    "    for i in range(start,end+1,step): #start부터 end까지 step만큼 증가하며 더하는 for문 지정\n",
    "        sum+=i \n",
    "    return sum #값을 반환한다.\n",
    "\n",
    "print(\"case 1:\", testfunc(start=0,end=10,step=1)) #0부터 10까지 1씩 증가하며 더한 값을 출력한다.\n",
    "print(\"case 2:\", testfunc(end=100,step=1,start=10)) #10부터 100까지 1씩 증가하며 더한 값을 출력한다."
   ]
  },
  {
   "cell_type": "code",
   "execution_count": 27,
   "id": "e9f5dd22",
   "metadata": {},
   "outputs": [
    {
     "name": "stdout",
     "output_type": "stream",
     "text": [
      "==============================\n",
      "***********\n",
      "\n",
      "&&&&&&&&&&&\n",
      "\n",
      "===========\n",
      "\n",
      "==============================\n",
      "   ********\n",
      "\n",
      "   ????????\n",
      "\n",
      "   ========\n",
      "\n",
      "   %%%%%%%%\n",
      "\n"
     ]
    }
   ],
   "source": [
    "def testfunc(*s, **args): #가변 인수s 와 가변 키워드 인수 args를 선언\n",
    "    start=args[\"start\"] #가변 키워드 인수 start 지정\n",
    "    end=args[\"end\"] #가변 키워드 인수 end 지정\n",
    "    step=args[\"step\"] #가변 키워드 인수 step 지정\n",
    "    for c in s: #가변인수 s를 출력하는 for문 작성\n",
    "        print(\" \"*start,end=\"\") #공백을 start만큰 출력하고 줄바꿈은 하지 않는다.\n",
    "        for i in range(start,end+1,step): #start부터 end까지 step만큼 증가하는 for문 작성\n",
    "            print(c,end=\"\") #c를 for문을 도는 수 만큼 출력한다. 줄바꿈은 하지 않는다\n",
    "        print(\"\\n\") #for문이 끝나면 줄바꿈을 한다.\n",
    "    \n",
    "print(\"=\"*30) #구분선 표시\n",
    "testfunc(\"*\",\"&\",\"=\",start=0,end=10,step=1) #*, &, = 을 인수로 받고 0부터 10까지 1씩 증가하며 출력한다.(11)\n",
    "print(\"=\"*30) #구분선 표시 #구분선 표시\n",
    "testfunc(\"*\",\"?\",\"=\",\"%\",start=3,end=10,step=1) #* ? = % 을 인수르 받고 3부터 10까지 1씩증가하며 출력(8)"
   ]
  },
  {
   "cell_type": "code",
   "execution_count": 28,
   "id": "a6a687f6",
   "metadata": {},
   "outputs": [
    {
     "ename": "NameError",
     "evalue": "name 'a' is not defined",
     "output_type": "error",
     "traceback": [
      "\u001b[1;31m---------------------------------------------------------------------------\u001b[0m",
      "\u001b[1;31mNameError\u001b[0m                                 Traceback (most recent call last)",
      "Input \u001b[1;32mIn [28]\u001b[0m, in \u001b[0;36m<cell line: 5>\u001b[1;34m()\u001b[0m\n\u001b[0;32m      2\u001b[0m     a\u001b[38;5;241m=\u001b[39m\u001b[38;5;241m1\u001b[39m \u001b[38;5;66;03m#지역변수\u001b[39;00m\n\u001b[0;32m      4\u001b[0m test()\n\u001b[1;32m----> 5\u001b[0m \u001b[38;5;28mprint\u001b[39m(\u001b[43ma\u001b[49m)\n",
      "\u001b[1;31mNameError\u001b[0m: name 'a' is not defined"
     ]
    }
   ],
   "source": [
    "def test():\n",
    "    a=1 #지역변수\n",
    "    \n",
    "test()\n",
    "print(a) #전역변수인 a가 없어서 에러"
   ]
  },
  {
   "cell_type": "code",
   "execution_count": 29,
   "id": "9b8b4d3c",
   "metadata": {},
   "outputs": [
    {
     "name": "stdout",
     "output_type": "stream",
     "text": [
      "testf1: 1\n",
      "testf2: 즐거운실습\n",
      "testf3: 3.141592\n",
      "랄랄라\n"
     ]
    }
   ],
   "source": [
    "def testf1(): #지역변수 a는 다른 함수의 a와는 관계없다\n",
    "    a=1 #정수형 1 입력\n",
    "    print(\"testf1:\",a)\n",
    "    \n",
    "def testf2(): #지역변수 a는 다른 함수의 a와는 관계없다\n",
    "    a=\"즐거운실습\" #문자형 입력\n",
    "    print(\"testf2:\",a)\n",
    "    \n",
    "def testf3(): #지역변수 a는 다른 함수의 a와는 관계없다\n",
    "    a=3.141592 #실수형 입력\n",
    "    print(\"testf3:\",a)\n",
    "    \n",
    "testf1() #함수 실행\n",
    "testf2() #함수 실행\n",
    "testf3() #함수 실행\n",
    "a=\"랄랄라\" #전역변수 a에 랄랄라 선언\n",
    "print(a) #출력"
   ]
  },
  {
   "cell_type": "code",
   "execution_count": 30,
   "id": "44b0b253",
   "metadata": {},
   "outputs": [
    {
     "name": "stdout",
     "output_type": "stream",
     "text": [
      "testf1: 현재달러환율은1달러당 1021 원이며\n",
      "testf1: 미화100달러는 102100 원입니다\n",
      "testf1: 현재달러환율은1달러당 1120 원이며\n",
      "testf1: 미화100달러는 112000 원입니다\n",
      "testf2: 현재달러환율은1달러당 1011 원이며\n",
      "testf2: 미화100달러는 101100 원입니다\n",
      "testf1: 현재달러환율은1달러당 1120 원이며\n",
      "testf1: 미화100달러는 112000 원입니다\n"
     ]
    }
   ],
   "source": [
    "def testf1(): #함수 선언 , 변수 선언이 따로 없어 전역변수 exrate의 영향을 받는다.\n",
    "    print(\"testf1: 현재달러환율은1달러당\",exrate,\"원이며\") #메세지 출력\n",
    "    print(\"testf1: 미화100달러는\",100*exrate,\"원입니다\") #100을 곱하고 메세지 출력\n",
    "\n",
    "def testf2(): #지역변수 선언, 전역변수의 영향을 받지 않는다.\n",
    "    exrate=1011 #정수형 변수 선언 후 1011 입력\n",
    "    print(\"testf2: 현재달러환율은1달러당\",exrate,\"원이며\") #메세지 출력 \n",
    "    print(\"testf2: 미화100달러는\",100*exrate,\"원입니다\") #메세지 출력\n",
    "\n",
    "exrate=1021 # 정수형 변수 선언 1021 입력\n",
    "testf1() #함수 실행\n",
    "exrate=1120 #선언했던 변수의 값 변경\n",
    "testf1() #함수실행\n",
    "\n",
    "testf2() #함수 실행\n",
    "testf1() #함수 실행"
   ]
  },
  {
   "cell_type": "code",
   "execution_count": 33,
   "id": "4eda29a6",
   "metadata": {},
   "outputs": [
    {
     "name": "stdout",
     "output_type": "stream",
     "text": [
      "Help on function testf1 in module __main__:\n",
      "\n",
      "testf1()\n",
      "    #주석 같이 사용\n",
      "    이함수는홍필두가최선을다하여멋지게만든함수\n",
      "    인수값에숫자만큼1부터해당값을더한값을출력해준다\n",
      "\n"
     ]
    }
   ],
   "source": [
    "def testf1():\n",
    "    \"\"\" #주석 같이 사용\n",
    "    이함수는홍필두가최선을다하여멋지게만든함수\n",
    "    인수값에숫자만큼1부터해당값을더한값을출력해준다\n",
    "    \"\"\"\n",
    "    sum=0 #합을 구할 변수 선언\n",
    "    for i in range(n+1): #0부터 n까지 더하는 for문 작성\n",
    "        sum+=i\n",
    "    print(\"합:\",sum) #합을 출력\n",
    "    \n",
    "# help로 함수의 docstring 내용 확인\n",
    "help(testf1)"
   ]
  },
  {
   "cell_type": "code",
   "execution_count": 34,
   "id": "c3d97f98",
   "metadata": {},
   "outputs": [
    {
     "data": {
      "text/plain": [
       "(1, 2, 3, 4, 5)"
      ]
     },
     "execution_count": 34,
     "metadata": {},
     "output_type": "execute_result"
    }
   ],
   "source": [
    "a = [1, 2, 3, 4, 5] #리스트 작성\n",
    "a[0], a[1], a[2], a[3], a[4] #리스틩 0 1 2 3 4번째 값 출력"
   ]
  },
  {
   "cell_type": "code",
   "execution_count": 38,
   "id": "91583d14",
   "metadata": {},
   "outputs": [
    {
     "data": {
      "text/plain": [
       "(11, 1234, 12.3333, '안녕', '정지훈')"
      ]
     },
     "execution_count": 38,
     "metadata": {},
     "output_type": "execute_result"
    }
   ],
   "source": [
    "a = [11, \"abc\", 12.3333, \"안녕\", 2+3j] #리스트엔 다양한 자료형을 받을 수 있다.\n",
    "a[1] = 1234; a[4] = \"정지훈\" #리스트의 값도 바꿀 수 있다.\n",
    "a[0], a[1], a[2], a[3], a[4] #리스틩 0 1 2 3 4번째 값 출력"
   ]
  },
  {
   "cell_type": "code",
   "execution_count": 39,
   "id": "dffc4b8c",
   "metadata": {},
   "outputs": [
    {
     "name": "stdout",
     "output_type": "stream",
     "text": [
      "점수( 90 )\n",
      "점수( 80 )\n",
      "점수( 70 )\n",
      "점수( 60 )\n",
      "점수( 30 )\n",
      "총점: 330\n"
     ]
    }
   ],
   "source": [
    "score = [90, 80, 70, 60, 30] #점수를 리스트에 입력\n",
    "sum = 0 #합을 구할 변수 선언\n",
    "for s in score: #s에 score 리스트의 값을 순서대로 입력\n",
    "    print(\"점수(\",s,\")\") # 받아온 값을 포멧에 맞게 출력한다.\n",
    "    sum+=s #점수를 누적한다.\n",
    "print(\"총점:\",sum); #합계를 출력한다."
   ]
  },
  {
   "cell_type": "code",
   "execution_count": 40,
   "id": "ed1a4938",
   "metadata": {},
   "outputs": [
    {
     "data": {
      "text/plain": [
       "(1, 1)"
      ]
     },
     "execution_count": 40,
     "metadata": {},
     "output_type": "execute_result"
    }
   ],
   "source": [
    "a=[1,2,3,4,5] #리스트 선언\n",
    "a[0], a[-5] #0번째 값(1) -5번째값(1) 출력"
   ]
  },
  {
   "cell_type": "code",
   "execution_count": 42,
   "id": "a84ff6a6",
   "metadata": {},
   "outputs": [
    {
     "data": {
      "text/plain": [
       "(2, 2)"
      ]
     },
     "execution_count": 42,
     "metadata": {},
     "output_type": "execute_result"
    }
   ],
   "source": [
    "a[1],a[-4] #1번째 값(2) -4번째값(2) 출력"
   ]
  },
  {
   "cell_type": "code",
   "execution_count": 43,
   "id": "a552088c",
   "metadata": {},
   "outputs": [
    {
     "data": {
      "text/plain": [
       "(3, 3)"
      ]
     },
     "execution_count": 43,
     "metadata": {},
     "output_type": "execute_result"
    }
   ],
   "source": [
    "a[2],a[-3] #2번째 값(3) -3번째값(3) 출력"
   ]
  },
  {
   "cell_type": "code",
   "execution_count": 44,
   "id": "35871ecf",
   "metadata": {},
   "outputs": [
    {
     "data": {
      "text/plain": [
       "(4, 4)"
      ]
     },
     "execution_count": 44,
     "metadata": {},
     "output_type": "execute_result"
    }
   ],
   "source": [
    "a[3],a[-2] #3번째 값(4) -2번째값(4) 출력"
   ]
  },
  {
   "cell_type": "code",
   "execution_count": 45,
   "id": "42832f76",
   "metadata": {},
   "outputs": [
    {
     "data": {
      "text/plain": [
       "(5, 5)"
      ]
     },
     "execution_count": 45,
     "metadata": {},
     "output_type": "execute_result"
    }
   ],
   "source": [
    "a[4],a[-1] #4번째 값(5) -1번째값(5) 출력"
   ]
  },
  {
   "cell_type": "code",
   "execution_count": 46,
   "id": "0e6f6366",
   "metadata": {},
   "outputs": [
    {
     "data": {
      "text/plain": [
       "[3, 4, 5, 6, 7, 8]"
      ]
     },
     "execution_count": 46,
     "metadata": {},
     "output_type": "execute_result"
    }
   ],
   "source": [
    "a=[1,2,3,4,5,6,7,8,9,10] #리스트 선언\n",
    "a[2:8] # 2번째부터 7번째까지 출력"
   ]
  },
  {
   "cell_type": "code",
   "execution_count": 47,
   "id": "52966332",
   "metadata": {},
   "outputs": [
    {
     "data": {
      "text/plain": [
       "[1, 2, 3, 4]"
      ]
     },
     "execution_count": 47,
     "metadata": {},
     "output_type": "execute_result"
    }
   ],
   "source": [
    "a[:4] #0번째부터 3번째까지 출력"
   ]
  },
  {
   "cell_type": "code",
   "execution_count": 48,
   "id": "b325eb35",
   "metadata": {},
   "outputs": [
    {
     "data": {
      "text/plain": [
       "[6, 7, 8, 9, 10]"
      ]
     },
     "execution_count": 48,
     "metadata": {},
     "output_type": "execute_result"
    }
   ],
   "source": [
    "a[5:] #5번째부터 끝까지"
   ]
  },
  {
   "cell_type": "code",
   "execution_count": 49,
   "id": "9c3a6d9f",
   "metadata": {},
   "outputs": [
    {
     "data": {
      "text/plain": [
       "[1, 4]"
      ]
     },
     "execution_count": 49,
     "metadata": {},
     "output_type": "execute_result"
    }
   ],
   "source": [
    "a[0:6:3] #0번째부터 5번째까지 3씩 증가하며 출력(0 3 번째 값)"
   ]
  },
  {
   "cell_type": "code",
   "execution_count": 50,
   "id": "bfa1b250",
   "metadata": {},
   "outputs": [
    {
     "data": {
      "text/plain": [
       "[7, 8, 9]"
      ]
     },
     "execution_count": 50,
     "metadata": {},
     "output_type": "execute_result"
    }
   ],
   "source": [
    "a=[[1,2,3],[4,5,6],[7,8,9]] #2차 배열 (배열 속 배열)\n",
    "a[2] #3번째 배열 출력"
   ]
  },
  {
   "cell_type": "code",
   "execution_count": 51,
   "id": "bc023372",
   "metadata": {},
   "outputs": [
    {
     "data": {
      "text/plain": [
       "9"
      ]
     },
     "execution_count": 51,
     "metadata": {},
     "output_type": "execute_result"
    }
   ],
   "source": [
    "a[2][2] #3번쨰 배열의 3번째 값 출력(9)"
   ]
  },
  {
   "cell_type": "code",
   "execution_count": 52,
   "id": "e8a59c15",
   "metadata": {},
   "outputs": [
    {
     "ename": "IndexError",
     "evalue": "list index out of range",
     "output_type": "error",
     "traceback": [
      "\u001b[1;31m---------------------------------------------------------------------------\u001b[0m",
      "\u001b[1;31mIndexError\u001b[0m                                Traceback (most recent call last)",
      "Input \u001b[1;32mIn [52]\u001b[0m, in \u001b[0;36m<cell line: 1>\u001b[1;34m()\u001b[0m\n\u001b[1;32m----> 1\u001b[0m \u001b[43ma\u001b[49m\u001b[43m[\u001b[49m\u001b[38;5;241;43m1\u001b[39;49m\u001b[43m]\u001b[49m\u001b[43m[\u001b[49m\u001b[38;5;241;43m3\u001b[39;49m\u001b[43m]\u001b[49m\n",
      "\u001b[1;31mIndexError\u001b[0m: list index out of range"
     ]
    }
   ],
   "source": [
    "a[1][3] #2번째 배열의 4번째 값 출력 (없으니 오류)"
   ]
  },
  {
   "cell_type": "code",
   "execution_count": 53,
   "id": "14affb08",
   "metadata": {},
   "outputs": [
    {
     "data": {
      "text/plain": [
       "6"
      ]
     },
     "execution_count": 53,
     "metadata": {},
     "output_type": "execute_result"
    }
   ],
   "source": [
    "a[1][2] #2번째 배열의 3번째 값 출력"
   ]
  },
  {
   "cell_type": "code",
   "execution_count": 54,
   "id": "1cdf1c5a",
   "metadata": {},
   "outputs": [],
   "source": [
    "a=[[1,2],[3,4,5],6] # 가변 형태의 리스트"
   ]
  },
  {
   "cell_type": "code",
   "execution_count": 55,
   "id": "914efea1",
   "metadata": {},
   "outputs": [
    {
     "data": {
      "text/plain": [
       "[[1, 2], [3, 4, 5], 6]"
      ]
     },
     "execution_count": 55,
     "metadata": {},
     "output_type": "execute_result"
    }
   ],
   "source": [
    "a #a를 출력한다"
   ]
  },
  {
   "cell_type": "code",
   "execution_count": 56,
   "id": "f988e2fb",
   "metadata": {},
   "outputs": [
    {
     "data": {
      "text/plain": [
       "6"
      ]
     },
     "execution_count": 56,
     "metadata": {},
     "output_type": "execute_result"
    }
   ],
   "source": [
    "a[2] #a의 3번째 값 출력(6)"
   ]
  },
  {
   "cell_type": "code",
   "execution_count": 57,
   "id": "2a011ddb",
   "metadata": {},
   "outputs": [
    {
     "data": {
      "text/plain": [
       "[3, 4, 5]"
      ]
     },
     "execution_count": 57,
     "metadata": {},
     "output_type": "execute_result"
    }
   ],
   "source": [
    "a[1] #a의 2번째 값(배열) 출력"
   ]
  },
  {
   "cell_type": "code",
   "execution_count": 58,
   "id": "bc21cd3f",
   "metadata": {},
   "outputs": [
    {
     "data": {
      "text/plain": [
       "[3, 6, 9, 12, 15, 18, 21, 24, 27]"
      ]
     },
     "execution_count": 58,
     "metadata": {},
     "output_type": "execute_result"
    }
   ],
   "source": [
    "a=[ n * 3 for n in range (1,10)] #a에 n에 대하여 1부터 9까지 입력하며 모든 값에 3을 곱한다\n",
    "a #a 출력"
   ]
  },
  {
   "cell_type": "code",
   "execution_count": 59,
   "id": "4aad433a",
   "metadata": {},
   "outputs": [
    {
     "data": {
      "text/plain": [
       "[6, 12, 18, 24]"
      ]
     },
     "execution_count": 59,
     "metadata": {},
     "output_type": "execute_result"
    }
   ],
   "source": [
    "a=[ n * 3 for n in range (1,10) if n % 2 ==0 ] #n에 1부터 9까지 짝수만 입력하고 그 값에 3을 곱하여 리스트\n",
    "a #출력"
   ]
  },
  {
   "cell_type": "code",
   "execution_count": 69,
   "id": "c6976eee",
   "metadata": {},
   "outputs": [
    {
     "name": "stdout",
     "output_type": "stream",
     "text": [
      "==================================================\n",
      "이름\t국어\t영어\t수학\t총점\t평균\n",
      "==================================================\n",
      "나연 \t 100 \t 90 \t 100 \t 290 \t 96\n",
      "정연 \t 90 \t 90 \t 100 \t 280 \t 93\n",
      "모모 \t 80 \t 70 \t 90 \t 240 \t 80\n",
      "사나 \t 90 \t 90 \t 80 \t 260 \t 86\n",
      "지효 \t 100 \t 80 \t 80 \t 260 \t 86\n",
      "미나 \t 50 \t 90 \t 90 \t 230 \t 76\n",
      "다현 \t 80 \t 60 \t 100 \t 240 \t 80\n",
      "채영 \t 70 \t 80 \t 90 \t 240 \t 80\n",
      "쯔위 \t 100 \t 90 \t 90 \t 280 \t 93\n",
      "==================================================\n",
      "반총점\t 760 \t 740 \t 820 \t 2320 \t 85.0\n",
      "==================================================\n"
     ]
    }
   ],
   "source": [
    "def titleprint(): # 상단 부분 출력 구간\n",
    "    print(\"=\"*50) #구분선 출력\n",
    "    print(\"이름\\t국어\\t영어\\t수학\\t총점\\t평균\") #이름 및 과목 총점 평균 칸 생성\n",
    "    print(\"=\"*50) #구분선 출력\n",
    "    \n",
    "def itemprint(name,kor,eng,mat): # 성적 입력하는 함수\n",
    "    print(name,\"\\t\",kor,\"\\t\",eng,\"\\t\",mat,\"\\t\",kor+eng+mat,\"\\t\",(kor+eng+mat)//3)\n",
    "\n",
    "def tailprint(): #합산 부분 출력\n",
    "    totkor=0 #국어합 지정할 변수 선언\n",
    "    toteng=0 #영어합 지정할 변수 선언\n",
    "    totmat=0 #수학합 지정할 변수 선언\n",
    "    for one_student in score: #성적 배열의 각 과목 값을 더한다\n",
    "        totkor+=one_student[kor]\n",
    "        toteng+=one_student[eng]\n",
    "        totmat+=one_student[mat]\n",
    "    print(\"=\"*50) #구분선 출력\n",
    "    print(\"반총점\\t\",totkor,\"\\t\",toteng,\"\\t\",totmat,\"\\t\"\\\n",
    "        ,(totkor+toteng+totmat),\"\\t\",(totkor+toteng+totmat)/3//9) #이름 성적 총합 평균 출력\n",
    "    print(\"=\"*50) #구분선\n",
    "\n",
    "#데이터 입력, 2차원 배열 사용\n",
    "score=[[\"나연\",100,90,100],\n",
    "    [\"정연\",90,90,100],\n",
    "    [\"모모\",80,70,90],\n",
    "    [\"사나\",90,90,80],\n",
    "    [\"지효\",100,80,80],\n",
    "    [\"미나\",50,90,90],\n",
    "    [\"다현\",80,60,100],\n",
    "    [\"채영\",70,80,90],\n",
    "    [\"쯔위\",100,90,90]]\n",
    "\n",
    "#상수 정의, 배열에서의 성적 위치\n",
    "name=0;kor=1;eng=2;mat=3\n",
    "\n",
    "#프로그램 부분\n",
    "titleprint() #제목을 출력하는 함수 실행\n",
    "for one_student in score: #리스트의 값을 넣어가며 성적 출력\n",
    "    itemprint(one_student[name],one_student[kor],one_student[eng],one_student[mat])\n",
    "tailprint() #합계 부분 출력"
   ]
  },
  {
   "cell_type": "code",
   "execution_count": 73,
   "id": "84db32a1",
   "metadata": {},
   "outputs": [
    {
     "data": {
      "text/plain": [
       "[1, 2, 3, 4, 5]"
      ]
     },
     "execution_count": 73,
     "metadata": {},
     "output_type": "execute_result"
    }
   ],
   "source": [
    "a=[1,2,3,4,5] #리스트 선언\n",
    "a #리스트 출력"
   ]
  },
  {
   "cell_type": "code",
   "execution_count": 74,
   "id": "f9afebb3",
   "metadata": {},
   "outputs": [
    {
     "data": {
      "text/plain": [
       "[1, 2, 4, 5]"
      ]
     },
     "execution_count": 74,
     "metadata": {},
     "output_type": "execute_result"
    }
   ],
   "source": [
    "del a[2] #3번째 값 삭제\n",
    "a #a출력"
   ]
  },
  {
   "cell_type": "code",
   "execution_count": 75,
   "id": "d4763a31",
   "metadata": {},
   "outputs": [
    {
     "data": {
      "text/plain": [
       "[1, 2, 5]"
      ]
     },
     "execution_count": 75,
     "metadata": {},
     "output_type": "execute_result"
    }
   ],
   "source": [
    "del a[2] #3번째 값 삭제\n",
    "a #a출력"
   ]
  },
  {
   "cell_type": "code",
   "execution_count": 77,
   "id": "a456fec2",
   "metadata": {},
   "outputs": [
    {
     "data": {
      "text/plain": [
       "[]"
      ]
     },
     "execution_count": 77,
     "metadata": {},
     "output_type": "execute_result"
    }
   ],
   "source": [
    "a.clear() #a값 전부 삭제\n",
    "a"
   ]
  },
  {
   "cell_type": "code",
   "execution_count": 78,
   "id": "4fcfa97d",
   "metadata": {},
   "outputs": [
    {
     "ename": "NameError",
     "evalue": "name 'a' is not defined",
     "output_type": "error",
     "traceback": [
      "\u001b[1;31m---------------------------------------------------------------------------\u001b[0m",
      "\u001b[1;31mNameError\u001b[0m                                 Traceback (most recent call last)",
      "Input \u001b[1;32mIn [78]\u001b[0m, in \u001b[0;36m<cell line: 2>\u001b[1;34m()\u001b[0m\n\u001b[0;32m      1\u001b[0m \u001b[38;5;28;01mdel\u001b[39;00m a \u001b[38;5;66;03m#a 리스트를 삭제\u001b[39;00m\n\u001b[1;32m----> 2\u001b[0m \u001b[43ma\u001b[49m\n",
      "\u001b[1;31mNameError\u001b[0m: name 'a' is not defined"
     ]
    }
   ],
   "source": [
    "del a #a 리스트를 삭제\n",
    "a"
   ]
  },
  {
   "cell_type": "code",
   "execution_count": 79,
   "id": "3d417514",
   "metadata": {},
   "outputs": [
    {
     "ename": "NameError",
     "evalue": "name 'a' is not defined",
     "output_type": "error",
     "traceback": [
      "\u001b[1;31m---------------------------------------------------------------------------\u001b[0m",
      "\u001b[1;31mNameError\u001b[0m                                 Traceback (most recent call last)",
      "Input \u001b[1;32mIn [79]\u001b[0m, in \u001b[0;36m<cell line: 1>\u001b[1;34m()\u001b[0m\n\u001b[1;32m----> 1\u001b[0m \u001b[38;5;28;01mdel\u001b[39;00m a\n\u001b[0;32m      2\u001b[0m a\u001b[38;5;241m.\u001b[39mappend(\u001b[38;5;241m1\u001b[39m)\n",
      "\u001b[1;31mNameError\u001b[0m: name 'a' is not defined"
     ]
    }
   ],
   "source": [
    "del a\n",
    "a.append(1) #append: 리스트에 값 추가, 리스트가 없으면 추가는 불가능"
   ]
  },
  {
   "cell_type": "code",
   "execution_count": 80,
   "id": "7f79ec96",
   "metadata": {},
   "outputs": [],
   "source": [
    "a=[] #리스트 선언"
   ]
  },
  {
   "cell_type": "code",
   "execution_count": 81,
   "id": "b70cd574",
   "metadata": {},
   "outputs": [
    {
     "data": {
      "text/plain": [
       "[1, 3, 5]"
      ]
     },
     "execution_count": 81,
     "metadata": {},
     "output_type": "execute_result"
    }
   ],
   "source": [
    "a.append(1) #1 추가\n",
    "a.append(3) #3 추가\n",
    "a.append(5) #5 추가\n",
    "a # 출력"
   ]
  },
  {
   "cell_type": "code",
   "execution_count": 82,
   "id": "2a9bb106",
   "metadata": {},
   "outputs": [
    {
     "data": {
      "text/plain": [
       "[4, 5, 6, 10]"
      ]
     },
     "execution_count": 82,
     "metadata": {},
     "output_type": "execute_result"
    }
   ],
   "source": [
    "a=[4,5,6] #a 재정의\n",
    "a.append(10) #a에 10추가\n",
    "a"
   ]
  },
  {
   "cell_type": "code",
   "execution_count": 84,
   "id": "16cb4ecf",
   "metadata": {},
   "outputs": [
    {
     "data": {
      "text/plain": [
       "[1, 2, 3, 4, 5, 6]"
      ]
     },
     "execution_count": 84,
     "metadata": {},
     "output_type": "execute_result"
    }
   ],
   "source": [
    "a=[1,2,3,4,5] #a 리스트 선언\n",
    "a.append(6) #맨뒤에 6추가\n",
    "a #a 출력"
   ]
  },
  {
   "cell_type": "code",
   "execution_count": 85,
   "id": "f910cf01",
   "metadata": {},
   "outputs": [
    {
     "data": {
      "text/plain": [
       "[1, 2, 3, 12, 4, 5, 6]"
      ]
     },
     "execution_count": 85,
     "metadata": {},
     "output_type": "execute_result"
    }
   ],
   "source": [
    "a.insert(3,12) #a의 4번째 위치에 12 추가\n",
    "a #a 출력"
   ]
  },
  {
   "cell_type": "code",
   "execution_count": 86,
   "id": "4f54f4fc",
   "metadata": {},
   "outputs": [],
   "source": [
    "a.insert(4,15) #a의 5번째 위치에 15추가"
   ]
  },
  {
   "cell_type": "code",
   "execution_count": 87,
   "id": "2a286c85",
   "metadata": {},
   "outputs": [
    {
     "data": {
      "text/plain": [
       "[1, 2, 3, 12, 15, 4, 5, 6]"
      ]
     },
     "execution_count": 87,
     "metadata": {},
     "output_type": "execute_result"
    }
   ],
   "source": [
    "a"
   ]
  },
  {
   "cell_type": "code",
   "execution_count": 88,
   "id": "d6cdb914",
   "metadata": {},
   "outputs": [
    {
     "data": {
      "text/plain": [
       "[1, 2, 3, 1, 12, 15, 4, 5, 6]"
      ]
     },
     "execution_count": 88,
     "metadata": {},
     "output_type": "execute_result"
    }
   ],
   "source": [
    "a.insert(3,1) #a의 4번째 위치에 1 추가\n",
    "a"
   ]
  },
  {
   "cell_type": "code",
   "execution_count": 89,
   "id": "78f16db1",
   "metadata": {},
   "outputs": [
    {
     "data": {
      "text/plain": [
       "[1, 2, 3, 1, 12, 1, 2, 3, 4, 5, 6, 15, 4, 5, 6]"
      ]
     },
     "execution_count": 89,
     "metadata": {},
     "output_type": "execute_result"
    }
   ],
   "source": [
    "a=[1, 2, 3, 1, 12, 15, 4, 5, 6] #리스트 선언\n",
    "a[5:5] = [1, 2, 3, 4, 5, 6] #6번째 위치부터 6번째 위치까지 영역에 해당리스트 값을 입력\n",
    "a"
   ]
  },
  {
   "cell_type": "code",
   "execution_count": 90,
   "id": "bf27a16a",
   "metadata": {},
   "outputs": [],
   "source": [
    "a=[1, 2, 3, 1, 12, 15, 4, 5, 6] # 리스트 선언\n",
    "a[5]=[1,2,3,4,5,6] # 해당 위치에 리스트의 형태로 값 입력"
   ]
  },
  {
   "cell_type": "code",
   "execution_count": 91,
   "id": "0b164ef1",
   "metadata": {},
   "outputs": [
    {
     "data": {
      "text/plain": [
       "[1, 2, 3, 1, 12, [1, 2, 3, 4, 5, 6], 4, 5, 6]"
      ]
     },
     "execution_count": 91,
     "metadata": {},
     "output_type": "execute_result"
    }
   ],
   "source": [
    "a"
   ]
  },
  {
   "cell_type": "code",
   "execution_count": 92,
   "id": "6e19bd23",
   "metadata": {},
   "outputs": [
    {
     "data": {
      "text/plain": [
       "[1, 2, 3, 4, 5, 6]"
      ]
     },
     "execution_count": 92,
     "metadata": {},
     "output_type": "execute_result"
    }
   ],
   "source": [
    "a=[1,2,3]; b=[4,5,6] #리스트 a b 선언\n",
    "a=a+b #a에 ab를 병합하여 입력\n",
    "a #a출력"
   ]
  },
  {
   "cell_type": "code",
   "execution_count": 93,
   "id": "57422c74",
   "metadata": {},
   "outputs": [
    {
     "data": {
      "text/plain": [
       "[1, 2, 3, 4, 5, 6]"
      ]
     },
     "execution_count": 93,
     "metadata": {},
     "output_type": "execute_result"
    }
   ],
   "source": [
    "a=[1,2,3]; b=[4,5,6] #리스트 a b 선언\n",
    "a.extend(b) #a뒤에 b 병합\n",
    "a #a 출력"
   ]
  },
  {
   "cell_type": "code",
   "execution_count": 94,
   "id": "4b7f3d1b",
   "metadata": {},
   "outputs": [
    {
     "data": {
      "text/plain": [
       "[1, 2, 3, 3, 4, 4, 5, 6, 7, 7, 7, 7, 8]"
      ]
     },
     "execution_count": 94,
     "metadata": {},
     "output_type": "execute_result"
    }
   ],
   "source": [
    "a=[1,2,3,3,4,4,5,6,7,7,7,7,8] # 리스트 선언\n",
    "a #출력"
   ]
  },
  {
   "cell_type": "code",
   "execution_count": 95,
   "id": "987a4eb5",
   "metadata": {},
   "outputs": [
    {
     "data": {
      "text/plain": [
       "[1, 2, 3, 3, 4, 4, 5, 6, 7, 7, 7, 8]"
      ]
     },
     "execution_count": 95,
     "metadata": {},
     "output_type": "execute_result"
    }
   ],
   "source": [
    "a.remove(7) #8번째 위치에 있는 값 삭제\n",
    "a #a 출력"
   ]
  },
  {
   "cell_type": "code",
   "execution_count": 96,
   "id": "5482afbe",
   "metadata": {},
   "outputs": [
    {
     "data": {
      "text/plain": [
       "[1, 2, 3, 3, 4, [], 5, 6, 7, 7, 7, 8]"
      ]
     },
     "execution_count": 96,
     "metadata": {},
     "output_type": "execute_result"
    }
   ],
   "source": [
    "a[5] = [] #5번째 위치 뒤에 빈 배열 추가\n",
    "a #출력"
   ]
  },
  {
   "cell_type": "code",
   "execution_count": 97,
   "id": "2d39253a",
   "metadata": {},
   "outputs": [
    {
     "data": {
      "text/plain": [
       "[1, 2, 3, 3, [], 5, 6, 7, 7, 7, 8]"
      ]
     },
     "execution_count": 97,
     "metadata": {},
     "output_type": "execute_result"
    }
   ],
   "source": [
    "del(a[4]) #4번째 위치의 뒤에 값 삭제\n",
    "a #출력"
   ]
  },
  {
   "cell_type": "code",
   "execution_count": 98,
   "id": "a63938bb",
   "metadata": {},
   "outputs": [
    {
     "data": {
      "text/plain": [
       "[1, 2, 3, [], 5, 6, 7, 7, 7, 8]"
      ]
     },
     "execution_count": 98,
     "metadata": {},
     "output_type": "execute_result"
    }
   ],
   "source": [
    "del(a[3]) #3번째 위치의 뒤에 값 삭제\n",
    "a #출력"
   ]
  },
  {
   "cell_type": "code",
   "execution_count": 99,
   "id": "9a987dd8",
   "metadata": {},
   "outputs": [
    {
     "data": {
      "text/plain": [
       "[]"
      ]
     },
     "execution_count": 99,
     "metadata": {},
     "output_type": "execute_result"
    }
   ],
   "source": [
    "a.clear() #리스트 안의 모든 값 삭제\n",
    "a #출력, 리스트는 남아있다"
   ]
  },
  {
   "cell_type": "code",
   "execution_count": 101,
   "id": "dd7c6b9c",
   "metadata": {},
   "outputs": [
    {
     "ename": "NameError",
     "evalue": "name 'a' is not defined",
     "output_type": "error",
     "traceback": [
      "\u001b[1;31m---------------------------------------------------------------------------\u001b[0m",
      "\u001b[1;31mNameError\u001b[0m                                 Traceback (most recent call last)",
      "Input \u001b[1;32mIn [101]\u001b[0m, in \u001b[0;36m<cell line: 1>\u001b[1;34m()\u001b[0m\n\u001b[1;32m----> 1\u001b[0m \u001b[38;5;28;01mdel\u001b[39;00m(a) \u001b[38;5;66;03m#리스트 정의까지 삭제\u001b[39;00m\n\u001b[0;32m      2\u001b[0m a\n",
      "\u001b[1;31mNameError\u001b[0m: name 'a' is not defined"
     ]
    }
   ],
   "source": [
    "del(a) #리스트 정의까지 삭제\n",
    "a #출력, 에러가 뜬다"
   ]
  },
  {
   "cell_type": "code",
   "execution_count": 102,
   "id": "f064f65f",
   "metadata": {},
   "outputs": [
    {
     "data": {
      "text/plain": [
       "8"
      ]
     },
     "execution_count": 102,
     "metadata": {},
     "output_type": "execute_result"
    }
   ],
   "source": [
    "a=[1,2,3,3,4,4,5,6,7,7,7,7,8] #리스트 선언\n",
    "a.pop() #값이 없어서 마지막 8을 리턴한다"
   ]
  },
  {
   "cell_type": "code",
   "execution_count": 103,
   "id": "4180e510",
   "metadata": {},
   "outputs": [
    {
     "data": {
      "text/plain": [
       "[1, 2, 3, 3, 4, 4, 5, 6, 7, 7, 7, 7]"
      ]
     },
     "execution_count": 103,
     "metadata": {},
     "output_type": "execute_result"
    }
   ],
   "source": [
    "a #출력"
   ]
  },
  {
   "cell_type": "code",
   "execution_count": 104,
   "id": "d1514851",
   "metadata": {},
   "outputs": [
    {
     "data": {
      "text/plain": [
       "7"
      ]
     },
     "execution_count": 104,
     "metadata": {},
     "output_type": "execute_result"
    }
   ],
   "source": [
    "a.pop() #마지막 값인 7을 리턴"
   ]
  },
  {
   "cell_type": "code",
   "execution_count": 105,
   "id": "fdc5c660",
   "metadata": {},
   "outputs": [
    {
     "data": {
      "text/plain": [
       "3"
      ]
     },
     "execution_count": 105,
     "metadata": {},
     "output_type": "execute_result"
    }
   ],
   "source": [
    "a.pop(3) #4번쨰 값 리턴후 삭제(3)"
   ]
  },
  {
   "cell_type": "code",
   "execution_count": 106,
   "id": "a9ba6e5b",
   "metadata": {},
   "outputs": [
    {
     "data": {
      "text/plain": [
       "[1, 2, 3, 4, 4, 5, 6, 7, 7, 7]"
      ]
     },
     "execution_count": 106,
     "metadata": {},
     "output_type": "execute_result"
    }
   ],
   "source": [
    "a #출력"
   ]
  },
  {
   "cell_type": "code",
   "execution_count": 107,
   "id": "565b5da9",
   "metadata": {},
   "outputs": [
    {
     "data": {
      "text/plain": [
       "6"
      ]
     },
     "execution_count": 107,
     "metadata": {},
     "output_type": "execute_result"
    }
   ],
   "source": [
    "a.pop(6) #6번째 값 리턴후 삭제(6)"
   ]
  },
  {
   "cell_type": "code",
   "execution_count": 108,
   "id": "6b877256",
   "metadata": {},
   "outputs": [
    {
     "data": {
      "text/plain": [
       "[1, 2, 3, 4, 4, 5, 7, 7, 7]"
      ]
     },
     "execution_count": 108,
     "metadata": {},
     "output_type": "execute_result"
    }
   ],
   "source": [
    "a"
   ]
  },
  {
   "cell_type": "code",
   "execution_count": 109,
   "id": "54f18914",
   "metadata": {},
   "outputs": [
    {
     "data": {
      "text/plain": [
       "7"
      ]
     },
     "execution_count": 109,
     "metadata": {},
     "output_type": "execute_result"
    }
   ],
   "source": [
    "a.pop(6) #7 리턴후 삭제"
   ]
  },
  {
   "cell_type": "code",
   "execution_count": 110,
   "id": "2a84563d",
   "metadata": {},
   "outputs": [
    {
     "data": {
      "text/plain": [
       "1"
      ]
     },
     "execution_count": 110,
     "metadata": {},
     "output_type": "execute_result"
    }
   ],
   "source": [
    "a.pop(0) #첫번째 값 리턴후 삭제(1)"
   ]
  },
  {
   "cell_type": "code",
   "execution_count": 111,
   "id": "4eb50505",
   "metadata": {
    "scrolled": true
   },
   "outputs": [
    {
     "data": {
      "text/plain": [
       "[2, 3, 4, 4, 5, 7, 7]"
      ]
     },
     "execution_count": 111,
     "metadata": {},
     "output_type": "execute_result"
    }
   ],
   "source": [
    "a #출력"
   ]
  },
  {
   "cell_type": "code",
   "execution_count": 1,
   "id": "f77630db",
   "metadata": {},
   "outputs": [
    {
     "data": {
      "text/plain": [
       "8"
      ]
     },
     "execution_count": 1,
     "metadata": {},
     "output_type": "execute_result"
    }
   ],
   "source": [
    "a = [1, 2, 3, 3, 4, 4, 5, 6, 7, 7, 7, 7, 8] #리스트 작성\n",
    "a.index(7) #해당 값이 처음 나오는 위치 반환(8)"
   ]
  },
  {
   "cell_type": "code",
   "execution_count": 2,
   "id": "9100c49e",
   "metadata": {},
   "outputs": [
    {
     "data": {
      "text/plain": [
       "12"
      ]
     },
     "execution_count": 2,
     "metadata": {},
     "output_type": "execute_result"
    }
   ],
   "source": [
    "a.index(8) #8이 처음 나오는 위치 반환(12)"
   ]
  },
  {
   "cell_type": "code",
   "execution_count": 3,
   "id": "9ebb5feb",
   "metadata": {},
   "outputs": [
    {
     "data": {
      "text/plain": [
       "4"
      ]
     },
     "execution_count": 3,
     "metadata": {},
     "output_type": "execute_result"
    }
   ],
   "source": [
    "a.index(4) #4가 처음 나오는 위치 반환(4)"
   ]
  },
  {
   "cell_type": "code",
   "execution_count": 4,
   "id": "2549c30b",
   "metadata": {},
   "outputs": [
    {
     "data": {
      "text/plain": [
       "4"
      ]
     },
     "execution_count": 4,
     "metadata": {},
     "output_type": "execute_result"
    }
   ],
   "source": [
    "a.count(7) #7이 몇번 나오는지 알려줌(4)"
   ]
  },
  {
   "cell_type": "code",
   "execution_count": 6,
   "id": "bcd4cea3",
   "metadata": {},
   "outputs": [
    {
     "name": "stdout",
     "output_type": "stream",
     "text": [
      "1\n",
      "8\n"
     ]
    },
    {
     "data": {
      "text/plain": [
       "13"
      ]
     },
     "execution_count": 6,
     "metadata": {},
     "output_type": "execute_result"
    }
   ],
   "source": [
    "print(min(a)); print(max(a)); len(a) #최대값(8), 최소값(1), 길이(13) 반환"
   ]
  },
  {
   "cell_type": "code",
   "execution_count": 7,
   "id": "16b5b089",
   "metadata": {},
   "outputs": [
    {
     "data": {
      "text/plain": [
       "[4, 9, 6, 2, 5, 4, 2, 6, 5, 8, 1]"
      ]
     },
     "execution_count": 7,
     "metadata": {},
     "output_type": "execute_result"
    }
   ],
   "source": [
    "a=[1,8,5,6,2,4,5,2,6,9,4] # 리스트 선언\n",
    "a.reverse() #a의 순서를 반대로 바꾼다.\n",
    "a #출력"
   ]
  },
  {
   "cell_type": "code",
   "execution_count": 8,
   "id": "25469d67",
   "metadata": {},
   "outputs": [
    {
     "data": {
      "text/plain": [
       "[1, 2, 2, 4, 4, 5, 5, 6, 6, 8, 9]"
      ]
     },
     "execution_count": 8,
     "metadata": {},
     "output_type": "execute_result"
    }
   ],
   "source": [
    "a.sort() #오름차순으로 변경한다\n",
    "a #출력"
   ]
  },
  {
   "cell_type": "code",
   "execution_count": 12,
   "id": "a9ffcea3",
   "metadata": {},
   "outputs": [
    {
     "name": "stdout",
     "output_type": "stream",
     "text": [
      "==================================================\n",
      "이름\t국어\t영어\t수학\t총점\t평균\n",
      "==================================================\n",
      "name0 \t 70 \t 27 \t 81 \t 178 \t 59\n",
      "name1 \t 13 \t 52 \t 86 \t 151 \t 50\n",
      "name2 \t 53 \t 31 \t 18 \t 102 \t 34\n",
      "name3 \t 14 \t 11 \t 42 \t 67 \t 22\n",
      "name4 \t 76 \t 87 \t 46 \t 209 \t 69\n",
      "name5 \t 78 \t 82 \t 14 \t 174 \t 58\n",
      "name6 \t 64 \t 77 \t 48 \t 189 \t 63\n",
      "name7 \t 19 \t 46 \t 62 \t 127 \t 42\n",
      "name8 \t 71 \t 54 \t 62 \t 187 \t 62\n",
      "name9 \t 83 \t 29 \t 78 \t 190 \t 63\n",
      "name10 \t 88 \t 52 \t 10 \t 150 \t 50\n",
      "name11 \t 68 \t 99 \t 28 \t 195 \t 65\n",
      "name12 \t 60 \t 21 \t 86 \t 167 \t 55\n",
      "name13 \t 93 \t 16 \t 23 \t 132 \t 44\n",
      "name14 \t 70 \t 86 \t 95 \t 251 \t 83\n",
      "name15 \t 70 \t 15 \t 46 \t 131 \t 43\n",
      "name16 \t 97 \t 92 \t 30 \t 219 \t 73\n",
      "name17 \t 58 \t 14 \t 74 \t 146 \t 48\n",
      "name18 \t 31 \t 96 \t 81 \t 208 \t 69\n",
      "name19 \t 19 \t 61 \t 52 \t 132 \t 44\n",
      "name20 \t 96 \t 89 \t 80 \t 265 \t 88\n",
      "name21 \t 82 \t 26 \t 53 \t 161 \t 53\n",
      "name22 \t 30 \t 91 \t 65 \t 186 \t 62\n",
      "name23 \t 12 \t 49 \t 91 \t 152 \t 50\n",
      "name24 \t 59 \t 71 \t 60 \t 190 \t 63\n",
      "name25 \t 31 \t 89 \t 76 \t 196 \t 65\n",
      "name26 \t 50 \t 16 \t 68 \t 134 \t 44\n",
      "name27 \t 64 \t 26 \t 55 \t 145 \t 48\n",
      "name28 \t 13 \t 40 \t 30 \t 83 \t 27\n",
      "name29 \t 41 \t 58 \t 62 \t 161 \t 53\n",
      "name30 \t 15 \t 76 \t 56 \t 147 \t 49\n",
      "name31 \t 63 \t 69 \t 22 \t 154 \t 51\n",
      "name32 \t 67 \t 69 \t 16 \t 152 \t 50\n",
      "name33 \t 35 \t 94 \t 89 \t 218 \t 72\n",
      "name34 \t 59 \t 58 \t 16 \t 133 \t 44\n",
      "name35 \t 92 \t 59 \t 68 \t 219 \t 73\n",
      "name36 \t 47 \t 49 \t 47 \t 143 \t 47\n",
      "name37 \t 79 \t 82 \t 68 \t 229 \t 76\n",
      "name38 \t 51 \t 90 \t 89 \t 230 \t 76\n",
      "name39 \t 44 \t 10 \t 21 \t 75 \t 25\n",
      "name40 \t 34 \t 79 \t 23 \t 136 \t 45\n",
      "name41 \t 75 \t 83 \t 80 \t 238 \t 79\n",
      "name42 \t 80 \t 49 \t 71 \t 200 \t 66\n",
      "name43 \t 56 \t 79 \t 43 \t 178 \t 59\n",
      "name44 \t 85 \t 90 \t 16 \t 191 \t 63\n",
      "name45 \t 11 \t 46 \t 89 \t 146 \t 48\n",
      "name46 \t 48 \t 54 \t 95 \t 197 \t 65\n",
      "name47 \t 58 \t 55 \t 13 \t 126 \t 42\n",
      "name48 \t 63 \t 66 \t 58 \t 187 \t 62\n",
      "name49 \t 36 \t 22 \t 29 \t 87 \t 29\n",
      "name50 \t 67 \t 86 \t 82 \t 235 \t 78\n",
      "name51 \t 56 \t 66 \t 93 \t 215 \t 71\n",
      "name52 \t 95 \t 55 \t 69 \t 219 \t 73\n",
      "name53 \t 68 \t 35 \t 63 \t 166 \t 55\n",
      "name54 \t 71 \t 94 \t 15 \t 180 \t 60\n",
      "name55 \t 35 \t 35 \t 90 \t 160 \t 53\n",
      "name56 \t 34 \t 26 \t 92 \t 152 \t 50\n",
      "name57 \t 35 \t 21 \t 71 \t 127 \t 42\n",
      "name58 \t 72 \t 44 \t 88 \t 204 \t 68\n",
      "name59 \t 82 \t 69 \t 37 \t 188 \t 62\n",
      "name60 \t 51 \t 97 \t 97 \t 245 \t 81\n",
      "name61 \t 29 \t 71 \t 38 \t 138 \t 46\n",
      "name62 \t 19 \t 71 \t 29 \t 119 \t 39\n",
      "name63 \t 28 \t 77 \t 90 \t 195 \t 65\n",
      "name64 \t 74 \t 84 \t 90 \t 248 \t 82\n",
      "name65 \t 30 \t 52 \t 62 \t 144 \t 48\n",
      "name66 \t 75 \t 77 \t 55 \t 207 \t 69\n",
      "name67 \t 29 \t 74 \t 27 \t 130 \t 43\n",
      "name68 \t 21 \t 88 \t 47 \t 156 \t 52\n",
      "name69 \t 67 \t 76 \t 61 \t 204 \t 68\n",
      "name70 \t 58 \t 34 \t 33 \t 125 \t 41\n",
      "name71 \t 23 \t 15 \t 90 \t 128 \t 42\n",
      "name72 \t 44 \t 78 \t 37 \t 159 \t 53\n",
      "name73 \t 84 \t 80 \t 10 \t 174 \t 58\n",
      "name74 \t 37 \t 97 \t 12 \t 146 \t 48\n",
      "name75 \t 88 \t 75 \t 81 \t 244 \t 81\n",
      "name76 \t 65 \t 13 \t 87 \t 165 \t 55\n",
      "name77 \t 35 \t 74 \t 37 \t 146 \t 48\n",
      "name78 \t 60 \t 91 \t 76 \t 227 \t 75\n",
      "name79 \t 61 \t 36 \t 50 \t 147 \t 49\n",
      "name80 \t 29 \t 27 \t 50 \t 106 \t 35\n",
      "name81 \t 64 \t 14 \t 91 \t 169 \t 56\n",
      "name82 \t 71 \t 99 \t 82 \t 252 \t 84\n",
      "name83 \t 88 \t 71 \t 41 \t 200 \t 66\n",
      "name84 \t 39 \t 85 \t 37 \t 161 \t 53\n",
      "name85 \t 22 \t 26 \t 47 \t 95 \t 31\n",
      "name86 \t 73 \t 61 \t 89 \t 223 \t 74\n",
      "name87 \t 66 \t 57 \t 87 \t 210 \t 70\n",
      "name88 \t 75 \t 96 \t 77 \t 248 \t 82\n",
      "name89 \t 99 \t 50 \t 17 \t 166 \t 55\n",
      "name90 \t 41 \t 38 \t 25 \t 104 \t 34\n",
      "name91 \t 90 \t 52 \t 22 \t 164 \t 54\n",
      "name92 \t 31 \t 78 \t 58 \t 167 \t 55\n",
      "name93 \t 23 \t 68 \t 71 \t 162 \t 54\n",
      "name94 \t 11 \t 80 \t 35 \t 126 \t 42\n",
      "name95 \t 51 \t 12 \t 38 \t 101 \t 33\n",
      "name96 \t 19 \t 84 \t 40 \t 143 \t 47\n",
      "name97 \t 58 \t 63 \t 81 \t 202 \t 67\n",
      "name98 \t 84 \t 14 \t 85 \t 183 \t 61\n",
      "name99 \t 80 \t 91 \t 87 \t 258 \t 86\n",
      "==================================================\n",
      "반총점\t 5478 \t 5939 \t 5680 \t 17097 \t 56.0\n",
      "==================================================\n"
     ]
    }
   ],
   "source": [
    "import random as r #랜덤함수 사용하기 위해 라이브러리 선언\n",
    "\n",
    "def titleprint(): # 상단 부분 출력 구간\n",
    "    print(\"=\"*50) #구분선 출력\n",
    "    print(\"이름\\t국어\\t영어\\t수학\\t총점\\t평균\") #이름 및 과목 총점 평균 칸 생성\n",
    "    print(\"=\"*50) #구분선 출력\n",
    "    \n",
    "def itemprint(name,kor,eng,mat): # 성적 입력하는 함수\n",
    "    print(name,\"\\t\",kor,\"\\t\",eng,\"\\t\",mat,\"\\t\",kor+eng+mat,\"\\t\",(kor+eng+mat)//3)\n",
    "\n",
    "def tailprint(): #합산 부분 출력\n",
    "    totkor=0 #국어합 지정할 변수 선언\n",
    "    toteng=0 #영어합 지정할 변수 선언\n",
    "    totmat=0 #수학합 지정할 변수 선언\n",
    "    for one_student in score: #성적 배열의 각 과목 값을 더한다\n",
    "        totkor+=one_student[kor]\n",
    "        toteng+=one_student[eng]\n",
    "        totmat+=one_student[mat]\n",
    "    print(\"=\"*50) #구분선 출력\n",
    "    print(\"반총점\\t\",totkor,\"\\t\",toteng,\"\\t\",totmat,\"\\t\"\\\n",
    "        ,(totkor+toteng+totmat),\"\\t\",(totkor+toteng+totmat)/3//100) #이름 성적 총합 평균 출력\n",
    "    print(\"=\"*50) #구분선\n",
    "\n",
    "one_person=[] #리스트 선언(인원의 이름, 성적을 추가)\n",
    "score=[] #리스트 선언(위의 one_person의 성적을 하나하나 리스트에 추가)\n",
    "for i in range(100): #10부터 99까지 1씩 증가하며 입력하는 for문 작성\n",
    "    one_person.append(\"name\"+str(i)) #이름 (0 ~ 99)\n",
    "    one_person.append(r.randrange(10,100)) #국어 10부터100까지임의에값을추출\n",
    "    one_person.append(r.randrange(10,100)) #영어 10부터100까지임의에값을추출\n",
    "    one_person.append(r.randrange(10,100)) #수학 10부터100까지임의에값을추출\n",
    "    score.append(one_person[:]) #값을 복사해서 추가함에 주의할것\n",
    "    one_person.clear() #배열을 비운다.\n",
    "\n",
    "# 리스트에서의 위치 입력\n",
    "name=0; kor=1; eng=2; mat=3\n",
    "\n",
    "#함수 실행\n",
    "titleprint() #상단부 출력\n",
    "for one_student in score: #성적 출력\n",
    "    itemprint(one_student[name],one_student[kor],one_student[eng],one_student[mat])\n",
    "tailprint() #집계부분 출력"
   ]
  },
  {
   "cell_type": "code",
   "execution_count": 13,
   "id": "a6788bb2",
   "metadata": {},
   "outputs": [
    {
     "data": {
      "text/plain": [
       "(1, 8, 5, 6, 2, 4, 5, 2, 6, 9, 4)"
      ]
     },
     "execution_count": 13,
     "metadata": {},
     "output_type": "execute_result"
    }
   ],
   "source": [
    "a = (1, 8, 5, 6, 2, 4, 5, 2, 6, 9, 4) #튜플 a\n",
    "a"
   ]
  },
  {
   "cell_type": "code",
   "execution_count": 14,
   "id": "3415e364",
   "metadata": {},
   "outputs": [
    {
     "data": {
      "text/plain": [
       "4"
      ]
     },
     "execution_count": 14,
     "metadata": {},
     "output_type": "execute_result"
    }
   ],
   "source": [
    "a[5] #튜플에서 5번째 뒤의 값을 확인한다.(4)"
   ]
  },
  {
   "cell_type": "code",
   "execution_count": 15,
   "id": "2d65cd1d",
   "metadata": {},
   "outputs": [
    {
     "data": {
      "text/plain": [
       "(6, 2)"
      ]
     },
     "execution_count": 15,
     "metadata": {},
     "output_type": "execute_result"
    }
   ],
   "source": [
    "a[3:5] #3 4 값을 출력한다."
   ]
  },
  {
   "cell_type": "code",
   "execution_count": 16,
   "id": "3e2f9028",
   "metadata": {},
   "outputs": [
    {
     "data": {
      "text/plain": [
       "(6, 2, 4, 5, 2)"
      ]
     },
     "execution_count": 16,
     "metadata": {},
     "output_type": "execute_result"
    }
   ],
   "source": [
    "a[3:8] #3 4 5 6 7 을 출력한다"
   ]
  },
  {
   "cell_type": "code",
   "execution_count": 17,
   "id": "122a584f",
   "metadata": {},
   "outputs": [
    {
     "data": {
      "text/plain": [
       "(1, 8, 5, 6, 2, 4, 5, 2, 6, 9, 4, 1, 8, 5, 6, 2, 4, 5, 2, 6, 9, 4)"
      ]
     },
     "execution_count": 17,
     "metadata": {},
     "output_type": "execute_result"
    }
   ],
   "source": [
    "a*2 #a를 두번 출력한다."
   ]
  },
  {
   "cell_type": "code",
   "execution_count": 18,
   "id": "487aeb19",
   "metadata": {},
   "outputs": [
    {
     "data": {
      "text/plain": [
       "(1, 8, 5, 6, 2, 4, 5, 2, 6, 9, 4)"
      ]
     },
     "execution_count": 18,
     "metadata": {},
     "output_type": "execute_result"
    }
   ],
   "source": [
    "a #a를 출력한다."
   ]
  },
  {
   "cell_type": "code",
   "execution_count": 19,
   "id": "278a7c4e",
   "metadata": {},
   "outputs": [
    {
     "data": {
      "text/plain": [
       "(1, 8, 5, 6, 2, 4, 5, 2, 6, 9, 4, 1, 8, 5, 6, 2, 4, 5, 2, 6, 9, 4)"
      ]
     },
     "execution_count": 19,
     "metadata": {},
     "output_type": "execute_result"
    }
   ],
   "source": [
    "a = (1, 8, 5, 6, 2, 4, 5, 2, 6, 9, 4, 1, 8, 5, 6, 2, 4, 5, 2, 6, 9, 4) #튜플선언\n",
    "a #출력 "
   ]
  },
  {
   "cell_type": "code",
   "execution_count": 20,
   "id": "bddb4294",
   "metadata": {},
   "outputs": [
    {
     "ename": "TypeError",
     "evalue": "'tuple' object does not support item assignment",
     "output_type": "error",
     "traceback": [
      "\u001b[1;31m---------------------------------------------------------------------------\u001b[0m",
      "\u001b[1;31mTypeError\u001b[0m                                 Traceback (most recent call last)",
      "Input \u001b[1;32mIn [20]\u001b[0m, in \u001b[0;36m<cell line: 1>\u001b[1;34m()\u001b[0m\n\u001b[1;32m----> 1\u001b[0m a[\u001b[38;5;241m1\u001b[39m] \u001b[38;5;241m=\u001b[39m \u001b[38;5;241m5\u001b[39m\n",
      "\u001b[1;31mTypeError\u001b[0m: 'tuple' object does not support item assignment"
     ]
    }
   ],
   "source": [
    "a[1] = 5 #값 변경 불가"
   ]
  },
  {
   "cell_type": "code",
   "execution_count": 21,
   "id": "95bbc9bd",
   "metadata": {},
   "outputs": [
    {
     "ename": "TypeError",
     "evalue": "'tuple' object doesn't support item deletion",
     "output_type": "error",
     "traceback": [
      "\u001b[1;31m---------------------------------------------------------------------------\u001b[0m",
      "\u001b[1;31mTypeError\u001b[0m                                 Traceback (most recent call last)",
      "Input \u001b[1;32mIn [21]\u001b[0m, in \u001b[0;36m<cell line: 1>\u001b[1;34m()\u001b[0m\n\u001b[1;32m----> 1\u001b[0m \u001b[38;5;28;01mdel\u001b[39;00m a[\u001b[38;5;241m4\u001b[39m]\n",
      "\u001b[1;31mTypeError\u001b[0m: 'tuple' object doesn't support item deletion"
     ]
    }
   ],
   "source": [
    "del a[4] #변수 지우기 불가"
   ]
  },
  {
   "cell_type": "code",
   "execution_count": 22,
   "id": "e6eaf348",
   "metadata": {},
   "outputs": [
    {
     "ename": "AttributeError",
     "evalue": "'tuple' object has no attribute 'append'",
     "output_type": "error",
     "traceback": [
      "\u001b[1;31m---------------------------------------------------------------------------\u001b[0m",
      "\u001b[1;31mAttributeError\u001b[0m                            Traceback (most recent call last)",
      "Input \u001b[1;32mIn [22]\u001b[0m, in \u001b[0;36m<cell line: 1>\u001b[1;34m()\u001b[0m\n\u001b[1;32m----> 1\u001b[0m \u001b[43ma\u001b[49m\u001b[38;5;241;43m.\u001b[39;49m\u001b[43mappend\u001b[49m(\u001b[38;5;241m10\u001b[39m)\n",
      "\u001b[1;31mAttributeError\u001b[0m: 'tuple' object has no attribute 'append'"
     ]
    }
   ],
   "source": [
    "a.append(10) #추가 불가능"
   ]
  },
  {
   "cell_type": "code",
   "execution_count": 25,
   "id": "08a8e905",
   "metadata": {},
   "outputs": [
    {
     "name": "stdout",
     "output_type": "stream",
     "text": [
      "((2, 17403), (41, 40338))\n"
     ]
    }
   ],
   "source": [
    "def location(): #위치 출력하는 함수 선언\n",
    "    latitude = 2, 17403 # 위도 입력\n",
    "    longitude=41,40338 #경도 입력\n",
    "    return latitude,longitude  #이런 방식의 리턴은 튜플로 반환\n",
    "\n",
    "a=location() #함수의 리턴값 입력\n",
    "print(a) #a 출력"
   ]
  },
  {
   "cell_type": "code",
   "execution_count": 26,
   "id": "b1827884",
   "metadata": {},
   "outputs": [
    {
     "data": {
      "text/plain": [
       "95"
      ]
     },
     "execution_count": 26,
     "metadata": {},
     "output_type": "execute_result"
    }
   ],
   "source": [
    "a={\"이름\":\"홍길동\", \"국어\":100, \"영어\":88, \"수학\": 95} #a 에 딕셔러니 정의\n",
    "a[\"수학\"] #a의 key가 수학인 값 출력"
   ]
  },
  {
   "cell_type": "code",
   "execution_count": 27,
   "id": "21258d40",
   "metadata": {},
   "outputs": [
    {
     "data": {
      "text/plain": [
       "'홍길동'"
      ]
     },
     "execution_count": 27,
     "metadata": {},
     "output_type": "execute_result"
    }
   ],
   "source": [
    "a[\"이름\"] #a의 key가 이름인 값 출력"
   ]
  },
  {
   "cell_type": "code",
   "execution_count": 28,
   "id": "f6c509c3",
   "metadata": {},
   "outputs": [
    {
     "data": {
      "text/plain": [
       "dict_keys(['이름', '국어', '영어', '수학'])"
      ]
     },
     "execution_count": 28,
     "metadata": {},
     "output_type": "execute_result"
    }
   ],
   "source": [
    "a.keys() #a의 key 값만 출력"
   ]
  },
  {
   "cell_type": "code",
   "execution_count": 29,
   "id": "39f861de",
   "metadata": {},
   "outputs": [
    {
     "data": {
      "text/plain": [
       "dict_values(['홍길동', 100, 88, 95])"
      ]
     },
     "execution_count": 29,
     "metadata": {},
     "output_type": "execute_result"
    }
   ],
   "source": [
    "a.values() #a의 values 값 출력"
   ]
  },
  {
   "cell_type": "code",
   "execution_count": 30,
   "id": "5143cd78",
   "metadata": {},
   "outputs": [
    {
     "data": {
      "text/plain": [
       "dict_items([('이름', '홍길동'), ('국어', 100), ('영어', 88), ('수학', 95)])"
      ]
     },
     "execution_count": 30,
     "metadata": {},
     "output_type": "execute_result"
    }
   ],
   "source": [
    "a.items() #a의 키와 벨류 값 모두 출력"
   ]
  },
  {
   "cell_type": "code",
   "execution_count": 31,
   "id": "ad09cb71",
   "metadata": {},
   "outputs": [
    {
     "name": "stdout",
     "output_type": "stream",
     "text": [
      "('이름', '홍길동'),('국어', 100),('영어', 88),('수학', 95),"
     ]
    }
   ],
   "source": [
    "a={\"이름\":\"홍길동\", \"국어\":100, \"영어\":88, \"수학\": 95} #딕셔너리 작성\n",
    "for i in a.items(): # a의 키와 벨류 값을 순서대로 입력하는 for문\n",
    "    print (i,end=\",\") # 값 출력 사이에 콤마로 구분"
   ]
  },
  {
   "cell_type": "code",
   "execution_count": 32,
   "id": "6634e603",
   "metadata": {},
   "outputs": [
    {
     "name": "stdout",
     "output_type": "stream",
     "text": [
      "이름,국어,영어,수학,"
     ]
    }
   ],
   "source": [
    "for i in a.keys(): #키 값만 넣는 for문 작성\n",
    "    print (i,end=\",\") #키값만 출력"
   ]
  },
  {
   "cell_type": "code",
   "execution_count": 33,
   "id": "ad12da0a",
   "metadata": {},
   "outputs": [
    {
     "name": "stdout",
     "output_type": "stream",
     "text": [
      "홍길동,100,88,95,"
     ]
    }
   ],
   "source": [
    "for i in a.values(): #벨류 값만 넣는 for문 작성\n",
    "    print (i,end=\",\") #벨류 값 출력"
   ]
  },
  {
   "cell_type": "code",
   "execution_count": 34,
   "id": "e0ab2a8e",
   "metadata": {},
   "outputs": [
    {
     "name": "stdout",
     "output_type": "stream",
     "text": [
      "None\n"
     ]
    }
   ],
   "source": [
    "a = {\"이름\":\"홍길동\", \"국어\":100, \"영어\":88, \"수학\": 95} # 딕셔너리정의\n",
    "print(a.get(\"과학\")) #해당 키의 값을 검색, 없음 출력"
   ]
  },
  {
   "cell_type": "code",
   "execution_count": 36,
   "id": "959b9b95",
   "metadata": {},
   "outputs": [
    {
     "name": "stdout",
     "output_type": "stream",
     "text": [
      "없는 과목입니다\n"
     ]
    }
   ],
   "source": [
    "print(a.get(\"과학\",\"없는 과목입니다\")) #과학이 없다면 과목이 없습니다."
   ]
  },
  {
   "cell_type": "code",
   "execution_count": 37,
   "id": "931a97af",
   "metadata": {},
   "outputs": [
    {
     "name": "stdout",
     "output_type": "stream",
     "text": [
      "95\n"
     ]
    }
   ],
   "source": [
    "print(a.get(\"수학\",\"없는 과목입니다\")) #수학 없으면 없는과목입니다 출력"
   ]
  },
  {
   "cell_type": "code",
   "execution_count": 38,
   "id": "d2d605a8",
   "metadata": {},
   "outputs": [
    {
     "name": "stdout",
     "output_type": "stream",
     "text": [
      "{'안': 1, '녕': 1, '하': 1, '셔': 1, '요': 3, '.': 2, ' ': 9, '오': 1, '늘': 1, '은': 2, '날': 1, '씨': 1, '가': 2, '매': 2, '우': 2, '화': 1, '창': 1, '합': 1, '니': 1, '다': 1, '\\n': 2, '그': 1, '래': 1, '서': 1, '기': 2, '분': 2, '이': 2, '좋': 2, '네': 1, '너': 1, '도': 1, '랄': 3, '라': 7, 'a': 1, 'b': 1, 'c': 1, '임': 1, '마': 1}\n"
     ]
    }
   ],
   "source": [
    "text=\"\"\"안녕하셔요. 오늘은날씨가매우화창합니다.\n",
    "    그래서기분이매우좋네요\n",
    "    너도기분이좋은가요랄라랄랄라라라라라라abc임마\"\"\"\n",
    "\n",
    "a=dict() #하나의 딕셔너리 자료형을 정의\n",
    "\n",
    "for c in text: #위에 정의한 텍스트를 하나씩 추출하여 처리\n",
    "    if c not in a: #해당 추출 글자가 지금까지의 딕셔너리에 없다면\n",
    "        a[c]=1 #그때는 최초 1값으로 시작\n",
    "    else: #이 경우는 해당 추출 글자의 딕셔너리가 있다\n",
    "        a[c] +=1 #그럼 해당 딕셔너리 키에 해당 되는 값을 하나 더함\n",
    "print(a)"
   ]
  },
  {
   "cell_type": "code",
   "execution_count": 39,
   "id": "56f05b5e",
   "metadata": {},
   "outputs": [
    {
     "name": "stdout",
     "output_type": "stream",
     "text": [
      "{'\\n': 2, ' ': 9, '.': 2, 'a': 1, 'b': 1, 'c': 1, '가': 2, '그': 1, '기': 2, '날': 1, '너': 1, '네': 1, '녕': 1, '늘': 1, '니': 1, '다': 1, '도': 1, '라': 7, '랄': 3, '래': 1, '마': 1, '매': 2, '분': 2, '서': 1, '셔': 1, '씨': 1, '안': 1, '오': 1, '요': 3, '우': 2, '은': 2, '이': 2, '임': 1, '좋': 2, '창': 1, '하': 1, '합': 1, '화': 1}\n"
     ]
    }
   ],
   "source": [
    "#가다나순으로 재정렬\n",
    "b=dict() #딕셔너리 정의\n",
    "l=list(a.keys()) #앞에 딕서너리에 키만 뽑아 리스트를 만든다\n",
    "l.sort() #해당 리스트 정렬\n",
    "for c in l: #각리스트에 대하여(결국 키 값) 하나씩 뽑음\n",
    "    b[c]=a[c] # 새로운 딕셔너리는 키 값 순서로 만든다.\n",
    "print(b) #출력"
   ]
  },
  {
   "cell_type": "code",
   "execution_count": 41,
   "id": "4930b08f",
   "metadata": {},
   "outputs": [
    {
     "data": {
      "text/plain": [
       "{1, 2, 3, 4, 5}"
      ]
     },
     "execution_count": 41,
     "metadata": {},
     "output_type": "execute_result"
    }
   ],
   "source": [
    "a={1,2,2,2,2,3,3,3,4,5} #집합 선언\n",
    "a #출력, 중복이 삭제된다."
   ]
  },
  {
   "cell_type": "code",
   "execution_count": 43,
   "id": "78689e20",
   "metadata": {},
   "outputs": [
    {
     "data": {
      "text/plain": [
       "{1, 2, 'a'}"
      ]
     },
     "execution_count": 43,
     "metadata": {},
     "output_type": "execute_result"
    }
   ],
   "source": [
    "set((\"a\",1,2)) # 숫자형(1 2)와 문자형(a) 를 집합으로 세팅"
   ]
  },
  {
   "cell_type": "code",
   "execution_count": 44,
   "id": "6fef4a03",
   "metadata": {},
   "outputs": [
    {
     "data": {
      "text/plain": [
       "{'a'}"
      ]
     },
     "execution_count": 44,
     "metadata": {},
     "output_type": "execute_result"
    }
   ],
   "source": [
    "set(\"a\") #문자형(a)를 집합으로 세팅"
   ]
  },
  {
   "cell_type": "code",
   "execution_count": 47,
   "id": "2c9d9666",
   "metadata": {},
   "outputs": [
    {
     "data": {
      "text/plain": [
       "{'국어', '수학', '영어', '이름'}"
      ]
     },
     "execution_count": 47,
     "metadata": {},
     "output_type": "execute_result"
    }
   ],
   "source": [
    "set({\"이름\":\"홍길동\", \"국어\":100, \"영어\":88, \"수학\": 95}) # 키:벨류 형식의 딕셔러니형 자료를 함수로 세팅, 이때 키값만 변환된다."
   ]
  },
  {
   "cell_type": "code",
   "execution_count": 48,
   "id": "6e1f00c8",
   "metadata": {},
   "outputs": [
    {
     "data": {
      "text/plain": [
       "{1, 2, 3, 4, 5}"
      ]
     },
     "execution_count": 48,
     "metadata": {},
     "output_type": "execute_result"
    }
   ],
   "source": [
    "a={1,2,3,4,5} # 집합 선언\n",
    "a #a 출력"
   ]
  },
  {
   "cell_type": "code",
   "execution_count": 49,
   "id": "ce4d3620",
   "metadata": {},
   "outputs": [],
   "source": [
    "a.add(0) #a 출력 0추가 숫자가 작아서 제일 앞에 위치할 것으로 추측"
   ]
  },
  {
   "cell_type": "code",
   "execution_count": 50,
   "id": "10801535",
   "metadata": {},
   "outputs": [
    {
     "data": {
      "text/plain": [
       "{0, 1, 2, 3, 4, 5}"
      ]
     },
     "execution_count": 50,
     "metadata": {},
     "output_type": "execute_result"
    }
   ],
   "source": [
    "a #a 출력"
   ]
  },
  {
   "cell_type": "code",
   "execution_count": 54,
   "id": "0df31d90",
   "metadata": {},
   "outputs": [],
   "source": [
    "a.add(2.4) #a에 2.4 추가"
   ]
  },
  {
   "cell_type": "code",
   "execution_count": 55,
   "id": "f5857aca",
   "metadata": {},
   "outputs": [
    {
     "data": {
      "text/plain": [
       "{0, 1, 2, 2.4, 3, 4, 5}"
      ]
     },
     "execution_count": 55,
     "metadata": {},
     "output_type": "execute_result"
    }
   ],
   "source": [
    "a #출력"
   ]
  },
  {
   "cell_type": "code",
   "execution_count": 56,
   "id": "0f86f939",
   "metadata": {},
   "outputs": [],
   "source": [
    "a.remove(3) #3을 집합에서 제거"
   ]
  },
  {
   "cell_type": "code",
   "execution_count": 57,
   "id": "058f125e",
   "metadata": {},
   "outputs": [
    {
     "data": {
      "text/plain": [
       "{0, 1, 2, 2.4, 4, 5}"
      ]
     },
     "execution_count": 57,
     "metadata": {},
     "output_type": "execute_result"
    }
   ],
   "source": [
    "a #출력"
   ]
  },
  {
   "cell_type": "code",
   "execution_count": 58,
   "id": "613151a5",
   "metadata": {},
   "outputs": [
    {
     "data": {
      "text/plain": [
       "{1, 2, 3, 4, 5, 6, 7, 8, 9, 10}"
      ]
     },
     "execution_count": 58,
     "metadata": {},
     "output_type": "execute_result"
    }
   ],
   "source": [
    "A={1,2,3,4,5,6,7} #집합 선언 (A)\n",
    "B={7,8,9,10} # 집합 선언(B)\n",
    "A|B #두 집합의 합을 출력한다."
   ]
  },
  {
   "cell_type": "code",
   "execution_count": 59,
   "id": "37bc0599",
   "metadata": {},
   "outputs": [
    {
     "data": {
      "text/plain": [
       "{7}"
      ]
     },
     "execution_count": 59,
     "metadata": {},
     "output_type": "execute_result"
    }
   ],
   "source": [
    "A&B #두 집합의 교집합 출력"
   ]
  },
  {
   "cell_type": "code",
   "execution_count": 60,
   "id": "d1e31943",
   "metadata": {},
   "outputs": [
    {
     "data": {
      "text/plain": [
       "{1, 2, 3, 4, 5, 6}"
      ]
     },
     "execution_count": 60,
     "metadata": {},
     "output_type": "execute_result"
    }
   ],
   "source": [
    "A-B #A집합에서 B집합과의 교집합 부분을 삭제"
   ]
  },
  {
   "cell_type": "code",
   "execution_count": 61,
   "id": "58a77725",
   "metadata": {},
   "outputs": [
    {
     "data": {
      "text/plain": [
       "False"
      ]
     },
     "execution_count": 61,
     "metadata": {},
     "output_type": "execute_result"
    }
   ],
   "source": [
    "{1,2,3} < {1,2} #거짓"
   ]
  },
  {
   "cell_type": "code",
   "execution_count": 62,
   "id": "8fb4ed73",
   "metadata": {},
   "outputs": [
    {
     "data": {
      "text/plain": [
       "True"
      ]
     },
     "execution_count": 62,
     "metadata": {},
     "output_type": "execute_result"
    }
   ],
   "source": [
    "{1,2,3} > {1,2} #참"
   ]
  },
  {
   "cell_type": "code",
   "execution_count": 63,
   "id": "bf4b0e75",
   "metadata": {},
   "outputs": [
    {
     "data": {
      "text/plain": [
       "True"
      ]
     },
     "execution_count": 63,
     "metadata": {},
     "output_type": "execute_result"
    }
   ],
   "source": [
    "{1,2,3} >= {1,2} #참"
   ]
  },
  {
   "cell_type": "code",
   "execution_count": 64,
   "id": "aa525c5c",
   "metadata": {},
   "outputs": [
    {
     "data": {
      "text/plain": [
       "False"
      ]
     },
     "execution_count": 64,
     "metadata": {},
     "output_type": "execute_result"
    }
   ],
   "source": [
    "{1,2,3} == {1,2} #거짓"
   ]
  },
  {
   "cell_type": "code",
   "execution_count": 65,
   "id": "21f454ea",
   "metadata": {},
   "outputs": [
    {
     "data": {
      "text/plain": [
       "True"
      ]
     },
     "execution_count": 65,
     "metadata": {},
     "output_type": "execute_result"
    }
   ],
   "source": [
    "{1,2,3} >= {3,1,2} #참"
   ]
  },
  {
   "cell_type": "code",
   "execution_count": 66,
   "id": "6fac3571",
   "metadata": {},
   "outputs": [
    {
     "data": {
      "text/plain": [
       "True"
      ]
     },
     "execution_count": 66,
     "metadata": {},
     "output_type": "execute_result"
    }
   ],
   "source": [
    "{1,2,3} == {3,1,2} #참"
   ]
  },
  {
   "cell_type": "code",
   "execution_count": 67,
   "id": "b1dc7bc0",
   "metadata": {},
   "outputs": [
    {
     "data": {
      "text/plain": [
       "{0: 'a', 1: 'b', 2: 'c', 3: 'd', 4: 'e'}"
      ]
     },
     "execution_count": 67,
     "metadata": {},
     "output_type": "execute_result"
    }
   ],
   "source": [
    "a=[\"a\",\"b\",\"c\",\"d\",\"e\"] # 리스트 선언\n",
    "b={} #빈 딕셔너리 선언\n",
    "for i in range(len(a)):\n",
    "    b[i]=a[i] #a의 값을 딕셔너리로 전환\n",
    "b #출력, 키값은 0 부터 순서대로 지정된다."
   ]
  },
  {
   "cell_type": "code",
   "execution_count": 68,
   "id": "0c2074e8",
   "metadata": {},
   "outputs": [
    {
     "data": {
      "text/plain": [
       "<enumerate at 0x27890c95a40>"
      ]
     },
     "execution_count": 68,
     "metadata": {},
     "output_type": "execute_result"
    }
   ],
   "source": [
    "a=[\"a\",\"b\",\"c\",\"d\",\"e\"] #리스트 선언\n",
    "b=enumerate(a) # 0투터 차례의 숫자로 대입\n",
    "b #출력 (형식을 지정안했음)"
   ]
  },
  {
   "cell_type": "code",
   "execution_count": 69,
   "id": "592b629f",
   "metadata": {},
   "outputs": [],
   "source": [
    "b=dict(enumerate(a)); c=list(enumerate(a)) #딕셔너리(b)와 리스트(c)를 만든다"
   ]
  },
  {
   "cell_type": "code",
   "execution_count": 70,
   "id": "f58fe222",
   "metadata": {},
   "outputs": [
    {
     "data": {
      "text/plain": [
       "{0: 'a', 1: 'b', 2: 'c', 3: 'd', 4: 'e'}"
      ]
     },
     "execution_count": 70,
     "metadata": {},
     "output_type": "execute_result"
    }
   ],
   "source": [
    "b #b 출력"
   ]
  },
  {
   "cell_type": "code",
   "execution_count": 71,
   "id": "864c8ab4",
   "metadata": {},
   "outputs": [
    {
     "data": {
      "text/plain": [
       "[(0, 'a'), (1, 'b'), (2, 'c'), (3, 'd'), (4, 'e')]"
      ]
     },
     "execution_count": 71,
     "metadata": {},
     "output_type": "execute_result"
    }
   ],
   "source": [
    "c #c 출력"
   ]
  },
  {
   "cell_type": "code",
   "execution_count": 73,
   "id": "c499003f",
   "metadata": {},
   "outputs": [
    {
     "data": {
      "text/plain": [
       "<zip at 0x2788f191240>"
      ]
     },
     "execution_count": 73,
     "metadata": {},
     "output_type": "execute_result"
    }
   ],
   "source": [
    "a={1,2,3,4,5,6,7,8} #집합 선언 \n",
    "b={\"a\",\"b\",\"c\",\"d\",\"e\"} #집합 선언\n",
    "zip(a,b) #zip을 실행하면 형태를 지정해줘야한다. 우선 object로 출력 될 예정, ab를 서로 매칭해준다."
   ]
  },
  {
   "cell_type": "code",
   "execution_count": 74,
   "id": "dfabba94",
   "metadata": {},
   "outputs": [
    {
     "data": {
      "text/plain": [
       "{1: 'd', 2: 'b', 3: 'a', 4: 'c', 5: 'e'}"
      ]
     },
     "execution_count": 74,
     "metadata": {},
     "output_type": "execute_result"
    }
   ],
   "source": [
    "c = dict(zip(a,b)); d = list(zip(a,b)) #c d를 각각 딕셔너리, 리스트 형으로 지정해준다.\n",
    "c #c 출력"
   ]
  },
  {
   "cell_type": "code",
   "execution_count": 75,
   "id": "5745b24b",
   "metadata": {},
   "outputs": [
    {
     "data": {
      "text/plain": [
       "[(1, 'd'), (2, 'b'), (3, 'a'), (4, 'c'), (5, 'e')]"
      ]
     },
     "execution_count": 75,
     "metadata": {},
     "output_type": "execute_result"
    }
   ],
   "source": [
    "d #d 출력"
   ]
  },
  {
   "cell_type": "code",
   "execution_count": 76,
   "id": "da3e3239",
   "metadata": {},
   "outputs": [],
   "source": [
    "a=(1,2,3,4,5,6,7,8) #튜플 선언\n",
    "b=[\"a\",\"b\",\"c\",\"d\",\"e\"] #리스트 선언\n",
    "c=dict(zip(a,b)); #a b를  zip하고 딕셔너리로 지정\n",
    "d=list(zip(a,b)) #a b를 zip하고 리스트로 지정"
   ]
  },
  {
   "cell_type": "code",
   "execution_count": 77,
   "id": "1419ea9f",
   "metadata": {},
   "outputs": [
    {
     "data": {
      "text/plain": [
       "{1: 'a', 2: 'b', 3: 'c', 4: 'd', 5: 'e'}"
      ]
     },
     "execution_count": 77,
     "metadata": {},
     "output_type": "execute_result"
    }
   ],
   "source": [
    "c #c 출력"
   ]
  },
  {
   "cell_type": "code",
   "execution_count": 78,
   "id": "63dac56e",
   "metadata": {},
   "outputs": [
    {
     "data": {
      "text/plain": [
       "[(1, 'a'), (2, 'b'), (3, 'c'), (4, 'd'), (5, 'e')]"
      ]
     },
     "execution_count": 78,
     "metadata": {},
     "output_type": "execute_result"
    }
   ],
   "source": [
    "d #d 출력"
   ]
  },
  {
   "cell_type": "code",
   "execution_count": 100,
   "id": "c84340fb",
   "metadata": {},
   "outputs": [
    {
     "name": "stdout",
     "output_type": "stream",
     "text": [
      "2\n",
      "4\n",
      "6\n"
     ]
    }
   ],
   "source": [
    "def func(x): #x를 인수로 받는 함수 선언\n",
    "    if x % 2 == 0 :\n",
    "        return x/2 #리턴값\n",
    "\n",
    "x=(1,2,3,4,5,6) #튜플 선언\n",
    "for i in filter(func,x): #func에 부합하는 x 를 filter\n",
    "    print(i) #출력, func에 만족하는, 짝수만 출력"
   ]
  },
  {
   "cell_type": "code",
   "execution_count": 94,
   "id": "17a442f1",
   "metadata": {},
   "outputs": [
    {
     "data": {
      "text/plain": [
       "[1, 2, 3, 4, 5, 6]"
      ]
     },
     "execution_count": 94,
     "metadata": {},
     "output_type": "execute_result"
    }
   ],
   "source": [
    "list(filter(func,x))"
   ]
  },
  {
   "cell_type": "code",
   "execution_count": 101,
   "id": "8640df77",
   "metadata": {},
   "outputs": [
    {
     "name": "stdout",
     "output_type": "stream",
     "text": [
      "8\n",
      "10\n",
      "12\n",
      "14\n",
      "16\n",
      "18\n"
     ]
    }
   ],
   "source": [
    "def func(x,y): #x y를 인수로 받는 함수 선언\n",
    "    return x+y\n",
    "\n",
    "x=(1,2,3,4,5,6) #튜플 선언 \n",
    "y=(7,8,9,10,11,12) #튜플 선언\n",
    "\n",
    "for i in map(func,x,y): #인수가 여러개 > map 사용, filter x\n",
    "    print(i)"
   ]
  },
  {
   "cell_type": "code",
   "execution_count": 103,
   "id": "05d6619d",
   "metadata": {},
   "outputs": [
    {
     "name": "stdout",
     "output_type": "stream",
     "text": [
      "8\n",
      "10\n",
      "12\n",
      "14\n",
      "16\n",
      "18\n"
     ]
    }
   ],
   "source": [
    "x=(1,2,3,4,5,6) #튜플 선언\n",
    "y=(7,8,9,10,11,12) #튜플 선언\n",
    "for i in map(lambda x,y:x+y, x,y): # x,y를 인자로 받고 x+y값을 리턴하는 함수를 lamda형식으로 선언\n",
    "    print(i) # 결과 출력"
   ]
  },
  {
   "cell_type": "code",
   "execution_count": 119,
   "id": "ffdc6acc",
   "metadata": {},
   "outputs": [
    {
     "data": {
      "text/plain": [
       "[1, 2, 5]"
      ]
     },
     "execution_count": 119,
     "metadata": {},
     "output_type": "execute_result"
    }
   ],
   "source": [
    "a=[1,2,3] #리스트 선언\n",
    "b=a #b에 a copy (서로 영향을 준다.)\n",
    "b[2]=5 #2번째 값을 5로 변경, a b 모두 바뀐다\n",
    "a #a 출력"
   ]
  },
  {
   "cell_type": "code",
   "execution_count": 120,
   "id": "39dca172",
   "metadata": {},
   "outputs": [
    {
     "data": {
      "text/plain": [
       "[1, 2, 5]"
      ]
     },
     "execution_count": 120,
     "metadata": {},
     "output_type": "execute_result"
    }
   ],
   "source": [
    "b #b출력"
   ]
  },
  {
   "cell_type": "code",
   "execution_count": 121,
   "id": "60eca730",
   "metadata": {},
   "outputs": [],
   "source": [
    "b[1] = 3 #b의 첫번째 값 3으로 변경"
   ]
  },
  {
   "cell_type": "code",
   "execution_count": 122,
   "id": "7fac2799",
   "metadata": {},
   "outputs": [
    {
     "data": {
      "text/plain": [
       "[1, 3, 5]"
      ]
     },
     "execution_count": 122,
     "metadata": {},
     "output_type": "execute_result"
    }
   ],
   "source": [
    "a #출력"
   ]
  },
  {
   "cell_type": "code",
   "execution_count": 127,
   "id": "4db7434a",
   "metadata": {},
   "outputs": [
    {
     "name": "stdout",
     "output_type": "stream",
     "text": [
      "[1, 2, 3]\n"
     ]
    },
    {
     "data": {
      "text/plain": [
       "[1, 2, 5]"
      ]
     },
     "execution_count": 127,
     "metadata": {},
     "output_type": "execute_result"
    }
   ],
   "source": [
    "a=[1,2,3] #리스트 선언\n",
    "b=a[:] #b에 a 복사\n",
    "b[2]=5 #b의 2번째 값만 5로 변경\n",
    "print(a);b # a b 출력"
   ]
  },
  {
   "cell_type": "code",
   "execution_count": 128,
   "id": "759e25fe",
   "metadata": {},
   "outputs": [
    {
     "name": "stdout",
     "output_type": "stream",
     "text": [
      "[1, 2, 3]\n"
     ]
    },
    {
     "data": {
      "text/plain": [
       "[1, 2, 5]"
      ]
     },
     "execution_count": 128,
     "metadata": {},
     "output_type": "execute_result"
    }
   ],
   "source": [
    "a=[1,2,3] #리스트 선언\n",
    "b=a.copy() #b에 a 복사\n",
    "b[2]=5 #b의 2번째 값만 5로 변경\n",
    "print(a);b # a b 출력"
   ]
  },
  {
   "cell_type": "code",
   "execution_count": 116,
   "id": "74e786fc",
   "metadata": {},
   "outputs": [
    {
     "data": {
      "text/plain": [
       "[[1, 2], 3, 4]"
      ]
     },
     "execution_count": 116,
     "metadata": {},
     "output_type": "execute_result"
    }
   ],
   "source": [
    "a=[[1,2],3,4] #리스트 선언\n",
    "b=a.copy() #b에 a 옅은 복사\n",
    "b #b출력"
   ]
  },
  {
   "cell_type": "code",
   "execution_count": 117,
   "id": "83286811",
   "metadata": {},
   "outputs": [
    {
     "data": {
      "text/plain": [
       "[[1, 3], 3, 4]"
      ]
     },
     "execution_count": 117,
     "metadata": {},
     "output_type": "execute_result"
    }
   ],
   "source": [
    "b[0][1] = 3 #0번째 배열의 1번째 요소 3으로 변경\n",
    "b #출력"
   ]
  },
  {
   "cell_type": "code",
   "execution_count": 118,
   "id": "0323a658",
   "metadata": {},
   "outputs": [
    {
     "data": {
      "text/plain": [
       "[[1, 3], 3, 4]"
      ]
     },
     "execution_count": 118,
     "metadata": {},
     "output_type": "execute_result"
    }
   ],
   "source": [
    "a #원래는 a의 값이 바뀌면 안된다. 하지만 리스트 안의 리스트는 완전히 복제하지 못해서 같이 변경된다."
   ]
  },
  {
   "cell_type": "code",
   "execution_count": 129,
   "id": "21222123",
   "metadata": {},
   "outputs": [
    {
     "data": {
      "text/plain": [
       "[[1, 2], 3, 4]"
      ]
     },
     "execution_count": 129,
     "metadata": {},
     "output_type": "execute_result"
    }
   ],
   "source": [
    "a=[[1,2],3,4] #리스트 선언\n",
    "b = a[:] #옅은 복사\n",
    "b #출력"
   ]
  },
  {
   "cell_type": "code",
   "execution_count": 130,
   "id": "dded0386",
   "metadata": {},
   "outputs": [
    {
     "data": {
      "text/plain": [
       "[[1, 3], 3, 4]"
      ]
     },
     "execution_count": 130,
     "metadata": {},
     "output_type": "execute_result"
    }
   ],
   "source": [
    "b[0][1] =3 #b의 값을 변경, 옅은 복사\n",
    "a #a 출력, 원래는 a의 값이 바뀌면 안된다. 하지만 리스트 안의 리스트는 완전히 복제하지 못해서 같이 변경된다."
   ]
  },
  {
   "cell_type": "code",
   "execution_count": 131,
   "id": "08b7da13",
   "metadata": {},
   "outputs": [
    {
     "name": "stdout",
     "output_type": "stream",
     "text": [
      "[[1, 2], 3, 4] [[1, 3], 3, 4]\n"
     ]
    }
   ],
   "source": [
    "import copy as c #deepcopy를 사용하기 위해 라이브러리 사용\n",
    "\n",
    "a=[[1,2],3,4] #리스트 선언\n",
    "b=c.deepcopy(a) # b를 깊은 복사\n",
    "b[0][1]=3 #b의 0번째 값의 1번째 값을 3으로 변경, a와 b는 독립적\n",
    "print(a,b) #a b 출력"
   ]
  },
  {
   "cell_type": "code",
   "execution_count": 132,
   "id": "be028964",
   "metadata": {},
   "outputs": [
    {
     "data": {
      "text/plain": [
       "('a', 'b', 'c', 'd', 'e')"
      ]
     },
     "execution_count": 132,
     "metadata": {},
     "output_type": "execute_result"
    }
   ],
   "source": [
    "a=\"abcde\" # 문자열 지정\n",
    "a[0],a[1],a[2],a[3],a[4] #출력"
   ]
  },
  {
   "cell_type": "code",
   "execution_count": 133,
   "id": "23b0acb1",
   "metadata": {},
   "outputs": [
    {
     "data": {
      "text/plain": [
       "('e', 'c', 'c', 'b', 'a')"
      ]
     },
     "execution_count": 133,
     "metadata": {},
     "output_type": "execute_result"
    }
   ],
   "source": [
    "a[-1],a[2],a[-3],a[-4],a[-5] #-(마이너스)로 위치 지정"
   ]
  },
  {
   "cell_type": "code",
   "execution_count": 134,
   "id": "1a0f9f5a",
   "metadata": {},
   "outputs": [
    {
     "data": {
      "text/plain": [
       "('가', '나', '다', '라', '마')"
      ]
     },
     "execution_count": 134,
     "metadata": {},
     "output_type": "execute_result"
    }
   ],
   "source": [
    "a=\"가나다라마\" # 문자열 지정\n",
    "a[0],a[1],a[2],a[3],a[4] #출력"
   ]
  },
  {
   "cell_type": "code",
   "execution_count": 135,
   "id": "932176e5",
   "metadata": {},
   "outputs": [
    {
     "data": {
      "text/plain": [
       "'bcde'"
      ]
     },
     "execution_count": 135,
     "metadata": {},
     "output_type": "execute_result"
    }
   ],
   "source": [
    "a=\"abcde\" #a에 문자열 입력\n",
    "a[1:5] # bcde 출력"
   ]
  },
  {
   "cell_type": "code",
   "execution_count": 136,
   "id": "507cfd41",
   "metadata": {},
   "outputs": [
    {
     "data": {
      "text/plain": [
       "'b'"
      ]
     },
     "execution_count": 136,
     "metadata": {},
     "output_type": "execute_result"
    }
   ],
   "source": [
    "a[1:2] #1부터 1까지지, b 출력"
   ]
  },
  {
   "cell_type": "code",
   "execution_count": 137,
   "id": "92e3b193",
   "metadata": {},
   "outputs": [
    {
     "data": {
      "text/plain": [
       "'abcde'"
      ]
     },
     "execution_count": 137,
     "metadata": {},
     "output_type": "execute_result"
    }
   ],
   "source": [
    "a[:6] #처음부터 5까지 출력"
   ]
  },
  {
   "cell_type": "code",
   "execution_count": 138,
   "id": "2b90b4b4",
   "metadata": {},
   "outputs": [
    {
     "data": {
      "text/plain": [
       "'de'"
      ]
     },
     "execution_count": 138,
     "metadata": {},
     "output_type": "execute_result"
    }
   ],
   "source": [
    "a[3:] # 3번째부터 마지막까지"
   ]
  },
  {
   "cell_type": "code",
   "execution_count": 139,
   "id": "cad74e45",
   "metadata": {},
   "outputs": [
    {
     "data": {
      "text/plain": [
       "'c'"
      ]
     },
     "execution_count": 139,
     "metadata": {},
     "output_type": "execute_result"
    }
   ],
   "source": [
    "a[2:-2] #2부터 -2(3)전까지 출력"
   ]
  },
  {
   "cell_type": "code",
   "execution_count": 140,
   "id": "10f2fc9e",
   "metadata": {},
   "outputs": [
    {
     "data": {
      "text/plain": [
       "''"
      ]
     },
     "execution_count": 140,
     "metadata": {},
     "output_type": "execute_result"
    }
   ],
   "source": [
    "a[2:-3] #2부터 -3(2)전까지 출력, 빈칸"
   ]
  },
  {
   "cell_type": "code",
   "execution_count": 141,
   "id": "c253422c",
   "metadata": {},
   "outputs": [
    {
     "data": {
      "text/plain": [
       "'bcd'"
      ]
     },
     "execution_count": 141,
     "metadata": {},
     "output_type": "execute_result"
    }
   ],
   "source": [
    "a[1:-1] #1부터 4전까지 출력 bcd"
   ]
  },
  {
   "cell_type": "code",
   "execution_count": 142,
   "id": "f5be96a0",
   "metadata": {},
   "outputs": [
    {
     "data": {
      "text/plain": [
       "5"
      ]
     },
     "execution_count": 142,
     "metadata": {},
     "output_type": "execute_result"
    }
   ],
   "source": [
    "a=\"abcdefghijklmabcdefgh\"\n",
    "a.find(\"f\") #처음 찾은 값의 위치를 반환"
   ]
  },
  {
   "cell_type": "code",
   "execution_count": 143,
   "id": "3ceabee3",
   "metadata": {},
   "outputs": [
    {
     "data": {
      "text/plain": [
       "18"
      ]
     },
     "execution_count": 143,
     "metadata": {},
     "output_type": "execute_result"
    }
   ],
   "source": [
    "a.rfind(\"f\") #뒤에서부터 찾고, 처음 찾은 값의 위치"
   ]
  },
  {
   "cell_type": "code",
   "execution_count": 144,
   "id": "125ff543",
   "metadata": {},
   "outputs": [
    {
     "data": {
      "text/plain": [
       "(8, 8)"
      ]
     },
     "execution_count": 144,
     "metadata": {},
     "output_type": "execute_result"
    }
   ],
   "source": [
    "a.find(\"i\"),a.rfind(\"i\") #앞, 뒤에서부터 검색, 단어가 한개면 똑같다"
   ]
  },
  {
   "cell_type": "code",
   "execution_count": 145,
   "id": "16dc47a3",
   "metadata": {},
   "outputs": [
    {
     "data": {
      "text/plain": [
       "(1, 14)"
      ]
     },
     "execution_count": 145,
     "metadata": {},
     "output_type": "execute_result"
    }
   ],
   "source": [
    "a.index(\"b\"),a.rindex(\"b\") #index 함수도 결과는 동일"
   ]
  },
  {
   "cell_type": "code",
   "execution_count": 146,
   "id": "f832dd9e",
   "metadata": {},
   "outputs": [
    {
     "ename": "ValueError",
     "evalue": "substring not found",
     "output_type": "error",
     "traceback": [
      "\u001b[1;31m---------------------------------------------------------------------------\u001b[0m",
      "\u001b[1;31mValueError\u001b[0m                                Traceback (most recent call last)",
      "Input \u001b[1;32mIn [146]\u001b[0m, in \u001b[0;36m<cell line: 1>\u001b[1;34m()\u001b[0m\n\u001b[1;32m----> 1\u001b[0m \u001b[43ma\u001b[49m\u001b[38;5;241;43m.\u001b[39;49m\u001b[43mrindex\u001b[49m\u001b[43m(\u001b[49m\u001b[38;5;124;43m\"\u001b[39;49m\u001b[38;5;124;43mz\u001b[39;49m\u001b[38;5;124;43m\"\u001b[39;49m\u001b[43m)\u001b[49m\n",
      "\u001b[1;31mValueError\u001b[0m: substring not found"
     ]
    }
   ],
   "source": [
    "a.rindex(\"z\") # 없으면 에러"
   ]
  },
  {
   "cell_type": "code",
   "execution_count": 147,
   "id": "e9a50c67",
   "metadata": {},
   "outputs": [
    {
     "data": {
      "text/plain": [
       "2"
      ]
     },
     "execution_count": 147,
     "metadata": {},
     "output_type": "execute_result"
    }
   ],
   "source": [
    "a.count(\"f\") #해당문자의 개수를 반환"
   ]
  },
  {
   "cell_type": "code",
   "execution_count": 148,
   "id": "d68c346e",
   "metadata": {},
   "outputs": [
    {
     "data": {
      "text/plain": [
       "13"
      ]
     },
     "execution_count": 148,
     "metadata": {},
     "output_type": "execute_result"
    }
   ],
   "source": [
    "a.rfind(\"abc\") #문자열을 넣어도 된다"
   ]
  },
  {
   "cell_type": "code",
   "execution_count": 149,
   "id": "2007629e",
   "metadata": {},
   "outputs": [
    {
     "name": "stdout",
     "output_type": "stream",
     "text": [
      "a가들어있음\n"
     ]
    }
   ],
   "source": [
    "a=\"abcdfegabcdfeg\" #문자열 선언\n",
    "if a.find(\"f\") > 0: #a에 f가 있다면 (0보다 크다면)\n",
    "    print (\"a가들어있음\") #메세지 출력"
   ]
  },
  {
   "cell_type": "code",
   "execution_count": 150,
   "id": "325b4b4a",
   "metadata": {},
   "outputs": [
    {
     "name": "stdout",
     "output_type": "stream",
     "text": [
      "a가들어있음\n"
     ]
    }
   ],
   "source": [
    "if \"f\" in a : #f가 a 안에 있다면, 위와 같은 의미\n",
    "    print (\"a가들어있음\")"
   ]
  },
  {
   "cell_type": "code",
   "execution_count": 152,
   "id": "9c7463f9",
   "metadata": {},
   "outputs": [
    {
     "data": {
      "text/plain": [
       "'ABCDEFGH'"
      ]
     },
     "execution_count": 152,
     "metadata": {},
     "output_type": "execute_result"
    }
   ],
   "source": [
    "a=\"abcDefGh\" #문자열 선언\n",
    "a.upper() #a를 대문자로 변경"
   ]
  },
  {
   "cell_type": "code",
   "execution_count": 153,
   "id": "2a6bb343",
   "metadata": {},
   "outputs": [
    {
     "data": {
      "text/plain": [
       "'abcdefgh'"
      ]
     },
     "execution_count": 153,
     "metadata": {},
     "output_type": "execute_result"
    }
   ],
   "source": [
    "a=\"abcDefGh\" #문자열 선언\n",
    "a.lower() #a룰 소문자로 변경"
   ]
  },
  {
   "cell_type": "code",
   "execution_count": 154,
   "id": "6cc91758",
   "metadata": {},
   "outputs": [
    {
     "data": {
      "text/plain": [
       "'abc   def    hij     '"
      ]
     },
     "execution_count": 154,
     "metadata": {},
     "output_type": "execute_result"
    }
   ],
   "source": [
    "a=\"   abc   def    hij     \" #문자열 선언\n",
    "a.lstrip() #왼쪽의 여백 삭제"
   ]
  },
  {
   "cell_type": "code",
   "execution_count": 157,
   "id": "eb4f31ed",
   "metadata": {},
   "outputs": [
    {
     "data": {
      "text/plain": [
       "'   abc   def    hij'"
      ]
     },
     "execution_count": 157,
     "metadata": {},
     "output_type": "execute_result"
    }
   ],
   "source": [
    "a=\"   abc   def    hij     \" #문자열 선언\n",
    "a.rstrip() #오른쪽의 여백 삭제"
   ]
  },
  {
   "cell_type": "code",
   "execution_count": 158,
   "id": "670d38cb",
   "metadata": {},
   "outputs": [
    {
     "data": {
      "text/plain": [
       "'abc   def    hij'"
      ]
     },
     "execution_count": 158,
     "metadata": {},
     "output_type": "execute_result"
    }
   ],
   "source": [
    "a=\"   abc   def    hij     \" #문자열 선언\n",
    "a.strip() #양쪽의 여백 삭제"
   ]
  },
  {
   "cell_type": "code",
   "execution_count": 159,
   "id": "e3dec208",
   "metadata": {},
   "outputs": [
    {
     "data": {
      "text/plain": [
       "'abcdefhij'"
      ]
     },
     "execution_count": 159,
     "metadata": {},
     "output_type": "execute_result"
    }
   ],
   "source": [
    "a=\"   abc   def    hij     \" #문자열 선언\n",
    "a.replace(\" \",\"\") #모든 여백 삭제"
   ]
  },
  {
   "cell_type": "code",
   "execution_count": 161,
   "id": "4f344b5f",
   "metadata": {
    "scrolled": true
   },
   "outputs": [
    {
     "name": "stdout",
     "output_type": "stream",
     "text": [
      "==============\n",
      "이름:  홍길동\n",
      "국어:  100\n",
      "영어:  95\n",
      "수학:  88\n",
      "==============\n"
     ]
    }
   ],
   "source": [
    "rec=\"홍길동,100,95,88\" # 문자열 선언\n",
    "#문자열을 콤마를 기준으로 잘라서 리스트로 선언, item에 지정\n",
    "item=rec.split(\",\")\n",
    "print(\"=\"*14) #구분선 출력\n",
    "print(\"이름: \", item[0]) #0번째 값 출력\n",
    "print(\"국어: \", item[1]) #1번째 값 출력\n",
    "print(\"영어: \", item[2]) #2번째 값 출력\n",
    "print(\"수학: \", item[3]) #3번째 값 출력\n",
    "print(\"=\"*14) #구분선 출력"
   ]
  },
  {
   "cell_type": "code",
   "execution_count": 162,
   "id": "60b65c68",
   "metadata": {},
   "outputs": [
    {
     "name": "stdout",
     "output_type": "stream",
     "text": [
      "==============\n",
      "0 ==> 본\n",
      "1 ==> 예제는\n",
      "2 ==> 빈칸으로\n",
      "3 ==> 구분되어\n",
      "4 ==> 있는\n",
      "5 ==> 한\n",
      "6 ==> 줄의\n",
      "7 ==> 데이터를\n",
      "8 ==> 빈칸을\n",
      "9 ==> \n",
      "10 ==> \n",
      "11 ==> \n",
      "12 ==> \n",
      "13 ==> 구분하여\n",
      "14 ==> 나누어\n",
      "15 ==> 줌\n",
      "==============\n"
     ]
    }
   ],
   "source": [
    "rec=\"본 예제는 빈칸으로 구분되어 있는 한 줄의 데이터를 빈칸을     구분하여 나누어 줌\" #긴 공백 = 공백 5칸\n",
    "item=rec.split(\" \") #공백을 기준으로 자른다.\n",
    "\n",
    "print(\"=\"*14) #구분선 출력\n",
    "i=0 #i선언 카운트 용\n",
    "for s in item: #공백을 기준으로 만든 리스트를 for문으로 돌린다.\n",
    "    print(i,\"==>\", s) #리스트의 모든 값을 출력한다.\n",
    "    i+=1 #카운트 증가\n",
    "print(\"=\"*14) #구분선 출력"
   ]
  },
  {
   "cell_type": "code",
   "execution_count": null,
   "id": "49293c1e",
   "metadata": {},
   "outputs": [],
   "source": []
  }
 ],
 "metadata": {
  "kernelspec": {
   "display_name": "Python 3 (ipykernel)",
   "language": "python",
   "name": "python3"
  },
  "language_info": {
   "codemirror_mode": {
    "name": "ipython",
    "version": 3
   },
   "file_extension": ".py",
   "mimetype": "text/x-python",
   "name": "python",
   "nbconvert_exporter": "python",
   "pygments_lexer": "ipython3",
   "version": "3.10.4"
  }
 },
 "nbformat": 4,
 "nbformat_minor": 5
}
