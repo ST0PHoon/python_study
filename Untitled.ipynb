{
 "cells": [
  {
   "cell_type": "code",
   "execution_count": 10,
   "id": "0d37e5d1",
   "metadata": {},
   "outputs": [
    {
     "data": {
      "text/plain": [
       "3"
      ]
     },
     "execution_count": 10,
     "metadata": {},
     "output_type": "execute_result"
    }
   ],
   "source": [
    "1 + 2"
   ]
  },
  {
   "cell_type": "code",
   "execution_count": 11,
   "id": "d6458c47",
   "metadata": {},
   "outputs": [
    {
     "data": {
      "text/plain": [
       "3"
      ]
     },
     "execution_count": 11,
     "metadata": {},
     "output_type": "execute_result"
    }
   ],
   "source": [
    " 1+2"
   ]
  },
  {
   "cell_type": "code",
   "execution_count": 12,
   "id": "43ded8dc",
   "metadata": {},
   "outputs": [
    {
     "data": {
      "text/plain": [
       "3"
      ]
     },
     "execution_count": 12,
     "metadata": {},
     "output_type": "execute_result"
    }
   ],
   "source": [
    "\n",
    "1+2"
   ]
  },
  {
   "cell_type": "code",
   "execution_count": 13,
   "id": "664c486f",
   "metadata": {},
   "outputs": [
    {
     "data": {
      "text/plain": [
       "3"
      ]
     },
     "execution_count": 13,
     "metadata": {},
     "output_type": "execute_result"
    }
   ],
   "source": [
    "                   \n",
    "                          1+2\n",
    "        "
   ]
  },
  {
   "cell_type": "code",
   "execution_count": 16,
   "id": "900aa83f",
   "metadata": {},
   "outputs": [
    {
     "name": "stdout",
     "output_type": "stream",
     "text": [
      "스위치 on\n"
     ]
    }
   ],
   "source": [
    "sw = 1\n",
    "if sw == 1:\n",
    "    print(\"스위치 on\")\n",
    "else:\n",
    "    print(\"스위치 off\")"
   ]
  },
  {
   "cell_type": "code",
   "execution_count": 18,
   "id": "f66ade1b",
   "metadata": {},
   "outputs": [
    {
     "name": "stdout",
     "output_type": "stream",
     "text": [
      "3\n",
      "7\n",
      "12\n"
     ]
    }
   ],
   "source": [
    "print(1+2);print(3+4);print(5+7);"
   ]
  },
  {
   "cell_type": "code",
   "execution_count": 19,
   "id": "6909df82",
   "metadata": {},
   "outputs": [
    {
     "name": "stdout",
     "output_type": "stream",
     "text": [
      "3\n"
     ]
    }
   ],
   "source": [
    "print(1+2)"
   ]
  },
  {
   "cell_type": "code",
   "execution_count": 20,
   "id": "716f8565",
   "metadata": {},
   "outputs": [
    {
     "ename": "NameError",
     "evalue": "name 'Print' is not defined",
     "output_type": "error",
     "traceback": [
      "\u001b[1;31m---------------------------------------------------------------------------\u001b[0m",
      "\u001b[1;31mNameError\u001b[0m                                 Traceback (most recent call last)",
      "Input \u001b[1;32mIn [20]\u001b[0m, in \u001b[0;36m<cell line: 1>\u001b[1;34m()\u001b[0m\n\u001b[1;32m----> 1\u001b[0m \u001b[43mPrint\u001b[49m(\u001b[38;5;241m1\u001b[39m\u001b[38;5;241m+\u001b[39m\u001b[38;5;241m2\u001b[39m)\n",
      "\u001b[1;31mNameError\u001b[0m: name 'Print' is not defined"
     ]
    }
   ],
   "source": [
    "Print(1+2)"
   ]
  },
  {
   "cell_type": "code",
   "execution_count": 21,
   "id": "4342088c",
   "metadata": {},
   "outputs": [
    {
     "ename": "NameError",
     "evalue": "name 'PRINT' is not defined",
     "output_type": "error",
     "traceback": [
      "\u001b[1;31m---------------------------------------------------------------------------\u001b[0m",
      "\u001b[1;31mNameError\u001b[0m                                 Traceback (most recent call last)",
      "Input \u001b[1;32mIn [21]\u001b[0m, in \u001b[0;36m<cell line: 1>\u001b[1;34m()\u001b[0m\n\u001b[1;32m----> 1\u001b[0m \u001b[43mPRINT\u001b[49m(\u001b[38;5;241m1\u001b[39m\u001b[38;5;241m+\u001b[39m\u001b[38;5;241m2\u001b[39m)\n",
      "\u001b[1;31mNameError\u001b[0m: name 'PRINT' is not defined"
     ]
    }
   ],
   "source": [
    "PRINT(1+2)"
   ]
  },
  {
   "cell_type": "code",
   "execution_count": 22,
   "id": "328c5eb4",
   "metadata": {},
   "outputs": [],
   "source": [
    "abc =1"
   ]
  },
  {
   "cell_type": "code",
   "execution_count": 23,
   "id": "31c5fdc3",
   "metadata": {},
   "outputs": [
    {
     "data": {
      "text/plain": [
       "3"
      ]
     },
     "execution_count": 23,
     "metadata": {},
     "output_type": "execute_result"
    }
   ],
   "source": [
    "1+2"
   ]
  },
  {
   "cell_type": "code",
   "execution_count": 24,
   "id": "6b9bfb32",
   "metadata": {},
   "outputs": [
    {
     "data": {
      "text/plain": [
       "1"
      ]
     },
     "execution_count": 24,
     "metadata": {},
     "output_type": "execute_result"
    }
   ],
   "source": [
    "abc"
   ]
  },
  {
   "cell_type": "code",
   "execution_count": 25,
   "id": "22ad8778",
   "metadata": {},
   "outputs": [
    {
     "name": "stdout",
     "output_type": "stream",
     "text": [
      "1\n"
     ]
    }
   ],
   "source": [
    "print(abc)"
   ]
  },
  {
   "cell_type": "code",
   "execution_count": 26,
   "id": "96ab0dc3",
   "metadata": {},
   "outputs": [
    {
     "name": "stdout",
     "output_type": "stream",
     "text": [
      "3\n"
     ]
    }
   ],
   "source": [
    "print(1+2)"
   ]
  },
  {
   "cell_type": "code",
   "execution_count": 27,
   "id": "e0ae39f7",
   "metadata": {},
   "outputs": [
    {
     "name": "stdout",
     "output_type": "stream",
     "text": [
      "3\n",
      "3\n"
     ]
    }
   ],
   "source": [
    "a=1 # a에 1입력\n",
    "b=2 # b에 2입력\n",
    "a+b # a+b를 실행하고 출력(하지만 출력 안 됨)\n",
    "print(a+b) # a+b를 실행하고 출력\n",
    "1+2 # 1+2를 실행하고 출력(하지만 출력 안 됨)\n",
    "print(1+2) #1+2 실행하고 출력"
   ]
  },
  {
   "cell_type": "code",
   "execution_count": 34,
   "id": "653289d4",
   "metadata": {},
   "outputs": [
    {
     "name": "stdout",
     "output_type": "stream",
     "text": [
      "아침 점심 저녁\n",
      "아침먹고 점심먹고 저녁\n",
      "아침먹고 점심먹고 저녁땡"
     ]
    }
   ],
   "source": [
    "a= \"아침\" #변수에 아침 입력\n",
    "b= \"점심\" #변수에 점심 입력\n",
    "c= \"저녁\" #변수에 저녁 입력\n",
    "print(a,b,c) #변수 3개 나란히 출력\n",
    "print(a,b,c, sep=\"먹고 \") #변수 사이에 \"먹고\"를 입력하여 출력한다.\n",
    "print(a,b,c, sep=\"먹고 \" ,end =\"땡\") #변수 사이에 \"먹고\"를 입력하여 출력, 마지막엔 \"땡\" 출력"
   ]
  },
  {
   "cell_type": "code",
   "execution_count": 35,
   "id": "3b8f0e3f",
   "metadata": {},
   "outputs": [
    {
     "name": "stdout",
     "output_type": "stream",
     "text": [
      "아침 점심 저녁\n",
      "아침먹고 점심먹고 저녁\n",
      "아침먹고 점심먹고 저녁아침자고 점심자고 저녁아침먹고 점심먹고 저녁\n",
      "아침자고 점심자고 저녁\n"
     ]
    }
   ],
   "source": [
    "a= \"아침\" #변수에 아침 입력\n",
    "b= \"점심\" #변수에 점심 입력\n",
    "c= \"저녁\" #변수에 저녁 입력\n",
    "print(a,b,c) #변수 3개 나란히 출력\n",
    "print(a,b,c, sep=\"먹고 \") #변수 사이에 \"먹고\"를 입력하여 출력한다.\n",
    "print(a,b,c, sep=\"먹고 \" ,end =\"\") #변수 사이에 먹고 입력, 마지막에 줄바꿈 하지 않음\n",
    "print(a,b,c, sep=\"자고 \" ,end =\"\") #변수 사이에 자고 입력, 마지막에 줄바꿈 하지 않음\n",
    "print(a,b,c, sep=\"먹고 \" ,end =\"\\n\") #변수 사이에 먹고 입력, 마지막에 줄바꿈 함\n",
    "print(a,b,c, sep=\"자고 \" ,end =\"\\n\") #변수 사이에 자고 입력, 마지막에 줄바꿈 함"
   ]
  },
  {
   "cell_type": "code",
   "execution_count": 30,
   "id": "1ef512c4",
   "metadata": {},
   "outputs": [
    {
     "name": "stdout",
     "output_type": "stream",
     "text": [
      "22+33=55\n"
     ]
    }
   ],
   "source": [
    "a= 22 #변수에 22 입력\n",
    "b= 33 #변수에 33 입력\n",
    "print(a,b, sep=\"+\" ,end=\"=\") #변수사이에 +입력하고 마지막에 =입력(줄바꿈 안 됨)\n",
    "print(a+b) #두 변수의 합을 출력한다."
   ]
  },
  {
   "cell_type": "code",
   "execution_count": 36,
   "id": "5394d484",
   "metadata": {},
   "outputs": [
    {
     "name": "stdout",
     "output_type": "stream",
     "text": [
      "너는 이름이 뭐니?정지훈\n",
      "이름이  정지훈  입니다\n",
      "너는 몇 살이니?28\n",
      "나이가  28 살 입니다\n"
     ]
    }
   ],
   "source": [
    "a= input(\"너는 이름이 뭐니?\") #값을 입력 받을 때, 출력하는 메세지\n",
    "print(\"이름이 \",a,\" 입니다\") #문구 사이에 입력받은 a를 함께 출력한다.\n",
    "b= input(\"너는 몇 살이니?\") #값을 입력 받을 때, 출력하는 메세지\n",
    "print(\"나이가 \",b,\"살 입니다\") #문구 사이에 입력받은 b를 함께 출력한다."
   ]
  },
  {
   "cell_type": "code",
   "execution_count": 37,
   "id": "853edc9f",
   "metadata": {},
   "outputs": [
    {
     "name": "stdout",
     "output_type": "stream",
     "text": [
      "a값을 입력하셔요?1\n",
      "b값을 입력하셔요?2\n",
      "1+2=12\n",
      "수치 계산 : 1+2=3\n"
     ]
    }
   ],
   "source": [
    "a= input(\"a값을 입력하셔요?\") #메세지를 출력하며 값을 입력 받는다.\n",
    "b= input(\"b값을 입력하셔요?\") #메세지를 출력하며 값을 입력 받는다.\n",
    "print(a,b, sep=\"+\" ,end=\"=\") #변수 사이에 +, 마지막엔 =을 붙여 출력한다.(줄바꿈 없음)\n",
    "print(a+b) #결과를 출력한다.(문자형이여서 12로 출력될 예정)\n",
    "print(\"수치 계산\", end =\" : \") #새로운 메세지 출력\n",
    "print(a,b, sep=\"+\" ,end=\"=\") #변수 사이에 +, 마지막엔 =을 붙여 출력한다.(줄바꿈 없음)\n",
    "print(int(a)+int(b)) #입력 받은 변수를 정수형으로 변환 후, 계산하여 결과 출력(3)"
   ]
  },
  {
   "cell_type": "code",
   "execution_count": 33,
   "id": "5066dfa4",
   "metadata": {},
   "outputs": [
    {
     "name": "stdout",
     "output_type": "stream",
     "text": [
      "품목?초코파이\n",
      "수량?10\n",
      "단가?100\n",
      "초코파이  :  10 개 *  100 원 = 총  1000 원\n"
     ]
    }
   ],
   "source": [
    "a= input(\"품목?\") #메세지를 출력하며 값을 입력 받는다. (문자형)\n",
    "b=int(input(\"수량?\")) #메세지를 출력하며 값을 입력 받는다. (정수형)\n",
    "c=int(input(\"단가?\")) #메세지를 출력하며 값을 입력 받는다. (정수형)\n",
    "print(a, \" : \",b,\"개 * \",c,\"원 = 총 \", b*c, \"원\") #메세지의 결과를 출력한다."
   ]
  },
  {
   "cell_type": "code",
   "execution_count": 38,
   "id": "4b2d9adf",
   "metadata": {},
   "outputs": [],
   "source": [
    "a=1 #변수에 1을 지정"
   ]
  },
  {
   "cell_type": "code",
   "execution_count": 39,
   "id": "3c6157bb",
   "metadata": {},
   "outputs": [
    {
     "name": "stdout",
     "output_type": "stream",
     "text": [
      "1\n"
     ]
    }
   ],
   "source": [
    "print(a)"
   ]
  },
  {
   "cell_type": "code",
   "execution_count": 40,
   "id": "428dd0c2",
   "metadata": {},
   "outputs": [],
   "source": [
    "a=2 #변수에 2를 지정"
   ]
  },
  {
   "cell_type": "code",
   "execution_count": 41,
   "id": "339397ea",
   "metadata": {},
   "outputs": [
    {
     "name": "stdout",
     "output_type": "stream",
     "text": [
      "2\n"
     ]
    }
   ],
   "source": [
    "print(a) #1에서 2로 갱신하여 저장해서 2출력"
   ]
  },
  {
   "cell_type": "code",
   "execution_count": 42,
   "id": "e62beb39",
   "metadata": {},
   "outputs": [],
   "source": [
    "b=3 #변수에 3 지정"
   ]
  },
  {
   "cell_type": "code",
   "execution_count": 43,
   "id": "07281e0f",
   "metadata": {},
   "outputs": [
    {
     "name": "stdout",
     "output_type": "stream",
     "text": [
      "3\n"
     ]
    }
   ],
   "source": [
    "print(b)"
   ]
  },
  {
   "cell_type": "code",
   "execution_count": 44,
   "id": "5b974b4c",
   "metadata": {},
   "outputs": [
    {
     "name": "stdout",
     "output_type": "stream",
     "text": [
      "2\n"
     ]
    }
   ],
   "source": [
    "print(a) #a는 변동사항 없으므로 2 출력"
   ]
  },
  {
   "cell_type": "code",
   "execution_count": 45,
   "id": "ce0f7b41",
   "metadata": {},
   "outputs": [
    {
     "name": "stdout",
     "output_type": "stream",
     "text": [
      "1122\n"
     ]
    },
    {
     "data": {
      "text/plain": [
       "int"
      ]
     },
     "execution_count": 45,
     "metadata": {},
     "output_type": "execute_result"
    }
   ],
   "source": [
    "a=1122;print(a);type(a) #a에 1122지정, 출력, 타입은 정수형(a의 형태)"
   ]
  },
  {
   "cell_type": "code",
   "execution_count": 46,
   "id": "77ff2b1b",
   "metadata": {},
   "outputs": [
    {
     "name": "stdout",
     "output_type": "stream",
     "text": [
      "hello\n"
     ]
    },
    {
     "data": {
      "text/plain": [
       "str"
      ]
     },
     "execution_count": 46,
     "metadata": {},
     "output_type": "execute_result"
    }
   ],
   "source": [
    "b=\"hello\";print(b);type(b) #b에 hello 지정, 출력, 타입은 문자형(b의 형태)"
   ]
  },
  {
   "cell_type": "code",
   "execution_count": 47,
   "id": "b0fe62a0",
   "metadata": {},
   "outputs": [],
   "source": [
    "b=12 #b를 12로 갱신"
   ]
  },
  {
   "cell_type": "code",
   "execution_count": 48,
   "id": "6689c6d9",
   "metadata": {},
   "outputs": [
    {
     "data": {
      "text/plain": [
       "int"
      ]
     },
     "execution_count": 48,
     "metadata": {},
     "output_type": "execute_result"
    }
   ],
   "source": [
    "type(b) #갱신한 b의 타입 출력, 정수형"
   ]
  },
  {
   "cell_type": "code",
   "execution_count": 53,
   "id": "1296b195",
   "metadata": {},
   "outputs": [
    {
     "name": "stdout",
     "output_type": "stream",
     "text": [
      "1122\n"
     ]
    },
    {
     "data": {
      "text/plain": [
       "int"
      ]
     },
     "execution_count": 53,
     "metadata": {},
     "output_type": "execute_result"
    }
   ],
   "source": [
    "a=1122;print(a);type(a) #a에 1122지정, 출력, 타입은 정수형(a의 형태)"
   ]
  },
  {
   "cell_type": "code",
   "execution_count": 54,
   "id": "b8f0ed81",
   "metadata": {},
   "outputs": [
    {
     "name": "stdout",
     "output_type": "stream",
     "text": [
      "11\n"
     ]
    }
   ],
   "source": [
    "a=11; print(a) #a를 11로 갱신, 출력"
   ]
  },
  {
   "cell_type": "code",
   "execution_count": 55,
   "id": "b0b20557",
   "metadata": {},
   "outputs": [],
   "source": [
    "del a #a 삭제"
   ]
  },
  {
   "cell_type": "code",
   "execution_count": 56,
   "id": "24e219ad",
   "metadata": {},
   "outputs": [
    {
     "ename": "NameError",
     "evalue": "name 'a' is not defined",
     "output_type": "error",
     "traceback": [
      "\u001b[1;31m---------------------------------------------------------------------------\u001b[0m",
      "\u001b[1;31mNameError\u001b[0m                                 Traceback (most recent call last)",
      "Input \u001b[1;32mIn [56]\u001b[0m, in \u001b[0;36m<cell line: 1>\u001b[1;34m()\u001b[0m\n\u001b[1;32m----> 1\u001b[0m \u001b[38;5;28mprint\u001b[39m(\u001b[43ma\u001b[49m)\n",
      "\u001b[1;31mNameError\u001b[0m: name 'a' is not defined"
     ]
    }
   ],
   "source": [
    "print(a)"
   ]
  },
  {
   "cell_type": "code",
   "execution_count": 57,
   "id": "82baf65b",
   "metadata": {},
   "outputs": [
    {
     "name": "stdout",
     "output_type": "stream",
     "text": [
      "100000\n"
     ]
    }
   ],
   "source": [
    "net=100; qty=1000; total=net*qty; print(total) #변수명을 알기쉽게 작성"
   ]
  },
  {
   "cell_type": "code",
   "execution_count": 58,
   "id": "b2d9c728",
   "metadata": {},
   "outputs": [
    {
     "name": "stdout",
     "output_type": "stream",
     "text": [
      "100000\n"
     ]
    }
   ],
   "source": [
    "단가=100; 수량=1000; 총합=단가*수량; print(총합) #관습적으로 이렇게는 사용 안 함"
   ]
  },
  {
   "cell_type": "code",
   "execution_count": 59,
   "id": "fdeb993e",
   "metadata": {},
   "outputs": [],
   "source": [
    "a=10 #a에 10 지정"
   ]
  },
  {
   "cell_type": "code",
   "execution_count": 60,
   "id": "9b9e473f",
   "metadata": {},
   "outputs": [],
   "source": [
    "b=1200 #b에 1200 지정"
   ]
  },
  {
   "cell_type": "code",
   "execution_count": 61,
   "id": "34d45429",
   "metadata": {},
   "outputs": [],
   "source": [
    "c=+1200 #c를 선언후 1200을 더한다"
   ]
  },
  {
   "cell_type": "code",
   "execution_count": 62,
   "id": "c4539a3e",
   "metadata": {},
   "outputs": [],
   "source": [
    "d=-1234 #d를 선언후 1234를 뺀다"
   ]
  },
  {
   "cell_type": "code",
   "execution_count": 63,
   "id": "378f67cf",
   "metadata": {},
   "outputs": [
    {
     "name": "stdout",
     "output_type": "stream",
     "text": [
      "a= 10  b= 1200  c= 1200  d= -1234\n"
     ]
    }
   ],
   "source": [
    " print(\"a=\",a ,\" b=\",b ,\" c=\",c, \" d=\",d) #메세지와 변수를 출력한다."
   ]
  },
  {
   "cell_type": "code",
   "execution_count": 64,
   "id": "b954088b",
   "metadata": {},
   "outputs": [],
   "source": [
    "a=1234564789421651895132165151984216512315891219"
   ]
  },
  {
   "cell_type": "code",
   "execution_count": 65,
   "id": "c3ace036",
   "metadata": {},
   "outputs": [],
   "source": [
    "b=5249623165123151321615115131315198542161216121651594516213151549441562"
   ]
  },
  {
   "cell_type": "code",
   "execution_count": 66,
   "id": "cfd517d0",
   "metadata": {},
   "outputs": [
    {
     "name": "stdout",
     "output_type": "stream",
     "text": [
      "a+b= 5249623165123151321615116365879987963813111253816746500429663865332781\n"
     ]
    }
   ],
   "source": [
    "print(\"a+b=\",a+b)"
   ]
  },
  {
   "cell_type": "code",
   "execution_count": 67,
   "id": "514eadbf",
   "metadata": {},
   "outputs": [
    {
     "name": "stdout",
     "output_type": "stream",
     "text": [
      "a*b= 6480999917393289026688727657911988167025925853155980709668835323665846205371151420954427958944919406256577789444078\n"
     ]
    }
   ],
   "source": [
    "print(\"a*b=\",a*b)"
   ]
  },
  {
   "cell_type": "code",
   "execution_count": 69,
   "id": "b946aec6",
   "metadata": {},
   "outputs": [
    {
     "data": {
      "text/plain": [
       "10"
      ]
     },
     "execution_count": 69,
     "metadata": {},
     "output_type": "execute_result"
    }
   ],
   "source": [
    "0b1010 #2진수 선언, 8 + 2 = 10"
   ]
  },
  {
   "cell_type": "code",
   "execution_count": 70,
   "id": "6c293700",
   "metadata": {},
   "outputs": [
    {
     "data": {
      "text/plain": [
       "15"
      ]
     },
     "execution_count": 70,
     "metadata": {},
     "output_type": "execute_result"
    }
   ],
   "source": [
    "0b1111 #2진수 선언, 8+4+2+1 = 15"
   ]
  },
  {
   "cell_type": "code",
   "execution_count": 71,
   "id": "caf41d09",
   "metadata": {},
   "outputs": [
    {
     "data": {
      "text/plain": [
       "1"
      ]
     },
     "execution_count": 71,
     "metadata": {},
     "output_type": "execute_result"
    }
   ],
   "source": [
    "0b0001 #2진수 선언, 1"
   ]
  },
  {
   "cell_type": "code",
   "execution_count": 72,
   "id": "e8de866a",
   "metadata": {},
   "outputs": [
    {
     "ename": "SyntaxError",
     "evalue": "invalid digit '2' in binary literal (1202801407.py, line 1)",
     "output_type": "error",
     "traceback": [
      "\u001b[1;36m  Input \u001b[1;32mIn [72]\u001b[1;36m\u001b[0m\n\u001b[1;33m    0b0201 #2진수 선언, 2가 있어서 오류\u001b[0m\n\u001b[1;37m       ^\u001b[0m\n\u001b[1;31mSyntaxError\u001b[0m\u001b[1;31m:\u001b[0m invalid digit '2' in binary literal\n"
     ]
    }
   ],
   "source": [
    "0b0201 #2진수 선언, 2가 있어서 오류"
   ]
  },
  {
   "cell_type": "code",
   "execution_count": 73,
   "id": "0a5902bc",
   "metadata": {},
   "outputs": [
    {
     "data": {
      "text/plain": [
       "16"
      ]
     },
     "execution_count": 73,
     "metadata": {},
     "output_type": "execute_result"
    }
   ],
   "source": [
    "0x10 #16진수 선언, 16"
   ]
  },
  {
   "cell_type": "code",
   "execution_count": 74,
   "id": "ecb5cdc4",
   "metadata": {},
   "outputs": [
    {
     "data": {
      "text/plain": [
       "26"
      ]
     },
     "execution_count": 74,
     "metadata": {},
     "output_type": "execute_result"
    }
   ],
   "source": [
    " 0x1a #16진수 선언, 16+10, 26"
   ]
  },
  {
   "cell_type": "code",
   "execution_count": 75,
   "id": "dacce401",
   "metadata": {},
   "outputs": [
    {
     "data": {
      "text/plain": [
       "47"
      ]
     },
     "execution_count": 75,
     "metadata": {},
     "output_type": "execute_result"
    }
   ],
   "source": [
    " 0x2f #16진수 선언, 2*16 + 15 = 47"
   ]
  },
  {
   "cell_type": "code",
   "execution_count": 76,
   "id": "4e66116d",
   "metadata": {},
   "outputs": [
    {
     "ename": "SyntaxError",
     "evalue": "invalid hexadecimal literal (1238582170.py, line 1)",
     "output_type": "error",
     "traceback": [
      "\u001b[1;36m  Input \u001b[1;32mIn [76]\u001b[1;36m\u001b[0m\n\u001b[1;33m    0x3z #16진수 선언, z는 없어서 오류\u001b[0m\n\u001b[1;37m      ^\u001b[0m\n\u001b[1;31mSyntaxError\u001b[0m\u001b[1;31m:\u001b[0m invalid hexadecimal literal\n"
     ]
    }
   ],
   "source": [
    " 0x3z #16진수 선언, z는 없어서 오류"
   ]
  },
  {
   "cell_type": "code",
   "execution_count": 78,
   "id": "ceaaa886",
   "metadata": {},
   "outputs": [
    {
     "name": "stdout",
     "output_type": "stream",
     "text": [
      "0xc\n",
      "0o26\n",
      "0b100001\n"
     ]
    }
   ],
   "source": [
    "print(hex(12));print(oct(22));print(bin(33)) #12를 16진수(c), 22를 8진수, 33을 2진수(100001)로 바꾼다"
   ]
  },
  {
   "cell_type": "code",
   "execution_count": 79,
   "id": "eb43bd5c",
   "metadata": {},
   "outputs": [
    {
     "data": {
      "text/plain": [
       "9460000000000.0"
      ]
     },
     "execution_count": 79,
     "metadata": {},
     "output_type": "execute_result"
    }
   ],
   "source": [
    "9.46e12 #9.46*10^12로 계산된다."
   ]
  },
  {
   "cell_type": "code",
   "execution_count": 80,
   "id": "31fdb010",
   "metadata": {},
   "outputs": [
    {
     "data": {
      "text/plain": [
       "1.2312313213213212e+39"
      ]
     },
     "execution_count": 80,
     "metadata": {},
     "output_type": "execute_result"
    }
   ],
   "source": [
    "9.46e12 + 1231231321321321213213213213212314564648"
   ]
  },
  {
   "cell_type": "code",
   "execution_count": 81,
   "id": "9fadb5e7",
   "metadata": {},
   "outputs": [
    {
     "ename": "SyntaxError",
     "evalue": "invalid decimal literal (1681953706.py, line 1)",
     "output_type": "error",
     "traceback": [
      "\u001b[1;36m  Input \u001b[1;32mIn [81]\u001b[1;36m\u001b[0m\n\u001b[1;33m    a=1+2i\u001b[0m\n\u001b[1;37m        ^\u001b[0m\n\u001b[1;31mSyntaxError\u001b[0m\u001b[1;31m:\u001b[0m invalid decimal literal\n"
     ]
    }
   ],
   "source": [
    "a=1+2i #파이썬에선 i대신 j를 사용한다.(오류)"
   ]
  },
  {
   "cell_type": "code",
   "execution_count": 85,
   "id": "7d4ee4ca",
   "metadata": {},
   "outputs": [],
   "source": [
    "a=1+2j #변수에 해당 값을 넣는다."
   ]
  },
  {
   "cell_type": "code",
   "execution_count": 84,
   "id": "3338cf1b",
   "metadata": {},
   "outputs": [],
   "source": [
    "b=1-2j #변수에 해당 값을 넣는다."
   ]
  },
  {
   "cell_type": "code",
   "execution_count": 87,
   "id": "471afdec",
   "metadata": {},
   "outputs": [
    {
     "name": "stdout",
     "output_type": "stream",
     "text": [
      "(2+0j) (5+0j)\n"
     ]
    }
   ],
   "source": [
    "print(a+b, a*b) #전자는 2, 후자는 1+4 해서 5가 나온다."
   ]
  },
  {
   "cell_type": "code",
   "execution_count": 88,
   "id": "46560cc3",
   "metadata": {},
   "outputs": [],
   "source": [
    "a=\"aaa\" #변수에 문자열 지정"
   ]
  },
  {
   "cell_type": "code",
   "execution_count": 89,
   "id": "e9f9ec25",
   "metadata": {},
   "outputs": [],
   "source": [
    "b=\"bbb\" #변수에 문자열 지정"
   ]
  },
  {
   "cell_type": "code",
   "execution_count": 91,
   "id": "26f1dd0b",
   "metadata": {},
   "outputs": [
    {
     "data": {
      "text/plain": [
       "'aaabbb'"
      ]
     },
     "execution_count": 91,
     "metadata": {},
     "output_type": "execute_result"
    }
   ],
   "source": [
    "a+b #aaabbb출력"
   ]
  },
  {
   "cell_type": "code",
   "execution_count": 92,
   "id": "85e8ac7b",
   "metadata": {},
   "outputs": [
    {
     "ename": "TypeError",
     "evalue": "can't multiply sequence by non-int of type 'str'",
     "output_type": "error",
     "traceback": [
      "\u001b[1;31m---------------------------------------------------------------------------\u001b[0m",
      "\u001b[1;31mTypeError\u001b[0m                                 Traceback (most recent call last)",
      "Input \u001b[1;32mIn [92]\u001b[0m, in \u001b[0;36m<cell line: 1>\u001b[1;34m()\u001b[0m\n\u001b[1;32m----> 1\u001b[0m \u001b[43ma\u001b[49m\u001b[38;5;241;43m*\u001b[39;49m\u001b[43mb\u001b[49m\n",
      "\u001b[1;31mTypeError\u001b[0m: can't multiply sequence by non-int of type 'str'"
     ]
    }
   ],
   "source": [
    "a*b #문자형 끼리의 곱 이여서 오류가 난다"
   ]
  },
  {
   "cell_type": "code",
   "execution_count": 93,
   "id": "2f2ab76e",
   "metadata": {},
   "outputs": [
    {
     "data": {
      "text/plain": [
       "'aaaaaaaaa'"
      ]
     },
     "execution_count": 93,
     "metadata": {},
     "output_type": "execute_result"
    }
   ],
   "source": [
    "a*3 #a가 3번 반복하여 출력한다."
   ]
  },
  {
   "cell_type": "code",
   "execution_count": 94,
   "id": "96be15ff",
   "metadata": {},
   "outputs": [
    {
     "data": {
      "text/plain": [
       "'bbbbbbbbbbbbbbb'"
      ]
     },
     "execution_count": 94,
     "metadata": {},
     "output_type": "execute_result"
    }
   ],
   "source": [
    "b*5 #b를 5번 출력한다."
   ]
  },
  {
   "cell_type": "code",
   "execution_count": 95,
   "id": "4a723caf",
   "metadata": {},
   "outputs": [
    {
     "name": "stdout",
     "output_type": "stream",
     "text": [
      "호랑이가 \"떡하나 주면 안잡아 먹지\" 라고 말했습니다.\n"
     ]
    }
   ],
   "source": [
    "print('호랑이가 \"떡하나 주면 안잡아 먹지\" 라고 말했습니다.') #'' 안에서 \"\" 쓰기"
   ]
  },
  {
   "cell_type": "code",
   "execution_count": 97,
   "id": "f4d607e2",
   "metadata": {},
   "outputs": [
    {
     "name": "stdout",
     "output_type": "stream",
     "text": [
      " 호랑이가 \"떡하나 주면 안잡아 먹지\" 라고 말했습니다.\n"
     ]
    }
   ],
   "source": [
    "print (\" 호랑이가 \\\"떡하나 주면 안잡아 먹지\\\" 라고 말했습니다.\") #\"\" 안에서 \\\"로 사용"
   ]
  },
  {
   "cell_type": "code",
   "execution_count": 98,
   "id": "cc06e1e0",
   "metadata": {},
   "outputs": [
    {
     "name": "stdout",
     "output_type": "stream",
     "text": [
      "I say \"I Love You\"\n"
     ]
    }
   ],
   "source": [
    "print (\"I say \\\"I Love You\\\"\") #\"\" 안에서 \\\"로 사용"
   ]
  },
  {
   "cell_type": "code",
   "execution_count": 99,
   "id": "1f9bd5b3",
   "metadata": {},
   "outputs": [
    {
     "ename": "SyntaxError",
     "evalue": "invalid syntax. Perhaps you forgot a comma? (4294271992.py, line 1)",
     "output_type": "error",
     "traceback": [
      "\u001b[1;36m  Input \u001b[1;32mIn [99]\u001b[1;36m\u001b[0m\n\u001b[1;33m    print (\"I say \"I Love You\"\")\u001b[0m\n\u001b[1;37m           ^\u001b[0m\n\u001b[1;31mSyntaxError\u001b[0m\u001b[1;31m:\u001b[0m invalid syntax. Perhaps you forgot a comma?\n"
     ]
    }
   ],
   "source": [
    " print (\"I say \"I Love You\"\") #\"\"안에서 \\\"를 사용하지 않아 에러"
   ]
  },
  {
   "cell_type": "code",
   "execution_count": 100,
   "id": "92ca3688",
   "metadata": {},
   "outputs": [
    {
     "name": "stdout",
     "output_type": "stream",
     "text": [
      "오늘 열심히 파이썬을 공부했습니다. \n",
      "내일도 열심히 파이썬을 공부할 것입니다. \n",
      "그래서 일등할 것입니다\n"
     ]
    }
   ],
   "source": [
    " print(\"\"\"오늘 열심히 파이썬을 공부했습니다. \n",
    "내일도 열심히 파이썬을 공부할 것입니다. \n",
    "그래서 일등할 것입니다\"\"\")"
   ]
  },
  {
   "cell_type": "code",
   "execution_count": 101,
   "id": "a1eb4ad4",
   "metadata": {},
   "outputs": [
    {
     "name": "stdout",
     "output_type": "stream",
     "text": [
      "오늘 열심히 파이썬을 공부했습니다.내일도 열심히 파이썬을 공부할 것입니다.그래서 일등할 것입니다\n"
     ]
    }
   ],
   "source": [
    "print(\"오늘 열심히 파이썬을 공부했습니다.\\\n",
    "내일도 열심히 파이썬을 공부할 것입니다.\\\n",
    "그래서 일등할 것입니다\")"
   ]
  },
  {
   "cell_type": "code",
   "execution_count": 102,
   "id": "e0c92bd9",
   "metadata": {},
   "outputs": [],
   "source": [
    "a = \"오늘은\" \"즐거운\" \"일요일\" #문자열 나열로도 가능하다"
   ]
  },
  {
   "cell_type": "code",
   "execution_count": 103,
   "id": "f9d07d52",
   "metadata": {},
   "outputs": [
    {
     "name": "stdout",
     "output_type": "stream",
     "text": [
      "오늘은즐거운일요일\n"
     ]
    }
   ],
   "source": [
    "print(a)"
   ]
  },
  {
   "cell_type": "code",
   "execution_count": 104,
   "id": "81f1aa7b",
   "metadata": {},
   "outputs": [
    {
     "name": "stdout",
     "output_type": "stream",
     "text": [
      "오늘 열심히 파이썬을 공부했습니다. \n",
      "내일도 열심히 파이썬을 공부할 것입니다. \n",
      "그래서 일등할 것입니다\n"
     ]
    }
   ],
   "source": [
    " print(\"오늘 열심히 파이썬을 공부했습니다. \\n\" #\\n으로 줄바꿈\n",
    "\"내일도 열심히 파이썬을 공부할 것입니다. \\n\" #연달아서 출력\n",
    "\"그래서 일등할 것입니다\")"
   ]
  },
  {
   "cell_type": "code",
   "execution_count": 105,
   "id": "62809cf6",
   "metadata": {},
   "outputs": [],
   "source": [
    " a = True #a에 참 입력"
   ]
  },
  {
   "cell_type": "code",
   "execution_count": 106,
   "id": "9e920017",
   "metadata": {},
   "outputs": [],
   "source": [
    "b = False #b에 거짓 입력"
   ]
  },
  {
   "cell_type": "code",
   "execution_count": 107,
   "id": "62d1daa6",
   "metadata": {},
   "outputs": [
    {
     "data": {
      "text/plain": [
       "False"
      ]
     },
     "execution_count": 107,
     "metadata": {},
     "output_type": "execute_result"
    }
   ],
   "source": [
    "a and b #참이고 거짓이면 거짓출력"
   ]
  },
  {
   "cell_type": "code",
   "execution_count": 108,
   "id": "2faa3ed5",
   "metadata": {},
   "outputs": [
    {
     "data": {
      "text/plain": [
       "True"
      ]
     },
     "execution_count": 108,
     "metadata": {},
     "output_type": "execute_result"
    }
   ],
   "source": [
    "a or b #참 또는 거짓이면 참 출력"
   ]
  },
  {
   "cell_type": "code",
   "execution_count": 110,
   "id": "9b880ad2",
   "metadata": {},
   "outputs": [
    {
     "data": {
      "text/plain": [
       "True"
      ]
     },
     "execution_count": 110,
     "metadata": {},
     "output_type": "execute_result"
    }
   ],
   "source": [
    "a and not b #참 이고 거짓이 아님 이면 참 출력"
   ]
  },
  {
   "cell_type": "code",
   "execution_count": 111,
   "id": "19fcfee2",
   "metadata": {},
   "outputs": [],
   "source": [
    "a = 0 #0입력"
   ]
  },
  {
   "cell_type": "code",
   "execution_count": 112,
   "id": "2b9dd811",
   "metadata": {},
   "outputs": [],
   "source": [
    "b = a==0 #a는 0 이기 때문에, 참"
   ]
  },
  {
   "cell_type": "code",
   "execution_count": 113,
   "id": "c2ba6eff",
   "metadata": {},
   "outputs": [
    {
     "data": {
      "text/plain": [
       "True"
      ]
     },
     "execution_count": 113,
     "metadata": {},
     "output_type": "execute_result"
    }
   ],
   "source": [
    "b"
   ]
  },
  {
   "cell_type": "code",
   "execution_count": 114,
   "id": "5d570610",
   "metadata": {},
   "outputs": [],
   "source": [
    "a = True # 참 입력"
   ]
  },
  {
   "cell_type": "code",
   "execution_count": 115,
   "id": "38489ba7",
   "metadata": {},
   "outputs": [],
   "source": [
    "b = False # 거짓 입력"
   ]
  },
  {
   "cell_type": "code",
   "execution_count": 116,
   "id": "a5c7dfcb",
   "metadata": {},
   "outputs": [
    {
     "name": "stdout",
     "output_type": "stream",
     "text": [
      "참\n"
     ]
    }
   ],
   "source": [
    "if 1 > 2 and a and b or b or a: #1>2(거짓) 이고 a(참) 이고 b(거짓) 이거나 b(거짓) 이거나 a(참) 이면\n",
    "    print (\"참\")\n",
    "else:\n",
    "    print (\"거짓\")"
   ]
  },
  {
   "cell_type": "code",
   "execution_count": 121,
   "id": "766b2546",
   "metadata": {},
   "outputs": [],
   "source": [
    "rainbow = [\"빨\",\"주\",\"노\",\"초\",\"파\",\"남\",\"보\"] #문자열 리스트 생성"
   ]
  },
  {
   "cell_type": "code",
   "execution_count": 122,
   "id": "c4ae6bd6",
   "metadata": {},
   "outputs": [
    {
     "name": "stdout",
     "output_type": "stream",
     "text": [
      "['빨', '주', '노', '초', '파', '남', '보']\n"
     ]
    }
   ],
   "source": [
    "print(rainbow) #출력"
   ]
  },
  {
   "cell_type": "code",
   "execution_count": 119,
   "id": "7ffc32dd",
   "metadata": {},
   "outputs": [
    {
     "data": {
      "text/plain": [
       "True"
      ]
     },
     "execution_count": 119,
     "metadata": {},
     "output_type": "execute_result"
    }
   ],
   "source": [
    "True"
   ]
  },
  {
   "cell_type": "code",
   "execution_count": 124,
   "id": "f40f4bde",
   "metadata": {},
   "outputs": [],
   "source": [
    "rainbow = [\"빨강\",\"주황\",\"노랑\",\"초록\",\"파랑\",\"남색\",\"보라\"] #문자열 리스트 생성"
   ]
  },
  {
   "cell_type": "code",
   "execution_count": 125,
   "id": "2c9076a6",
   "metadata": {},
   "outputs": [
    {
     "name": "stdout",
     "output_type": "stream",
     "text": [
      "빨강 색\n",
      "주황 색\n",
      "노랑 색\n",
      "초록 색\n",
      "파랑 색\n",
      "남색 색\n",
      "보라 색\n"
     ]
    }
   ],
   "source": [
    "for color in rainbow : #rainbow 값을 하나씩 color에 넣는다.\n",
    "    print ( color, \"색\") #받아온 문자를 색과 함께 출력한다."
   ]
  },
  {
   "cell_type": "code",
   "execution_count": 127,
   "id": "23c630d6",
   "metadata": {},
   "outputs": [],
   "source": [
    "rainbow = (\"빨강\",\"주황\",\"노랑\",\"초록\",\"파랑\",\"남색\",\"보라\") # 튜플 지정"
   ]
  },
  {
   "cell_type": "code",
   "execution_count": 128,
   "id": "4972bf1b",
   "metadata": {},
   "outputs": [
    {
     "name": "stdout",
     "output_type": "stream",
     "text": [
      "빨강 색\n",
      "주황 색\n",
      "노랑 색\n",
      "초록 색\n",
      "파랑 색\n",
      "남색 색\n",
      "보라 색\n"
     ]
    }
   ],
   "source": [
    "for color in rainbow : #rainbow의 값을 하나씩 꺼내서 color에 지정한다.\n",
    "    print(color, \"색\") #지정받은 튜플값을 출력한다."
   ]
  },
  {
   "cell_type": "code",
   "execution_count": 129,
   "id": "4ab9bb78",
   "metadata": {},
   "outputs": [],
   "source": [
    "a=3 #3 입력"
   ]
  },
  {
   "cell_type": "code",
   "execution_count": 130,
   "id": "c9e0b9bf",
   "metadata": {},
   "outputs": [],
   "source": [
    "b=4 #4 입력"
   ]
  },
  {
   "cell_type": "code",
   "execution_count": 131,
   "id": "21abd951",
   "metadata": {},
   "outputs": [],
   "source": [
    "c=123+456*6 #c값 지정"
   ]
  },
  {
   "cell_type": "code",
   "execution_count": 133,
   "id": "1cb77b48",
   "metadata": {},
   "outputs": [
    {
     "data": {
      "text/plain": [
       "(3, 4, 2859)"
      ]
     },
     "execution_count": 133,
     "metadata": {},
     "output_type": "execute_result"
    }
   ],
   "source": [
    "a,b,c #a b c 출력"
   ]
  },
  {
   "cell_type": "code",
   "execution_count": 134,
   "id": "d901c7b2",
   "metadata": {},
   "outputs": [
    {
     "ename": "SyntaxError",
     "evalue": "cannot assign to expression here. Maybe you meant '==' instead of '='? (3742792298.py, line 1)",
     "output_type": "error",
     "traceback": [
      "\u001b[1;36m  Input \u001b[1;32mIn [134]\u001b[1;36m\u001b[0m\n\u001b[1;33m    a+b=c #시스템 오류, 수식=변수의 구조\u001b[0m\n\u001b[1;37m    ^\u001b[0m\n\u001b[1;31mSyntaxError\u001b[0m\u001b[1;31m:\u001b[0m cannot assign to expression here. Maybe you meant '==' instead of '='?\n"
     ]
    }
   ],
   "source": [
    "a+b=c #시스템 오류, 수식=변수의 구조"
   ]
  },
  {
   "cell_type": "code",
   "execution_count": 135,
   "id": "e55f407a",
   "metadata": {},
   "outputs": [
    {
     "ename": "SyntaxError",
     "evalue": "cannot assign to expression here. Maybe you meant '==' instead of '='? (1832163014.py, line 1)",
     "output_type": "error",
     "traceback": [
      "\u001b[1;36m  Input \u001b[1;32mIn [135]\u001b[1;36m\u001b[0m\n\u001b[1;33m    123+456 = a #구조 오류\u001b[0m\n\u001b[1;37m    ^\u001b[0m\n\u001b[1;31mSyntaxError\u001b[0m\u001b[1;31m:\u001b[0m cannot assign to expression here. Maybe you meant '==' instead of '='?\n"
     ]
    }
   ],
   "source": [
    "123+456 = a #구조 오류"
   ]
  },
  {
   "cell_type": "code",
   "execution_count": 136,
   "id": "d64d9f28",
   "metadata": {},
   "outputs": [],
   "source": [
    "a=1 #1 할당"
   ]
  },
  {
   "cell_type": "code",
   "execution_count": 137,
   "id": "94805f18",
   "metadata": {},
   "outputs": [
    {
     "ename": "TypeError",
     "evalue": "unsupported operand type(s) for +: 'int' and 'str'",
     "output_type": "error",
     "traceback": [
      "\u001b[1;31m---------------------------------------------------------------------------\u001b[0m",
      "\u001b[1;31mTypeError\u001b[0m                                 Traceback (most recent call last)",
      "Input \u001b[1;32mIn [137]\u001b[0m, in \u001b[0;36m<cell line: 1>\u001b[1;34m()\u001b[0m\n\u001b[1;32m----> 1\u001b[0m a \u001b[38;5;241m=\u001b[39m \u001b[43ma\u001b[49m\u001b[38;5;241;43m+\u001b[39;49m\u001b[38;5;124;43m\"\u001b[39;49m\u001b[38;5;124;43m안녕\u001b[39;49m\u001b[38;5;124;43m\"\u001b[39;49m\n",
      "\u001b[1;31mTypeError\u001b[0m: unsupported operand type(s) for +: 'int' and 'str'"
     ]
    }
   ],
   "source": [
    "a = a+\"안녕\" #숫자형에 문자형 병합이라 실패"
   ]
  },
  {
   "cell_type": "code",
   "execution_count": 138,
   "id": "bdee286b",
   "metadata": {},
   "outputs": [],
   "source": [
    "a = \"abc\" #a에 문자형 abc를 입력"
   ]
  },
  {
   "cell_type": "code",
   "execution_count": 139,
   "id": "2b00655c",
   "metadata": {},
   "outputs": [],
   "source": [
    "a = a + \"안녕\" #abc + 안녕이 병합된다."
   ]
  },
  {
   "cell_type": "code",
   "execution_count": 140,
   "id": "65b8449a",
   "metadata": {},
   "outputs": [
    {
     "name": "stdout",
     "output_type": "stream",
     "text": [
      "abc안녕\n"
     ]
    }
   ],
   "source": [
    "print(a) #메세지 출력"
   ]
  },
  {
   "cell_type": "code",
   "execution_count": 146,
   "id": "d7959b5c",
   "metadata": {},
   "outputs": [],
   "source": [
    "a=1 #1 할당"
   ]
  },
  {
   "cell_type": "code",
   "execution_count": 147,
   "id": "348e6961",
   "metadata": {},
   "outputs": [],
   "source": [
    "b=2 #2 할당"
   ]
  },
  {
   "cell_type": "code",
   "execution_count": 148,
   "id": "65364e04",
   "metadata": {},
   "outputs": [
    {
     "data": {
      "text/plain": [
       "(1, 2)"
      ]
     },
     "execution_count": 148,
     "metadata": {},
     "output_type": "execute_result"
    }
   ],
   "source": [
    "a,b # a,b, 출력"
   ]
  },
  {
   "cell_type": "code",
   "execution_count": 149,
   "id": "5184abf4",
   "metadata": {},
   "outputs": [],
   "source": [
    "a,b=b,a #서로의 값을 바꾼다"
   ]
  },
  {
   "cell_type": "code",
   "execution_count": 150,
   "id": "dc49a12f",
   "metadata": {},
   "outputs": [
    {
     "data": {
      "text/plain": [
       "(2, 1)"
      ]
     },
     "execution_count": 150,
     "metadata": {},
     "output_type": "execute_result"
    }
   ],
   "source": [
    "a,b #다시 a,b 출력 (값이 바뀐 상태)"
   ]
  },
  {
   "cell_type": "code",
   "execution_count": 151,
   "id": "f3470053",
   "metadata": {},
   "outputs": [],
   "source": [
    "a,b,c,d,e,f=1,2,\"안녕\",\"하셔요\",3,4 #각 변수에, 1 2 안녕 하셔요 3 4 할당"
   ]
  },
  {
   "cell_type": "code",
   "execution_count": 152,
   "id": "8b1d9207",
   "metadata": {},
   "outputs": [
    {
     "data": {
      "text/plain": [
       "(1, 2, '안녕', '하셔요', 3, 4)"
      ]
     },
     "execution_count": 152,
     "metadata": {},
     "output_type": "execute_result"
    }
   ],
   "source": [
    "a,b,c,d,e,f #5개 값 출력"
   ]
  },
  {
   "cell_type": "code",
   "execution_count": 153,
   "id": "3296ed2b",
   "metadata": {},
   "outputs": [],
   "source": [
    "a=b=1 #a b에 1 할당"
   ]
  },
  {
   "cell_type": "code",
   "execution_count": 154,
   "id": "ea20fd23",
   "metadata": {},
   "outputs": [
    {
     "data": {
      "text/plain": [
       "(1, 1)"
      ]
     },
     "execution_count": 154,
     "metadata": {},
     "output_type": "execute_result"
    }
   ],
   "source": [
    "a,b #a b 출력"
   ]
  },
  {
   "cell_type": "code",
   "execution_count": 155,
   "id": "e992e22b",
   "metadata": {},
   "outputs": [],
   "source": [
    "b=2 #2로 갱신"
   ]
  },
  {
   "cell_type": "code",
   "execution_count": 157,
   "id": "e8f9e2c2",
   "metadata": {},
   "outputs": [
    {
     "data": {
      "text/plain": [
       "(1, 2)"
      ]
     },
     "execution_count": 157,
     "metadata": {},
     "output_type": "execute_result"
    }
   ],
   "source": [
    "a,b #갱신한 값으로 출력"
   ]
  },
  {
   "cell_type": "code",
   "execution_count": 158,
   "id": "532aa3c7",
   "metadata": {},
   "outputs": [],
   "source": [
    "a=b=[1,2,3] #a b에 값 배열 값 입력"
   ]
  },
  {
   "cell_type": "code",
   "execution_count": 159,
   "id": "8472f485",
   "metadata": {},
   "outputs": [
    {
     "data": {
      "text/plain": [
       "([1, 2, 3], [1, 2, 3])"
      ]
     },
     "execution_count": 159,
     "metadata": {},
     "output_type": "execute_result"
    }
   ],
   "source": [
    "a,b #a b 출력"
   ]
  },
  {
   "cell_type": "code",
   "execution_count": 160,
   "id": "6751a235",
   "metadata": {},
   "outputs": [],
   "source": [
    "a[1] = 4 #a의 2번째 값을 4로 변경,b도 함께 변경된다."
   ]
  },
  {
   "cell_type": "code",
   "execution_count": 161,
   "id": "7163fae6",
   "metadata": {},
   "outputs": [
    {
     "data": {
      "text/plain": [
       "([1, 4, 3], [1, 4, 3])"
      ]
     },
     "execution_count": 161,
     "metadata": {},
     "output_type": "execute_result"
    }
   ],
   "source": [
    "a,b #a b 출력"
   ]
  },
  {
   "cell_type": "code",
   "execution_count": 166,
   "id": "ee5e432b",
   "metadata": {},
   "outputs": [],
   "source": [
    "a=[1,2,3,4,5] # a에 배열 값 입력"
   ]
  },
  {
   "cell_type": "code",
   "execution_count": 167,
   "id": "6a8559fa",
   "metadata": {},
   "outputs": [],
   "source": [
    "b=a[:] #b에 a 값을 복사해서 할당"
   ]
  },
  {
   "cell_type": "code",
   "execution_count": 168,
   "id": "fe95bbe7",
   "metadata": {},
   "outputs": [
    {
     "data": {
      "text/plain": [
       "([1, 2, 3, 4, 5], [1, 2, 3, 4, 5])"
      ]
     },
     "execution_count": 168,
     "metadata": {},
     "output_type": "execute_result"
    }
   ],
   "source": [
    "a,b #a b 출력"
   ]
  },
  {
   "cell_type": "code",
   "execution_count": 169,
   "id": "a92322a2",
   "metadata": {},
   "outputs": [],
   "source": [
    "a[2] = 5 #a의 3번째 값을 5로 변경, b와는 독립적"
   ]
  },
  {
   "cell_type": "code",
   "execution_count": 170,
   "id": "c1422ce3",
   "metadata": {},
   "outputs": [
    {
     "data": {
      "text/plain": [
       "([1, 2, 5, 4, 5], [1, 2, 3, 4, 5])"
      ]
     },
     "execution_count": 170,
     "metadata": {},
     "output_type": "execute_result"
    }
   ],
   "source": [
    "a,b #a b 출력"
   ]
  },
  {
   "cell_type": "code",
   "execution_count": 195,
   "id": "4cac8376",
   "metadata": {},
   "outputs": [],
   "source": [
    "import sys #sys 불러오기"
   ]
  },
  {
   "cell_type": "code",
   "execution_count": 196,
   "id": "71605ac9",
   "metadata": {},
   "outputs": [],
   "source": [
    "a = 123 #a에 123 입력"
   ]
  },
  {
   "cell_type": "code",
   "execution_count": 200,
   "id": "13b4f166",
   "metadata": {},
   "outputs": [
    {
     "data": {
      "text/plain": [
       "82"
      ]
     },
     "execution_count": 200,
     "metadata": {},
     "output_type": "execute_result"
    }
   ],
   "source": [
    "sys.getrefcount(123) # 123을 어느 공간에 만들어 참조한다."
   ]
  },
  {
   "cell_type": "code",
   "execution_count": 201,
   "id": "ee35fadc",
   "metadata": {},
   "outputs": [
    {
     "data": {
      "text/plain": [
       "83"
      ]
     },
     "execution_count": 201,
     "metadata": {},
     "output_type": "execute_result"
    }
   ],
   "source": [
    "b=123; sys.getrefcount(123) #b=123을 만나면 참조횟수가 증가한다."
   ]
  },
  {
   "cell_type": "code",
   "execution_count": 202,
   "id": "8da7418f",
   "metadata": {},
   "outputs": [
    {
     "data": {
      "text/plain": [
       "83"
      ]
     },
     "execution_count": 202,
     "metadata": {},
     "output_type": "execute_result"
    }
   ],
   "source": [
    "c=123; sys.getrefcount(123) #c=123을 만나면 참조 횟수가 증가한다."
   ]
  },
  {
   "cell_type": "code",
   "execution_count": 203,
   "id": "1769fdf8",
   "metadata": {},
   "outputs": [
    {
     "data": {
      "text/plain": [
       "2.5"
      ]
     },
     "execution_count": 203,
     "metadata": {},
     "output_type": "execute_result"
    }
   ],
   "source": [
    "1+2*3/4 #1+6/4=1+1.5 = 2.5"
   ]
  },
  {
   "cell_type": "code",
   "execution_count": 204,
   "id": "415ae809",
   "metadata": {},
   "outputs": [
    {
     "data": {
      "text/plain": [
       "8"
      ]
     },
     "execution_count": 204,
     "metadata": {},
     "output_type": "execute_result"
    }
   ],
   "source": [
    "2**3 #2^3 = 8"
   ]
  },
  {
   "cell_type": "code",
   "execution_count": 205,
   "id": "d94f1854",
   "metadata": {},
   "outputs": [
    {
     "data": {
      "text/plain": [
       "3.3333333333333335"
      ]
     },
     "execution_count": 205,
     "metadata": {},
     "output_type": "execute_result"
    }
   ],
   "source": [
    "10/3 #결과 출력 3.3333"
   ]
  },
  {
   "cell_type": "code",
   "execution_count": 206,
   "id": "a7aa9ed0",
   "metadata": {},
   "outputs": [
    {
     "data": {
      "text/plain": [
       "1.23456789012e+23"
      ]
     },
     "execution_count": 206,
     "metadata": {},
     "output_type": "execute_result"
    }
   ],
   "source": [
    "1e12*123456789012 #1*10^12  * 123456789012 실행"
   ]
  },
  {
   "cell_type": "code",
   "execution_count": 207,
   "id": "bf31bcbd",
   "metadata": {},
   "outputs": [],
   "source": [
    "a = 1+2j #복소수"
   ]
  },
  {
   "cell_type": "code",
   "execution_count": 208,
   "id": "bd62561d",
   "metadata": {},
   "outputs": [
    {
     "data": {
      "text/plain": [
       "(124+14j)"
      ]
     },
     "execution_count": 208,
     "metadata": {},
     "output_type": "execute_result"
    }
   ],
   "source": [
    "a+(123+12j) #123은 1 증가, 12j는 2j만큼 증가"
   ]
  },
  {
   "cell_type": "code",
   "execution_count": 209,
   "id": "076710b9",
   "metadata": {},
   "outputs": [
    {
     "data": {
      "text/plain": [
       "2.5"
      ]
     },
     "execution_count": 209,
     "metadata": {},
     "output_type": "execute_result"
    }
   ],
   "source": [
    "5/2 #2.5"
   ]
  },
  {
   "cell_type": "code",
   "execution_count": 210,
   "id": "a0bd11a2",
   "metadata": {},
   "outputs": [
    {
     "data": {
      "text/plain": [
       "2"
      ]
     },
     "execution_count": 210,
     "metadata": {},
     "output_type": "execute_result"
    }
   ],
   "source": [
    "5//2 #몫을 구한다 2"
   ]
  },
  {
   "cell_type": "code",
   "execution_count": 211,
   "id": "c16c74bf",
   "metadata": {},
   "outputs": [
    {
     "data": {
      "text/plain": [
       "1"
      ]
     },
     "execution_count": 211,
     "metadata": {},
     "output_type": "execute_result"
    }
   ],
   "source": [
    "5%2 #나머지를 구한다 1"
   ]
  },
  {
   "cell_type": "code",
   "execution_count": 212,
   "id": "1d0a9d33",
   "metadata": {},
   "outputs": [
    {
     "name": "stdout",
     "output_type": "stream",
     "text": [
      "2\n"
     ]
    }
   ],
   "source": [
    "a=1;a=a+1;print(a) #a에 1할당, a 1증가, 출력"
   ]
  },
  {
   "cell_type": "code",
   "execution_count": 213,
   "id": "244e5719",
   "metadata": {},
   "outputs": [
    {
     "name": "stdout",
     "output_type": "stream",
     "text": [
      "2\n"
     ]
    }
   ],
   "source": [
    "a=1;a+=1;print(a) # a=a+1 을 a+=1로 표시 가능"
   ]
  },
  {
   "cell_type": "code",
   "execution_count": 214,
   "id": "f0653cd4",
   "metadata": {},
   "outputs": [
    {
     "data": {
      "text/plain": [
       "4"
      ]
     },
     "execution_count": 214,
     "metadata": {},
     "output_type": "execute_result"
    }
   ],
   "source": [
    "a*=2;a #a=a*2와 같은 의미, 2*2 = 4  출력"
   ]
  },
  {
   "cell_type": "code",
   "execution_count": 215,
   "id": "8d4125ed",
   "metadata": {},
   "outputs": [
    {
     "data": {
      "text/plain": [
       "8"
      ]
     },
     "execution_count": 215,
     "metadata": {},
     "output_type": "execute_result"
    }
   ],
   "source": [
    "a*=2;a #a=a*2와 같은 의미, 4*2 = 8  출력"
   ]
  },
  {
   "cell_type": "code",
   "execution_count": 216,
   "id": "32b11eb5",
   "metadata": {},
   "outputs": [
    {
     "data": {
      "text/plain": [
       "0"
      ]
     },
     "execution_count": 216,
     "metadata": {},
     "output_type": "execute_result"
    }
   ],
   "source": [
    "a=1;a-=1;a #a에 1 할당, a의 값 1뺌 (0), 출력"
   ]
  },
  {
   "cell_type": "code",
   "execution_count": 217,
   "id": "7441c0c5",
   "metadata": {},
   "outputs": [
    {
     "data": {
      "text/plain": [
       "-1"
      ]
     },
     "execution_count": 217,
     "metadata": {},
     "output_type": "execute_result"
    }
   ],
   "source": [
    "a-=1;a #a의 값 1뺌, (-1)"
   ]
  },
  {
   "cell_type": "code",
   "execution_count": 218,
   "id": "5bee6ef4",
   "metadata": {},
   "outputs": [],
   "source": [
    "a=1 #a에 1할당"
   ]
  },
  {
   "cell_type": "code",
   "execution_count": 219,
   "id": "43d365c5",
   "metadata": {},
   "outputs": [
    {
     "ename": "SyntaxError",
     "evalue": "invalid syntax (628643890.py, line 1)",
     "output_type": "error",
     "traceback": [
      "\u001b[1;36m  Input \u001b[1;32mIn [219]\u001b[1;36m\u001b[0m\n\u001b[1;33m    a++ # 파이썬에선 사용불가\u001b[0m\n\u001b[1;37m        ^\u001b[0m\n\u001b[1;31mSyntaxError\u001b[0m\u001b[1;31m:\u001b[0m invalid syntax\n"
     ]
    }
   ],
   "source": [
    "a++ # 파이썬에선 사용불가"
   ]
  },
  {
   "cell_type": "code",
   "execution_count": 220,
   "id": "9adef384",
   "metadata": {},
   "outputs": [
    {
     "ename": "SyntaxError",
     "evalue": "invalid syntax (985753724.py, line 1)",
     "output_type": "error",
     "traceback": [
      "\u001b[1;36m  Input \u001b[1;32mIn [220]\u001b[1;36m\u001b[0m\n\u001b[1;33m    a-- #파이썬에선 사용불가\u001b[0m\n\u001b[1;37m        ^\u001b[0m\n\u001b[1;31mSyntaxError\u001b[0m\u001b[1;31m:\u001b[0m invalid syntax\n"
     ]
    }
   ],
   "source": [
    "a-- #파이썬에선 사용불가"
   ]
  },
  {
   "cell_type": "code",
   "execution_count": 222,
   "id": "f9155436",
   "metadata": {},
   "outputs": [
    {
     "name": "stdout",
     "output_type": "stream",
     "text": [
      "1\n"
     ]
    },
    {
     "data": {
      "text/plain": [
       "-1"
      ]
     },
     "execution_count": 222,
     "metadata": {},
     "output_type": "execute_result"
    }
   ],
   "source": [
    "a=+ 1; print(a); a=- 1; a #1과 -1을 지정받은 a 출력"
   ]
  },
  {
   "cell_type": "code",
   "execution_count": 223,
   "id": "caca206b",
   "metadata": {},
   "outputs": [
    {
     "ename": "TypeError",
     "evalue": "can only concatenate str (not \"int\") to str",
     "output_type": "error",
     "traceback": [
      "\u001b[1;31m---------------------------------------------------------------------------\u001b[0m",
      "\u001b[1;31mTypeError\u001b[0m                                 Traceback (most recent call last)",
      "Input \u001b[1;32mIn [223]\u001b[0m, in \u001b[0;36m<cell line: 1>\u001b[1;34m()\u001b[0m\n\u001b[1;32m----> 1\u001b[0m a\u001b[38;5;241m=\u001b[39m\u001b[38;5;124m\"\u001b[39m\u001b[38;5;124m123\u001b[39m\u001b[38;5;124m\"\u001b[39m; \u001b[43ma\u001b[49m\u001b[38;5;241;43m+\u001b[39;49m\u001b[38;5;241;43m1\u001b[39;49m\n",
      "\u001b[1;31mTypeError\u001b[0m: can only concatenate str (not \"int\") to str"
     ]
    }
   ],
   "source": [
    "a=\"123\"; a+1 #문자형에 숫자형 더해서 오류"
   ]
  },
  {
   "cell_type": "code",
   "execution_count": 224,
   "id": "289de91b",
   "metadata": {},
   "outputs": [
    {
     "data": {
      "text/plain": [
       "124"
      ]
     },
     "execution_count": 224,
     "metadata": {},
     "output_type": "execute_result"
    }
   ],
   "source": [
    " a=\"123\"; int(a)+1 #123을 숫자형으로 변경하여 1 더함, 124"
   ]
  },
  {
   "cell_type": "code",
   "execution_count": 225,
   "id": "9741b406",
   "metadata": {},
   "outputs": [
    {
     "data": {
      "text/plain": [
       "12"
      ]
     },
     "execution_count": 225,
     "metadata": {},
     "output_type": "execute_result"
    }
   ],
   "source": [
    "a=12.3; int(a) #실수형을 정수형으로 변경하여 소수점 이하 절삭(12)"
   ]
  },
  {
   "cell_type": "code",
   "execution_count": 226,
   "id": "ac4ba035",
   "metadata": {},
   "outputs": [],
   "source": [
    "a=\"멍멍이\" #문자 할당"
   ]
  },
  {
   "cell_type": "code",
   "execution_count": 227,
   "id": "2c93a25a",
   "metadata": {},
   "outputs": [],
   "source": [
    "b=\"고양이\" #문자 할당"
   ]
  },
  {
   "cell_type": "code",
   "execution_count": 228,
   "id": "55c001d9",
   "metadata": {},
   "outputs": [
    {
     "data": {
      "text/plain": [
       "'멍멍이고양이'"
      ]
     },
     "execution_count": 228,
     "metadata": {},
     "output_type": "execute_result"
    }
   ],
   "source": [
    "a+b #멍멍이고양이 출력"
   ]
  },
  {
   "cell_type": "code",
   "execution_count": 229,
   "id": "8e6e9af6",
   "metadata": {},
   "outputs": [
    {
     "data": {
      "text/plain": [
       "'멍멍이멍멍이멍멍이고양이고양이'"
      ]
     },
     "execution_count": 229,
     "metadata": {},
     "output_type": "execute_result"
    }
   ],
   "source": [
    "a*3 + b*2 #멍멍이3번, 고양ㅇ이 2번 출력"
   ]
  },
  {
   "cell_type": "code",
   "execution_count": 230,
   "id": "dd91cc41",
   "metadata": {},
   "outputs": [
    {
     "data": {
      "text/plain": [
       "'--------------------'"
      ]
     },
     "execution_count": 230,
     "metadata": {},
     "output_type": "execute_result"
    }
   ],
   "source": [
    "\"-\"*20 #- 20번 출력"
   ]
  },
  {
   "cell_type": "code",
   "execution_count": 231,
   "id": "b22195ef",
   "metadata": {},
   "outputs": [],
   "source": [
    "a=1 #a에 1 할당"
   ]
  },
  {
   "cell_type": "code",
   "execution_count": 235,
   "id": "44bda71d",
   "metadata": {},
   "outputs": [
    {
     "ename": "TypeError",
     "evalue": "can only concatenate str (not \"int\") to str",
     "output_type": "error",
     "traceback": [
      "\u001b[1;31m---------------------------------------------------------------------------\u001b[0m",
      "\u001b[1;31mTypeError\u001b[0m                                 Traceback (most recent call last)",
      "Input \u001b[1;32mIn [235]\u001b[0m, in \u001b[0;36m<cell line: 1>\u001b[1;34m()\u001b[0m\n\u001b[1;32m----> 1\u001b[0m b\u001b[38;5;241m=\u001b[39m\u001b[38;5;124;43m\"\u001b[39;49m\u001b[38;5;124;43m강아지\u001b[39;49m\u001b[38;5;124;43m\"\u001b[39;49m\u001b[43m \u001b[49m\u001b[38;5;241;43m+\u001b[39;49m\u001b[43m \u001b[49m\u001b[43ma\u001b[49m \u001b[38;5;241m+\u001b[39m \u001b[38;5;124m\"\u001b[39m\u001b[38;5;124m마리\u001b[39m\u001b[38;5;124m\"\u001b[39m\n",
      "\u001b[1;31mTypeError\u001b[0m: can only concatenate str (not \"int\") to str"
     ]
    }
   ],
   "source": [
    "b=\"강아지\" + a + \"마리\" #강아지 a(1) 마리 입력, a가 숫자형이라 오류"
   ]
  },
  {
   "cell_type": "code",
   "execution_count": 236,
   "id": "55812aee",
   "metadata": {},
   "outputs": [],
   "source": [
    "b=\"강아지\" + str(a) + \"마리\" #강아지 a(1) 마리 입력, a를 문자형으로 변경"
   ]
  },
  {
   "cell_type": "code",
   "execution_count": 237,
   "id": "a8555923",
   "metadata": {},
   "outputs": [
    {
     "data": {
      "text/plain": [
       "'강아지1마리'"
      ]
     },
     "execution_count": 237,
     "metadata": {},
     "output_type": "execute_result"
    }
   ],
   "source": [
    "b #b 출력"
   ]
  },
  {
   "cell_type": "code",
   "execution_count": 238,
   "id": "7cf13cd5",
   "metadata": {},
   "outputs": [
    {
     "data": {
      "text/plain": [
       "44032"
      ]
     },
     "execution_count": 238,
     "metadata": {},
     "output_type": "execute_result"
    }
   ],
   "source": [
    "ord(\"가\") #가의 내부코드 값 출력"
   ]
  },
  {
   "cell_type": "code",
   "execution_count": 239,
   "id": "7c2d5e38",
   "metadata": {},
   "outputs": [
    {
     "data": {
      "text/plain": [
       "'0x61'"
      ]
     },
     "execution_count": 239,
     "metadata": {},
     "output_type": "execute_result"
    }
   ],
   "source": [
    "hex(ord(\"a\")) #a의 내부코드값의 8진법"
   ]
  },
  {
   "cell_type": "code",
   "execution_count": 240,
   "id": "b85ae992",
   "metadata": {},
   "outputs": [
    {
     "name": "stdout",
     "output_type": "stream",
     "text": [
      "0x61 = a , 0x62 = b , 0x63 = c , 0x64 = d , 0x65 = e , 0x66 = f , 0x67 = g , 0x68 = h , 0x69 = i , 0x6a = j , 0x6b = k , 0x6c = l , 0x6d = m , 0x6e = n , 0x6f = o , 0x70 = p , 0x71 = q , 0x72 = r , 0x73 = s , 0x74 = t , 0x75 = u , 0x76 = v , 0x77 = w , 0x78 = x , 0x79 = y , 0x7a = z , "
     ]
    }
   ],
   "source": [
    "for c in range (ord('a'), ord('z')+1): #a부터 z까지의 내부코드값을 c에 넣어준다.\n",
    "    print(hex(c),\"=\",chr(c),\", \",end=\"\") #c의 8진수 값 = c, 를 이어서 출력한다."
   ]
  },
  {
   "cell_type": "code",
   "execution_count": 241,
   "id": "a7a19689",
   "metadata": {},
   "outputs": [
    {
     "ename": "ValueError",
     "evalue": "invalid literal for int() with base 10: '12.3'",
     "output_type": "error",
     "traceback": [
      "\u001b[1;31m---------------------------------------------------------------------------\u001b[0m",
      "\u001b[1;31mValueError\u001b[0m                                Traceback (most recent call last)",
      "Input \u001b[1;32mIn [241]\u001b[0m, in \u001b[0;36m<cell line: 1>\u001b[1;34m()\u001b[0m\n\u001b[1;32m----> 1\u001b[0m a\u001b[38;5;241m=\u001b[39m\u001b[38;5;124m\"\u001b[39m\u001b[38;5;124m12.3\u001b[39m\u001b[38;5;124m\"\u001b[39m;\u001b[38;5;28;43mint\u001b[39;49m\u001b[43m(\u001b[49m\u001b[43ma\u001b[49m\u001b[43m)\u001b[49m\n",
      "\u001b[1;31mValueError\u001b[0m: invalid literal for int() with base 10: '12.3'"
     ]
    }
   ],
   "source": [
    "a=\"12.3\";int(a) # 12.3을 문자형태로 넣어주고 a를 정수형으로 전환,12.3이 실수형이라 실패"
   ]
  },
  {
   "cell_type": "code",
   "execution_count": 242,
   "id": "3ee80719",
   "metadata": {},
   "outputs": [
    {
     "data": {
      "text/plain": [
       "12.3"
      ]
     },
     "execution_count": 242,
     "metadata": {},
     "output_type": "execute_result"
    }
   ],
   "source": [
    "float(a) #실수형 float으로 변환"
   ]
  },
  {
   "cell_type": "code",
   "execution_count": 243,
   "id": "efee7aac",
   "metadata": {},
   "outputs": [
    {
     "data": {
      "text/plain": [
       "14.1"
      ]
     },
     "execution_count": 243,
     "metadata": {},
     "output_type": "execute_result"
    }
   ],
   "source": [
    "a=1.1; 1+a+12 #1.1 할당후 계산, 14.1"
   ]
  },
  {
   "cell_type": "code",
   "execution_count": 246,
   "id": "59e6597c",
   "metadata": {},
   "outputs": [
    {
     "data": {
      "text/plain": [
       "14"
      ]
     },
     "execution_count": 246,
     "metadata": {},
     "output_type": "execute_result"
    }
   ],
   "source": [
    "1+int(a)+12 #1.1을 정수형으로 변환(1) 후 계산, 14"
   ]
  },
  {
   "cell_type": "code",
   "execution_count": 247,
   "id": "a22391e9",
   "metadata": {},
   "outputs": [
    {
     "data": {
      "text/plain": [
       "3"
      ]
     },
     "execution_count": 247,
     "metadata": {},
     "output_type": "execute_result"
    }
   ],
   "source": [
    "int(3.14) #float에서 int 로 바꿔서 소수점 아래가 버림된다."
   ]
  },
  {
   "cell_type": "code",
   "execution_count": 250,
   "id": "006cbce9",
   "metadata": {},
   "outputs": [
    {
     "name": "stdout",
     "output_type": "stream",
     "text": [
      "3\n",
      "3.1\n"
     ]
    },
    {
     "data": {
      "text/plain": [
       "120000"
      ]
     },
     "execution_count": 250,
     "metadata": {},
     "output_type": "execute_result"
    }
   ],
   "source": [
    "print(round(3.14)); print(round(3.14,1)); round(123456,-4) #3.14 반올림(3), 3.14 1의자리에서 반올림(3.1) #123456, 천의자리(-4)에서 반올림"
   ]
  },
  {
   "cell_type": "code",
   "execution_count": 251,
   "id": "05925ff5",
   "metadata": {},
   "outputs": [],
   "source": [
    "a=1234567 #1234567 할당"
   ]
  },
  {
   "cell_type": "code",
   "execution_count": 252,
   "id": "aa354295",
   "metadata": {},
   "outputs": [],
   "source": [
    "if(a%1000 != 0 ) : #1000으로 나눠 떨어지지 않으면\n",
    "    a=int(a/1000)*1000+1000 # a를 1000으로 나누고 정수로 바꾼뒤 (소수점 버림), 다시 1000을 곱한 다음 1000을 더한다.(한자리 올려줌)\n",
    "else: #1000으로 나눠 떨어진다면\n",
    "    a=int(a/1000)*1000 #천의 자리 이하는 0으로 바꿔라"
   ]
  },
  {
   "cell_type": "code",
   "execution_count": 253,
   "id": "3c98cceb",
   "metadata": {},
   "outputs": [
    {
     "data": {
      "text/plain": [
       "1235000"
      ]
     },
     "execution_count": 253,
     "metadata": {},
     "output_type": "execute_result"
    }
   ],
   "source": [
    "a #a 출력"
   ]
  },
  {
   "cell_type": "code",
   "execution_count": 255,
   "id": "c460787d",
   "metadata": {},
   "outputs": [
    {
     "name": "stdout",
     "output_type": "stream",
     "text": [
      "이름이 뭐니?정지운\n"
     ]
    }
   ],
   "source": [
    "name = input(\"이름이 뭐니?\") #메세지를 출력하며 값을 입력받는다.\n",
    "if name == \"정지훈\" : #입력받은 값이 정지훈이면 아래 메세지를 출력한다.\n",
    "    print(\"주인님 어서오십시요\")"
   ]
  },
  {
   "cell_type": "code",
   "execution_count": 257,
   "id": "1791bd12",
   "metadata": {},
   "outputs": [
    {
     "name": "stdout",
     "output_type": "stream",
     "text": [
      "성별이 어떻게 되나요?여자\n",
      "립스틱색이 예쁘네요.\n"
     ]
    }
   ],
   "source": [
    "name = input(\"성별이 어떻게 되나요?\") #메세지를 출력하면서 값을 입력받는다.\n",
    "if name == \"남자\" : #남자라면 아래 메세지 출력\n",
    "    print(\"넥타이가 멋있습니다.\")\n",
    "else: #남자가 아니라면 아래 메세지 출력\n",
    "    print(\"립스틱색이 예쁘네요.\")"
   ]
  },
  {
   "cell_type": "code",
   "execution_count": 259,
   "id": "cb163afc",
   "metadata": {},
   "outputs": [
    {
     "name": "stdout",
     "output_type": "stream",
     "text": [
      "얼마를 구매하셨나요?100000\n",
      "세금은 10%입니다.\n"
     ]
    }
   ],
   "source": [
    "price = int(input(\"얼마를 구매하셨나요?\")) #메세지를 출력하면서 가격을 입력받는다.\n",
    "if price < 10000 : #10000원 보다 작으면 아래 메세지 출력\n",
    "    print(\"면세입니다.\")\n",
    "else: #그게 아니라면 아래 메세지 출력\n",
    "    print(\"세금은 10%입니다.\")\n"
   ]
  },
  {
   "cell_type": "code",
   "execution_count": 260,
   "id": "490fd91f",
   "metadata": {},
   "outputs": [],
   "source": [
    "a=100 #a에 100입력"
   ]
  },
  {
   "cell_type": "code",
   "execution_count": 261,
   "id": "6048f32f",
   "metadata": {},
   "outputs": [],
   "source": [
    "if (a==99): print(\"a는 99입니다\") #a가 99라면 옆에 메세지 출력"
   ]
  },
  {
   "cell_type": "code",
   "execution_count": 262,
   "id": "6023d4f1",
   "metadata": {},
   "outputs": [
    {
     "name": "stdout",
     "output_type": "stream",
     "text": [
      "a는 100입니다\n"
     ]
    }
   ],
   "source": [
    "if (a==100): print(\"a는 100입니다\") #a가 100이라면 옆에 메세지 출력"
   ]
  },
  {
   "cell_type": "code",
   "execution_count": 263,
   "id": "4dc41323",
   "metadata": {},
   "outputs": [
    {
     "name": "stdout",
     "output_type": "stream",
     "text": [
      "a는 100이상입니다\n"
     ]
    }
   ],
   "source": [
    "if (a>=100): print(\"a는 100이상입니다\") #a가 100이상이면 옆에 메세지 출력"
   ]
  },
  {
   "cell_type": "code",
   "execution_count": 264,
   "id": "74b62da9",
   "metadata": {},
   "outputs": [],
   "source": [
    "if (a<100): print(\"a는 100미만입니다\") #a가 100보다 작으면 옆에 메세지 출력"
   ]
  },
  {
   "cell_type": "code",
   "execution_count": 265,
   "id": "59514002",
   "metadata": {},
   "outputs": [],
   "source": [
    "a=\"abc\" #a에 abc 입력"
   ]
  },
  {
   "cell_type": "code",
   "execution_count": 266,
   "id": "a4c011b3",
   "metadata": {},
   "outputs": [
    {
     "name": "stdout",
     "output_type": "stream",
     "text": [
      "abc이다\n"
     ]
    }
   ],
   "source": [
    "if(a == \"abc\"): print(\"abc이다\") #a가 abc라면 옆의 메세지 출력"
   ]
  },
  {
   "cell_type": "code",
   "execution_count": 267,
   "id": "1c2d6869",
   "metadata": {},
   "outputs": [],
   "source": [
    "if(a > \"abc\"): print(\"abc보다 큰문자이다\") #a가 abc보다 크면 옆의 메세지 출력"
   ]
  },
  {
   "cell_type": "code",
   "execution_count": 268,
   "id": "1c675cd0",
   "metadata": {},
   "outputs": [],
   "source": [
    "a=\"abd\" #a에 abd입력"
   ]
  },
  {
   "cell_type": "code",
   "execution_count": 269,
   "id": "1cb08c3f",
   "metadata": {},
   "outputs": [
    {
     "name": "stdout",
     "output_type": "stream",
     "text": [
      "abc보다 큰문자이다\n"
     ]
    }
   ],
   "source": [
    "if(a > \"abc\"): print(\"abc보다 큰문자이다\") #a가 abc보다 크면 옆의 메세지 출력"
   ]
  },
  {
   "cell_type": "code",
   "execution_count": 270,
   "id": "abe61fa6",
   "metadata": {},
   "outputs": [],
   "source": [
    "a=\"abb\" #a에 abb 입력"
   ]
  },
  {
   "cell_type": "code",
   "execution_count": 271,
   "id": "b9017de6",
   "metadata": {},
   "outputs": [],
   "source": [
    "if(a > \"abc\"): print(\"abc보다 큰문자이다\") #a가 abc보다 크면 옆의 메세지 출력"
   ]
  },
  {
   "cell_type": "code",
   "execution_count": 274,
   "id": "96b87ff1",
   "metadata": {},
   "outputs": [
    {
     "name": "stdout",
     "output_type": "stream",
     "text": [
      "점수를 입력하셔요?44\n",
      "학점은 F입니다.\n"
     ]
    }
   ],
   "source": [
    "x = int(input(\"점수를 입력하셔요?\")) #메세지 출력하면서 x에 입력 받은 값 할당\n",
    "if 0 <= x and x < 60 : print(\"학점은 F입니다.\") #0~60 이면 옆 메세지 출력\n",
    "if 60 <= x and x < 70 : print(\"학점은 D입니다.\") #60~70 이면 옆 메세지 출력\n",
    "if 70 <= x and x < 80 : print(\"학점은 C입니다.\") #70~80 이면 옆 메세지 출력\n",
    "if 80 <= x and x < 90 : print(\"학점은 B입니다.\") #80~90 이면 옆 메세지 출력\n",
    "if 90 <= x and x <= 100 : print(\"학점은 A입니다.\") #90~100 이면 옆 메세지 출력"
   ]
  },
  {
   "cell_type": "code",
   "execution_count": 277,
   "id": "910518a7",
   "metadata": {},
   "outputs": [
    {
     "name": "stdout",
     "output_type": "stream",
     "text": [
      "영문 알파벳 한글자를 입력하셔요?S\n",
      "대문자 입니다.\n"
     ]
    }
   ],
   "source": [
    "x = input(\"영문 알파벳 한글자를 입력하셔요?\") # 메세지를 출력하면서 값을 받아온다.\n",
    "if \"a\" <= x and x <= \"z\" : print(\"소문자 입니다.\") #소문자면 옆의 값을 출력한다.\n",
    "if \"A\" <= x and x <= \"Z\" : print(\"대문자 입니다.\") #대문자면 옆의 값을 출력한다."
   ]
  },
  {
   "cell_type": "code",
   "execution_count": 278,
   "id": "0a497c3d",
   "metadata": {},
   "outputs": [],
   "source": [
    "a=100 #a에 100 할당"
   ]
  },
  {
   "cell_type": "code",
   "execution_count": 279,
   "id": "049992c8",
   "metadata": {},
   "outputs": [
    {
     "ename": "IndentationError",
     "evalue": "unexpected indent (1760317591.py, line 3)",
     "output_type": "error",
     "traceback": [
      "\u001b[1;36m  Input \u001b[1;32mIn [279]\u001b[1;36m\u001b[0m\n\u001b[1;33m    a = a - 50 #블록을 안맞췄다 에러\u001b[0m\n\u001b[1;37m    ^\u001b[0m\n\u001b[1;31mIndentationError\u001b[0m\u001b[1;31m:\u001b[0m unexpected indent\n"
     ]
    }
   ],
   "source": [
    "if a>50: #a가 50초과면\n",
    "    print(\"50보다 큰 수는 50을 빼겠습니다.\") #메세지 출력\n",
    "        a = a - 50 #블록을 안맞췄다 에러"
   ]
  },
  {
   "cell_type": "code",
   "execution_count": 280,
   "id": "1b65b6a4",
   "metadata": {},
   "outputs": [
    {
     "name": "stdout",
     "output_type": "stream",
     "text": [
      "50보다 큰 수는 50을 빼겠습니다.\n"
     ]
    }
   ],
   "source": [
    "if a>50: #a가 50초과면\n",
    "    print(\"50보다 큰 수는 50을 빼겠습니다.\") #메세지 출력\n",
    "    a = a - 50 #a는 -50을 한다"
   ]
  },
  {
   "cell_type": "code",
   "execution_count": 281,
   "id": "f828254a",
   "metadata": {},
   "outputs": [
    {
     "name": "stdout",
     "output_type": "stream",
     "text": [
      "50\n"
     ]
    }
   ],
   "source": [
    "print(a)"
   ]
  },
  {
   "cell_type": "code",
   "execution_count": 284,
   "id": "e0a9ac41",
   "metadata": {},
   "outputs": [
    {
     "name": "stdout",
     "output_type": "stream",
     "text": [
      "점수를 입력하셔요?(0~100)77\n",
      "학점은 C입니다\n"
     ]
    }
   ],
   "source": [
    "x=int(input(\"점수를 입력하셔요?(0~100)\")) #메세지를 출력하면서 값을 입력받는다.\n",
    "if x >= 90: print (\"학점은 A입니다\") #90 이상이면 A\n",
    "elif x >= 80: print (\"학점은 B입니다\") #80 이상이면 B\n",
    "elif x >= 70: print (\"학점은 C입니다\") #70 이상이면 C\n",
    "elif x >= 60: print (\"학점은 D입니다\") #60 이상이면 D\n",
    "else: print (\"학점은 F입니다\") # 위에 해당 안된다면 F"
   ]
  },
  {
   "cell_type": "code",
   "execution_count": 288,
   "id": "ce42e838",
   "metadata": {},
   "outputs": [
    {
     "name": "stdout",
     "output_type": "stream",
     "text": [
      "숫자를 입력하셔요?11\n",
      "3의 배수가 아닌 홀수입니다\n"
     ]
    }
   ],
   "source": [
    "x=int(input(\"숫자를 입력하셔요?\")) #메세지를 출력하면서 값을 입력받는다.\n",
    "if x % 2 == 0: #입력받은 값이 2로 나누어 떨어지면 \n",
    "    if x%4==0: #그리고 4로도 나누어 떨어지면 아래 메세지 출력\n",
    "        print(\"4의 배수인 짝수입니다(당연히 짝수)\")\n",
    "    else: #그게 아니라면 아래 메세지 출력\n",
    "        print(\"4의 배수가 아닌 짝수입니다\");\n",
    "elif x%3==0: #위가 아니고 3으로 나누어 떨어지면 아래 메세지 출력\n",
    "    print(\"3의 배수인 홀수 입니다\")\n",
    "else: #위가 전부 아니라면 아래 메세지 출력\n",
    "    print (\"3의 배수가 아닌 홀수입니다\")"
   ]
  },
  {
   "cell_type": "code",
   "execution_count": 293,
   "id": "4c615ef4",
   "metadata": {},
   "outputs": [
    {
     "name": "stdout",
     "output_type": "stream",
     "text": [
      "***********************************************\n",
      "총금액: 1000000 원  달러환율: 1010.12 $\n",
      "지급달러: 988 $\n",
      "거스름돈: 5 원  은행수수료: 1996 원\n",
      "***********************************************\n"
     ]
    }
   ],
   "source": [
    "myWon = 1000000 #100만원을 환전한다\n",
    "moneyEx = 1010.12 #1달러 당 환율\n",
    "bankrate = 0.002 #은행수수료(0.002%)\n",
    "usd = int(myWon / (moneyEx * (1 + bankrate))) # 지금할 달러를 계산한다(은행 수수료 미리 포함)\n",
    "commission = ((usd * moneyEx) * bankrate) #은행 수수료를 계산한다.(1단계)\n",
    "#은행수수료를 계산한다 (2단계)\n",
    "if(commission%1 != 0): #소수점 아래가 있으면, 올림한다.\n",
    "    commission = int(commission) + 1\n",
    "else: #소수점이 없으면 정수형으로 변환한다.\n",
    "    commission = int(commission)\n",
    "remain = int(myWon - ((usd * moneyEx) + commission)) #거스름돈 계산(정수형으로 소수점 이하 절삭)\n",
    "print(\"***********************************************\")\n",
    "print(\"총금액:\", myWon,\"원\",\" 달러환율:\", moneyEx,\"$\")\n",
    "print(\"지급달러:\", usd,\"$\", )\n",
    "print(\"거스름돈:\", remain,\"원\", \" 은행수수료:\", commission,\"원\")\n",
    "print(\"***********************************************\")"
   ]
  },
  {
   "cell_type": "code",
   "execution_count": 294,
   "id": "ee4d2d0d",
   "metadata": {},
   "outputs": [
    {
     "name": "stdout",
     "output_type": "stream",
     "text": [
      "2\n",
      "3\n",
      "4\n",
      "5\n"
     ]
    }
   ],
   "source": [
    "i=1 #i에 1 입력\n",
    "while i < 5: #i가 5보다 작으면 계속 반복\n",
    "    i+=1 #i 1증가\n",
    "    print(i) #i 출력"
   ]
  },
  {
   "cell_type": "code",
   "execution_count": 298,
   "id": "5b45154a",
   "metadata": {},
   "outputs": [
    {
     "name": "stdout",
     "output_type": "stream",
     "text": [
      "sum= 5050\n"
     ]
    }
   ],
   "source": [
    "i=0 #i에 0 선언 \n",
    "sum=0 #sum에 0 선언, 합계\n",
    "while i <100: #i가 100보다 작으면 계속 반복\n",
    "    i+=1 #i가 1 증가\n",
    "    sum = sum + i #sum을 i만큼 증가 시킨다.(1, 2, 3, 4.. 100까지 더해준다.)\n",
    "print(\"sum=\",sum) #while 이 끝나고 결과 출력"
   ]
  },
  {
   "cell_type": "code",
   "execution_count": 299,
   "id": "2be442a2",
   "metadata": {},
   "outputs": [
    {
     "name": "stdout",
     "output_type": "stream",
     "text": [
      "sum= 4950\n"
     ]
    }
   ],
   "source": [
    "i=0 #i에 0 선언 \n",
    "sum=0 #sum에 0 선언, 합계\n",
    "while i <100: #i가 100보다 작으면 계속 반복\n",
    "    sum = sum + i #sum을 i만큼 증가 시킨다.(1, 2, 3, 4..  99까지 더해준다.)\n",
    "    i+=1 #i가 1 증가\n",
    "print(\"sum=\",sum) #while 이 끝나고 결과 출력"
   ]
  },
  {
   "cell_type": "code",
   "execution_count": 300,
   "id": "88952128",
   "metadata": {},
   "outputs": [
    {
     "name": "stdout",
     "output_type": "stream",
     "text": [
      "sum= 5050\n"
     ]
    }
   ],
   "source": [
    "i=0 #i에 0 선언 \n",
    "sum=0 #sum에 0 선언, 합계\n",
    "while i <101: #i가 100보다 작으면 계속 반복\n",
    "    sum = sum + i #sum을 i만큼 증가 시킨다.(1, 2, 3, 4.. 100까지 더해준다.)\n",
    "    i+=1 #i가 1 증가\n",
    "print(\"sum=\",sum) #while 이 끝나고 결과 출력"
   ]
  },
  {
   "cell_type": "code",
   "execution_count": 301,
   "id": "db3ffa0e",
   "metadata": {},
   "outputs": [
    {
     "name": "stdout",
     "output_type": "stream",
     "text": [
      "a[ 0 ] 자료형: <class 'str'>  값: 1\n",
      "a[ 1 ] 자료형: <class 'int'>  값: 2\n",
      "a[ 2 ] 자료형: <class 'str'>  값: 3\n",
      "a[ 3 ] 자료형: <class 'int'>  값: 55\n"
     ]
    }
   ],
   "source": [
    "i=0 #i 선언 후 0 입력\n",
    "for a in [\"1\",2,\"3\",55]: #1(문자) 2(숫자) 3(문자) 55(숫자) 순서로 a에 입력한다.\n",
    "    print(\"a[\",i,\"] 자료형:\",type(a),\" 값:\",a) #i번째 값의 자료타입과 그 값을 출력한다.\n",
    "    i+=1 #i 1증가 (0 1 2 3) 값의 배열 위치를 의미한다"
   ]
  },
  {
   "cell_type": "code",
   "execution_count": 302,
   "id": "79d2ae38",
   "metadata": {},
   "outputs": [
    {
     "name": "stdout",
     "output_type": "stream",
     "text": [
      "1 ,2 ,3 ,4 ,5 ,6 ,7 ,8 ,9 ,"
     ]
    }
   ],
   "source": [
    "for i in range(1,10,1): #i에 1부터 10 - 1 까지 1씩 증가하며 값 입력\n",
    "    print(i,\",\",end=\"\") # 1, 2, 3, 4,... 9, 형식으로 출력"
   ]
  },
  {
   "cell_type": "code",
   "execution_count": 303,
   "id": "93ac4499",
   "metadata": {},
   "outputs": [
    {
     "name": "stdout",
     "output_type": "stream",
     "text": [
      "0 ,1 ,2 ,3 ,4 ,5 ,6 ,7 ,8 ,9 ,"
     ]
    }
   ],
   "source": [
    "for i in range(10): #0 1 2 3 .. 9 까지 입력\n",
    "    print(i,\",\",end=\"\") # 받은 값을 형식에 맞게 출력한다."
   ]
  },
  {
   "cell_type": "code",
   "execution_count": 304,
   "id": "68386cc8",
   "metadata": {},
   "outputs": [
    {
     "name": "stdout",
     "output_type": "stream",
     "text": [
      "1 ,2 ,3 ,4 ,5 ,6 ,7 ,8 ,9 ,"
     ]
    }
   ],
   "source": [
    "for i in range(1,10): #1 2 3... 9까지 입력\n",
    "    print(i,\",\",end=\"\") #받은 값을 형식에 맞게 출력한다."
   ]
  },
  {
   "cell_type": "code",
   "execution_count": 305,
   "id": "4a56cca2",
   "metadata": {},
   "outputs": [
    {
     "name": "stdout",
     "output_type": "stream",
     "text": [
      "1 ,3 ,5 ,7 ,9 ,"
     ]
    }
   ],
   "source": [
    "for i in range(1,10,2): #1부터 9까지 2씩 증가하며 i에 입력\n",
    "    print(i,\",\",end=\"\") #받은 값을 형식에 맞게 출력한다."
   ]
  },
  {
   "cell_type": "code",
   "execution_count": 306,
   "id": "c5c50c84",
   "metadata": {},
   "outputs": [
    {
     "name": "stdout",
     "output_type": "stream",
     "text": [
      "10 ,9 ,8 ,7 ,6 ,5 ,4 ,3 ,2 ,1 ,"
     ]
    }
   ],
   "source": [
    "for i in range(10,0,-1): #i에 10부터 1까지 1씩 빼면서 입력\n",
    "    print(i,\",\",end=\"\") #10 9 8 7 .. 1 까지 형식에 맞게 출력한다."
   ]
  },
  {
   "cell_type": "code",
   "execution_count": 307,
   "id": "74af2396",
   "metadata": {},
   "outputs": [
    {
     "name": "stdout",
     "output_type": "stream",
     "text": [
      "0 ,1 ,2 ,"
     ]
    }
   ],
   "source": [
    "for i in range(10): #i에 0부터 9까지 입력\n",
    "    if(i==3): #i가 3이면 for문 탈출\n",
    "        break\n",
    "    print(i,\",\",end=\"\") #i를 형식에 맞게 출력(for 안에 있다)"
   ]
  },
  {
   "cell_type": "code",
   "execution_count": 308,
   "id": "d103687c",
   "metadata": {},
   "outputs": [
    {
     "name": "stdout",
     "output_type": "stream",
     "text": [
      "0 ,1 ,2 ,4 ,5 ,6 ,7 ,8 ,9 ,"
     ]
    }
   ],
   "source": [
    "for i in range(10): #i에 0부터 9까지 입력하는 for문\n",
    "    if(i==3): #i가 3이면 아래를 실행하지않고 for문 으로 돌아가라\n",
    "        continue\n",
    "    print(i,\",\",end=\"\") #i(0 1 2 4 5 6 ..)를 형식에 맞게 출력"
   ]
  },
  {
   "cell_type": "code",
   "execution_count": 309,
   "id": "f325c42e",
   "metadata": {},
   "outputs": [],
   "source": [
    "i=0;sum=0 #i sum 선언후 각각 0 입력"
   ]
  },
  {
   "cell_type": "code",
   "execution_count": 310,
   "id": "b2b616c4",
   "metadata": {},
   "outputs": [],
   "source": [
    "while True: #무한 루프\n",
    "    i+=1;sum+=i #i에 1을 더한다. sum에 i를 더한다\n",
    "    if(i==100): break #i가 100이면 while문을 나간다"
   ]
  },
  {
   "cell_type": "code",
   "execution_count": 311,
   "id": "b6e5eeda",
   "metadata": {},
   "outputs": [
    {
     "name": "stdout",
     "output_type": "stream",
     "text": [
      "i= 100 sum= 5050\n"
     ]
    }
   ],
   "source": [
    " print(\"i=\",i,\"sum=\",sum) #i와 sum을 형식에 맞게 출력한다."
   ]
  },
  {
   "cell_type": "code",
   "execution_count": 312,
   "id": "2b47e30d",
   "metadata": {},
   "outputs": [
    {
     "name": "stdout",
     "output_type": "stream",
     "text": [
      "******************************\n",
      "******************************\n",
      "******************************\n",
      "******************************\n"
     ]
    }
   ],
   "source": [
    "for i in range(1,121): #1부터 121 - 1 까지 도는 for문 작성\n",
    "    print(\"*\",end=\"\") #*을 출력한다.\n",
    "    if(i%30==0): print(end=\"\\n\") #i가 30의 배수일때 줄을 바꾼다"
   ]
  },
  {
   "cell_type": "code",
   "execution_count": 315,
   "id": "436e6669",
   "metadata": {},
   "outputs": [
    {
     "name": "stdout",
     "output_type": "stream",
     "text": [
      "1 * 1 = 1\n",
      "1 * 2 = 2\n",
      "1 * 3 = 3\n",
      "1 * 4 = 4\n",
      "1 * 5 = 5\n",
      "1 * 6 = 6\n",
      "1 * 7 = 7\n",
      "1 * 8 = 8\n",
      "1 * 9 = 9\n",
      "***********\n",
      "2 * 1 = 2\n",
      "2 * 2 = 4\n",
      "2 * 3 = 6\n",
      "2 * 4 = 8\n",
      "2 * 5 = 10\n",
      "2 * 6 = 12\n",
      "2 * 7 = 14\n",
      "2 * 8 = 16\n",
      "2 * 9 = 18\n",
      "***********\n",
      "3 * 1 = 3\n",
      "3 * 2 = 6\n",
      "3 * 3 = 9\n",
      "3 * 4 = 12\n",
      "3 * 5 = 15\n",
      "3 * 6 = 18\n",
      "3 * 7 = 21\n",
      "3 * 8 = 24\n",
      "3 * 9 = 27\n",
      "***********\n",
      "4 * 1 = 4\n",
      "4 * 2 = 8\n",
      "4 * 3 = 12\n",
      "4 * 4 = 16\n",
      "4 * 5 = 20\n",
      "4 * 6 = 24\n",
      "4 * 7 = 28\n",
      "4 * 8 = 32\n",
      "4 * 9 = 36\n",
      "***********\n",
      "5 * 1 = 5\n",
      "5 * 2 = 10\n",
      "5 * 3 = 15\n",
      "5 * 4 = 20\n",
      "5 * 5 = 25\n",
      "5 * 6 = 30\n",
      "5 * 7 = 35\n",
      "5 * 8 = 40\n",
      "5 * 9 = 45\n",
      "***********\n",
      "6 * 1 = 6\n",
      "6 * 2 = 12\n",
      "6 * 3 = 18\n",
      "6 * 4 = 24\n",
      "6 * 5 = 30\n",
      "6 * 6 = 36\n",
      "6 * 7 = 42\n",
      "6 * 8 = 48\n",
      "6 * 9 = 54\n",
      "***********\n",
      "7 * 1 = 7\n",
      "7 * 2 = 14\n",
      "7 * 3 = 21\n",
      "7 * 4 = 28\n",
      "7 * 5 = 35\n",
      "7 * 6 = 42\n",
      "7 * 7 = 49\n",
      "7 * 8 = 56\n",
      "7 * 9 = 63\n",
      "***********\n",
      "8 * 1 = 8\n",
      "8 * 2 = 16\n",
      "8 * 3 = 24\n",
      "8 * 4 = 32\n",
      "8 * 5 = 40\n",
      "8 * 6 = 48\n",
      "8 * 7 = 56\n",
      "8 * 8 = 64\n",
      "8 * 9 = 72\n",
      "***********\n",
      "9 * 1 = 9\n",
      "9 * 2 = 18\n",
      "9 * 3 = 27\n",
      "9 * 4 = 36\n",
      "9 * 5 = 45\n",
      "9 * 6 = 54\n",
      "9 * 7 = 63\n",
      "9 * 8 = 72\n",
      "9 * 9 = 81\n",
      "***********\n"
     ]
    }
   ],
   "source": [
    "for i in range(1,10): #i에 1부터 9까지 1씩 증가하며 입력하는 for문\n",
    "    for j in range(1,10): #j에 1부터 9까지 1씩 증가하며 입력하는 for문 \n",
    "        print( i,\"*\",j,\"=\",i*j) #i * j = 곱한 결과, 를 출력한다.\n",
    "    print(\"***********\") #구분선"
   ]
  },
  {
   "cell_type": "code",
   "execution_count": 316,
   "id": "a14870e6",
   "metadata": {},
   "outputs": [
    {
     "name": "stdout",
     "output_type": "stream",
     "text": [
      "*********\n",
      "********\n",
      "*******\n",
      "******\n",
      "*****\n",
      "****\n",
      "***\n",
      "**\n",
      "*\n"
     ]
    }
   ],
   "source": [
    "for i in range(1,10): #1부터 9까지 입력하는 for문 작성\n",
    "    for j in range(i,10): #i부터 9까지 작성하는 for문 작성\n",
    "        print( \"*\",end=\"\") # 2번째 for문 안에서 10 - i 번 별을 출력\n",
    "    print(end=\"\\n\") #줄을 바꿔준다."
   ]
  },
  {
   "cell_type": "code",
   "execution_count": 317,
   "id": "99986f6f",
   "metadata": {},
   "outputs": [
    {
     "name": "stdout",
     "output_type": "stream",
     "text": [
      "*********\n",
      "********\n",
      "*******\n",
      "******\n",
      "*****\n",
      "****\n",
      "***\n",
      "**\n",
      "*\n"
     ]
    }
   ],
   "source": [
    "i=1 #i에 1입력\n",
    "while True: #첫번째 무한루프 생성\n",
    "    j=i #j에 i할당, 늘어났던 j에 i를 넣어주는 역할\n",
    "    while True: #두번째 무한루프 생성\n",
    "        if(j==10): #j가 10이라면 무한루프 탈출\n",
    "            break\n",
    "        print( \"*\",end=\"\") # j가 10이 될때까지 *을 찍는다,\n",
    "        j+=1 #j 1증가\n",
    "    if(i==10):\n",
    "        break #i가 10이면 첫번째 무한루프 탈출(끝을 의미)\n",
    "    print(end=\"\\n\") #줄바꿈을 해준다.\n",
    "    i+=1 #i가 1증가"
   ]
  },
  {
   "cell_type": "code",
   "execution_count": 318,
   "id": "cc583dda",
   "metadata": {},
   "outputs": [
    {
     "name": "stdout",
     "output_type": "stream",
     "text": [
      "1 월 :1,2,3,4,5,6,7,8,9,10,11,12,13,14,15,16,17,18,19,20,21,22,23,24,25,26,27,28,29,30,31,\n",
      "2 월 :1,2,3,4,5,6,7,8,9,10,11,12,13,14,15,16,17,18,19,20,21,22,23,24,25,26,27,28,\n",
      "3 월 :1,2,3,4,5,6,7,8,9,10,11,12,13,14,15,16,17,18,19,20,21,22,23,24,25,26,27,28,29,30,31,\n",
      "4 월 :1,2,3,4,5,6,7,8,9,10,11,12,13,14,15,16,17,18,19,20,21,22,23,24,25,26,27,28,29,30,\n",
      "5 월 :1,2,3,4,5,6,7,8,9,10,11,12,13,14,15,16,17,18,19,20,21,22,23,24,25,26,27,28,29,30,31,\n",
      "6 월 :1,2,3,4,5,6,7,8,9,10,11,12,13,14,15,16,17,18,19,20,21,22,23,24,25,26,27,28,29,30,\n",
      "7 월 :1,2,3,4,5,6,7,8,9,10,11,12,13,14,15,16,17,18,19,20,21,22,23,24,25,26,27,28,29,30,31,\n",
      "8 월 :1,2,3,4,5,6,7,8,9,10,11,12,13,14,15,16,17,18,19,20,21,22,23,24,25,26,27,28,29,30,31,\n",
      "9 월 :1,2,3,4,5,6,7,8,9,10,11,12,13,14,15,16,17,18,19,20,21,22,23,24,25,26,27,28,29,30,\n",
      "10 월 :1,2,3,4,5,6,7,8,9,10,11,12,13,14,15,16,17,18,19,20,21,22,23,24,25,26,27,28,29,30,31,\n",
      "11 월 :1,2,3,4,5,6,7,8,9,10,11,12,13,14,15,16,17,18,19,20,21,22,23,24,25,26,27,28,29,30,\n",
      "12 월 :1,2,3,4,5,6,7,8,9,10,11,12,13,14,15,16,17,18,19,20,21,22,23,24,25,26,27,28,29,30,31,\n"
     ]
    }
   ],
   "source": [
    "Mon=1 # 1월달, 12까지 늘어날 예정\n",
    "for LastDay in [31,28,31,30,31,30,31,31,30,31,30,31]: #매 월의 마지막 날을 담아놓은 배열에서 하나씩 LastDay에 입력\n",
    "    print(Mon,\"월 :\",end=\"\") #현재 월 출력\n",
    "    for Day in range(1,LastDay+1): #1부터 마지막날까지 형식에 맞게 출력한다.\n",
    "        print(Day,end=\",\")\n",
    "    print(end=\"\\n\") #한달이 끝나면 줄바꾼다\n",
    "    Mon+=1 #Mon 1증가 (for문이 12번 돌 예정이라 1부터 12까지 증가하고 마지막엔 13에서 끝난다.)"
   ]
  },
  {
   "cell_type": "code",
   "execution_count": 320,
   "id": "6b475a74",
   "metadata": {},
   "outputs": [
    {
     "name": "stdout",
     "output_type": "stream",
     "text": [
      "2 * 2 = 4\t3 * 2 = 4\t4 * 2 = 4\n",
      "2 * 3 = 6\t3 * 3 = 6\t4 * 3 = 6\n",
      "2 * 4 = 8\t3 * 4 = 8\t4 * 4 = 8\n",
      "2 * 5 = 10\t3 * 5 = 10\t4 * 5 = 10\n",
      "2 * 6 = 12\t3 * 6 = 12\t4 * 6 = 12\n",
      "2 * 7 = 14\t3 * 7 = 14\t4 * 7 = 14\n",
      "2 * 8 = 16\t3 * 8 = 16\t4 * 8 = 16\n",
      "2 * 9 = 18\t3 * 9 = 18\t4 * 9 = 18\n",
      "\n",
      "5 * 2 = 10\t6 * 2 = 10\t7 * 2 = 10\n",
      "5 * 3 = 15\t6 * 3 = 15\t7 * 3 = 15\n",
      "5 * 4 = 20\t6 * 4 = 20\t7 * 4 = 20\n",
      "5 * 5 = 25\t6 * 5 = 25\t7 * 5 = 25\n",
      "5 * 6 = 30\t6 * 6 = 30\t7 * 6 = 30\n",
      "5 * 7 = 35\t6 * 7 = 35\t7 * 7 = 35\n",
      "5 * 8 = 40\t6 * 8 = 40\t7 * 8 = 40\n",
      "5 * 9 = 45\t6 * 9 = 45\t7 * 9 = 45\n",
      "\n",
      "8 * 2 = 16\t9 * 2 = 16\t\n",
      "8 * 3 = 24\t9 * 3 = 24\t\n",
      "8 * 4 = 32\t9 * 4 = 32\t\n",
      "8 * 5 = 40\t9 * 5 = 40\t\n",
      "8 * 6 = 48\t9 * 6 = 48\t\n",
      "8 * 7 = 56\t9 * 7 = 56\t\n",
      "8 * 8 = 64\t9 * 8 = 64\t\n",
      "8 * 9 = 72\t9 * 9 = 72\t\n",
      "\n"
     ]
    }
   ],
   "source": [
    "for i in range(2,10,3): #2부터 9까지 3씩 증가하며 i에 입력하는 for문\n",
    "    for j in range(2,10): #2부터 9까지 1씩 증가하며 j에 입력하는 for문\n",
    "        print(i,\"*\",j,\"=\",i*j,end=\"\\t\") #i*j=결과 출력, 마지막에 탭 넣기\n",
    "        print(i+1,\"*\",j,\"=\",i*j,end=\"\\t\") #i+1 단 출력\n",
    "        if(i+2!=10): #10단 이 아니면 출력, 10단이면 종료\n",
    "            print(i+2,\"*\",j,\"=\",i*j,end=\"\\n\") #1+2단 출력\n",
    "        else:\n",
    "            print(end=\"\\n\") # 줄바꿈\n",
    "    print(end=\"\\n\") #줄바꿈"
   ]
  },
  {
   "cell_type": "code",
   "execution_count": 321,
   "id": "780df71c",
   "metadata": {},
   "outputs": [
    {
     "name": "stdout",
     "output_type": "stream",
     "text": [
      "2 * 2 = 4\t5 * 2 = 4\t8 * 2 = 4\n",
      "2 * 3 = 6\t5 * 3 = 6\t8 * 3 = 6\n",
      "2 * 4 = 8\t5 * 4 = 8\t8 * 4 = 8\n",
      "2 * 5 = 10\t5 * 5 = 10\t8 * 5 = 10\n",
      "2 * 6 = 12\t5 * 6 = 12\t8 * 6 = 12\n",
      "2 * 7 = 14\t5 * 7 = 14\t8 * 7 = 14\n",
      "2 * 8 = 16\t5 * 8 = 16\t8 * 8 = 16\n",
      "2 * 9 = 18\t5 * 9 = 18\t8 * 9 = 18\n",
      "\n",
      "3 * 2 = 6\t6 * 2 = 6\t9 * 2 = 6\n",
      "3 * 3 = 9\t6 * 3 = 9\t9 * 3 = 9\n",
      "3 * 4 = 12\t6 * 4 = 12\t9 * 4 = 12\n",
      "3 * 5 = 15\t6 * 5 = 15\t9 * 5 = 15\n",
      "3 * 6 = 18\t6 * 6 = 18\t9 * 6 = 18\n",
      "3 * 7 = 21\t6 * 7 = 21\t9 * 7 = 21\n",
      "3 * 8 = 24\t6 * 8 = 24\t9 * 8 = 24\n",
      "3 * 9 = 27\t6 * 9 = 27\t9 * 9 = 27\n",
      "\n",
      "4 * 2 = 8\t7 * 2 = 8\t\n",
      "4 * 3 = 12\t7 * 3 = 12\t\n",
      "4 * 4 = 16\t7 * 4 = 16\t\n",
      "4 * 5 = 20\t7 * 5 = 20\t\n",
      "4 * 6 = 24\t7 * 6 = 24\t\n",
      "4 * 7 = 28\t7 * 7 = 28\t\n",
      "4 * 8 = 32\t7 * 8 = 32\t\n",
      "4 * 9 = 36\t7 * 9 = 36\t\n",
      "\n"
     ]
    }
   ],
   "source": [
    "for i in range(2,5): #i 에 2 3 4 입력 하는 for문\n",
    "    for j in range(2,10): #2부터 9까지 곱할 for문 작성\n",
    "        print(i,\"*\",j,\"=\",i*j,end=\"\\t\") #i*j=결과값 + 탭 을 출력한다.\n",
    "        print(i+3,\"*\",j,\"=\",i*j,end=\"\\t\") #2, 5, 8 / 3, 6, 9 / 4, 7 으로 출력\n",
    "        if(i+6!=10): print(i+6,\"*\",j,\"=\",i*j,end=\"\\n\") # 10일때는 출력하지 않는다\n",
    "        else: print(end=\"\\n\") #줄바꿈\n",
    "    print(end=\"\\n\") #줄바꿈"
   ]
  },
  {
   "cell_type": "code",
   "execution_count": 324,
   "id": "384a38cc",
   "metadata": {},
   "outputs": [
    {
     "name": "stdout",
     "output_type": "stream",
     "text": [
      "별10개 찍기\n",
      "**********\n",
      "\n",
      "별3개 찍기\n",
      "***\n",
      "\n",
      "별5개 찍기\n",
      "*****\n",
      "\n"
     ]
    }
   ],
   "source": [
    "print(\"별10개 찍기\") #메세지 출력\n",
    "for i in range(10): #0부터 9까지 반복한다.\n",
    "    print(\"*\",end=\"\") #for문에서 별 찍기\n",
    "print(\"\\n\") #줄바꿈\n",
    "\n",
    "print(\"별3개 찍기\") #메세지 출력\n",
    "for i in range(3): #0부터 9까지 반복한다.\n",
    "    print(\"*\",end=\"\") #for문에서 별 찍기\n",
    "print(\"\\n\") #줄바꿈\n",
    "\n",
    "print(\"별5개 찍기\") #메세지 출력\n",
    "for i in range(5): #0부터 9까지 반복한다.\n",
    "    print(\"*\",end=\"\") #for문에서 별 찍기\n",
    "print(\"\\n\") #줄바꿈"
   ]
  },
  {
   "cell_type": "code",
   "execution_count": 325,
   "id": "d1b98e07",
   "metadata": {},
   "outputs": [
    {
     "name": "stdout",
     "output_type": "stream",
     "text": [
      "별10개 찍기\n",
      "**********\n",
      "\n",
      "별3개 찍기\n",
      "***\n",
      "\n",
      "별5개 찍기\n",
      "*****\n",
      "\n"
     ]
    }
   ],
   "source": [
    "def starprint(n): #함수 선언. n을 인수로 받음\n",
    "    for i in range(n): # 0부터 변수로 받은 n-1까지 입력하는 for문\n",
    "        print(\"*\",end=\"\") #별출력(줄은 바꾸지않는다)\n",
    "    print(\"\\n\") #줄바꿈\n",
    "\n",
    "print(\"별10개 찍기\");starprint(10) #n에 10 넣고 함수 실행\n",
    "print(\"별3개 찍기\");starprint(3) #n에 3 넣고 함수 실행\n",
    "print(\"별5개 찍기\");starprint(5) #n에 5 넣고 함수 실행"
   ]
  },
  {
   "cell_type": "code",
   "execution_count": 326,
   "id": "3f0d4c19",
   "metadata": {},
   "outputs": [
    {
     "name": "stdout",
     "output_type": "stream",
     "text": [
      "1~10까지의 합: 55\n",
      "1~1000까지의 합: 500500\n",
      "1~10000까지의 합: 50005000\n"
     ]
    }
   ],
   "source": [
    "def intsum(n): #함수 선언, n을 인수로 받음\n",
    "    sum=0; #sum 선언후 0 지정\n",
    "    for i in range(1,n+1,1): #i에 1부터 n까지 입력하는 for문 작성\n",
    "        sum+=i #sum에 i를 더한다(1 2 3 .. i) \n",
    "    return sum #sum을 반환한다.\n",
    "\n",
    "print(\"1~10까지의 합:\",intsum(10)) #1부터 10까지 합을 반환한다.\n",
    "print(\"1~1000까지의 합:\",intsum(1000)) #1부터 1000까지 합을 반환한다.\n",
    "print(\"1~10000까지의 합:\",intsum(10000)) #1부터 10000까지 합을 반환한다."
   ]
  },
  {
   "cell_type": "code",
   "execution_count": 327,
   "id": "c04ddc07",
   "metadata": {},
   "outputs": [
    {
     "name": "stdout",
     "output_type": "stream",
     "text": [
      "1~10까지의 합: 55\n",
      "100~1000까지의 합: 495550\n",
      "5000~10000까지의 합: 37507500\n"
     ]
    }
   ],
   "source": [
    "def intsum(x,y): #함수선언, 인수로 x와y를 받는다\n",
    "    sum=0; #sum 선언후 0입력\n",
    "    for i in range(x,y+1,1): #i에 x부터 y까지 1씩 증가하며 입력\n",
    "        sum+=i #sum에 i를 더한다.\n",
    "    return sum #sum을 반환\n",
    "\n",
    "print(\"1~10까지의 합:\",intsum(1,10)) #1부터 10까지의 합\n",
    "print(\"100~1000까지의 합:\",intsum(100,1000)) #100부터 1000까지의 합\n",
    "print(\"5000~10000까지의 합:\",intsum(5000,10000)) #5000부터 10000까지의 합"
   ]
  },
  {
   "cell_type": "code",
   "execution_count": 328,
   "id": "f319432d",
   "metadata": {},
   "outputs": [
    {
     "name": "stdout",
     "output_type": "stream",
     "text": [
      "1~10까지의 합에 5를 더함: 60\n",
      "100~1000까지의 합에 33을 곱함: 16353150\n"
     ]
    }
   ],
   "source": [
    "def intsum(x,y): #함수 선언, x y 를 인수로 받는다\n",
    "    sum=0; # sum 선언후 0입력\n",
    "    for i in range(x,y+1,1): #x부터 y까지 1씩 증가하며 입력하는 for문 작성\n",
    "        sum+=i #sum에 i를 더한다. \n",
    "    return sum #sum 반환\n",
    "\n",
    "print(\"1~10까지의 합에 5를 더함:\",intsum(1,10)+5) #1부터 10까지 합에 5를 더한다\n",
    "i=intsum(100,1000)*33 #100부터 1000까지의 합에 33을 곱한다\n",
    "print(\"100~1000까지의 합에 33을 곱함:\",i) #위 i값을 출력한다."
   ]
  },
  {
   "cell_type": "code",
   "execution_count": 330,
   "id": "89c38dbe",
   "metadata": {},
   "outputs": [
    {
     "name": "stdout",
     "output_type": "stream",
     "text": [
      "함수내부에서 sum값을 출력: 495550\n",
      "100~1000까지의 합: None\n",
      "100~1000까지의 합에 33을 곱함: None\n"
     ]
    }
   ],
   "source": [
    "def intsum(x,y): #함수 선언, x y를 인수로 받는다\n",
    "    sum=0; #sum 선언 후, 0 입력\n",
    "    for i in range(x,y+1,1): #i에 x부터 y까지 1씩 증가하는 for문 작상\n",
    "        sum+=i #sum에 i를 더한다\n",
    "    print(\"함수내부에서 sum값을 출력:\",sum) #sum을 형식에 맞게 출력한다.\n",
    "\n",
    "i=intsum(100,1000) #i에 리턴값이 없는 함수를 넣는다.(None이 뜸)\n",
    "print(\"100~1000까지의 합:\",i) #i를 출력\n",
    "print(\"100~1000까지의 합에 33을 곱함:\",i) #i를 출력"
   ]
  },
  {
   "cell_type": "code",
   "execution_count": null,
   "id": "dc0b7b95",
   "metadata": {},
   "outputs": [],
   "source": [
    "댕"
   ]
  }
 ],
 "metadata": {
  "kernelspec": {
   "display_name": "Python 3 (ipykernel)",
   "language": "python",
   "name": "python3"
  },
  "language_info": {
   "codemirror_mode": {
    "name": "ipython",
    "version": 3
   },
   "file_extension": ".py",
   "mimetype": "text/x-python",
   "name": "python",
   "nbconvert_exporter": "python",
   "pygments_lexer": "ipython3",
   "version": "3.10.4"
  }
 },
 "nbformat": 4,
 "nbformat_minor": 5
}
